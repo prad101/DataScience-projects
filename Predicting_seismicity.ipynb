{
 "cells": [
  {
   "cell_type": "code",
   "execution_count": 7,
   "metadata": {},
   "outputs": [
    {
     "name": "stdout",
     "output_type": "stream",
     "text": [
      "                      Time Drill Centre Well_Name      BHP.kPag    BHT.degC  \\\n",
      "0      2017-01-01 00:00:00            A        W1      0.000000  214.000000   \n",
      "1      2017-01-01 01:00:00            A        W1      0.000000  214.000000   \n",
      "2      2017-01-01 02:00:00            A        W1      0.000000  214.000000   \n",
      "3      2017-01-01 03:00:00            A        W1      0.000000  214.000000   \n",
      "4      2017-01-01 04:00:00            A        W1      0.000000  214.000000   \n",
      "...                    ...          ...       ...           ...         ...   \n",
      "121567 2018-06-16 06:00:00            A        W1  22893.059663   83.961962   \n",
      "121568 2018-06-16 07:00:00            C        W9      0.000000    0.000000   \n",
      "121569 2018-06-16 07:00:00            C        W7  22479.058999   81.909105   \n",
      "121570 2018-06-16 07:00:00            A        W2  22699.762261   83.048680   \n",
      "121571 2018-06-16 06:00:00            B        W6  22111.931131   82.637075   \n",
      "\n",
      "        CO2 Injection Rate (kg/s)  Cumm Inj (Tonnes)  \n",
      "0                             0.0           0.000000  \n",
      "1                             0.0           0.000000  \n",
      "2                             0.0           0.000000  \n",
      "3                             0.0           0.000000  \n",
      "4                             0.0           0.000000  \n",
      "...                           ...                ...  \n",
      "121567                        NaN      320913.595880  \n",
      "121568                        NaN      272278.400641  \n",
      "121569                        NaN      303760.299969  \n",
      "121570                        NaN      385324.339153  \n",
      "121571                        NaN      182214.695395  \n",
      "\n",
      "[121572 rows x 7 columns]\n",
      "        X       Y               Date/Time  Magnitude Cluster\n",
      "0    8009  104070 2017-09-05 01:27:55.400       -2.1     C-5\n",
      "1    7728  104155 2017-09-25 16:38:05.000       -1.4     C-6\n",
      "2    6712  104286 2017-10-02 09:48:25.600       -1.6     C-6\n",
      "3    7649  104192 2017-10-07 13:32:05.700       -2.1     C-6\n",
      "4    7683  104270 2017-10-08 05:23:34.000       -2.1     C-6\n",
      "..    ...     ...                     ...        ...     ...\n",
      "832  9244  103167 2018-07-12 11:42:45.700       -1.2     C-3\n",
      "833  7782  105367 2018-07-13 01:06:40.300       -1.2     C-7\n",
      "834  9760  103680 2018-07-13 11:19:24.900       -0.9    C-12\n",
      "835  7400  104520 2018-07-13 21:38:36.800       -1.4     C-6\n",
      "836  6680  104760 2018-07-14 01:00:23.200       -0.9     C-6\n",
      "\n",
      "[837 rows x 5 columns]\n"
     ]
    }
   ],
   "source": [
    "import pandas as pd\n",
    "inj=pd.read_excel(\"injection_data.xlsx\")\n",
    "eve=pd.read_excel(\"events_data.xlsx\")\n",
    "print(inj)\n",
    "print(eve)"
   ]
  },
  {
   "cell_type": "code",
   "execution_count": 8,
   "metadata": {},
   "outputs": [
    {
     "data": {
      "application/vnd.jupyter.widget-view+json": {
       "model_id": "bdbe7423f74948148f8e245e0bcc6a1b",
       "version_major": 2,
       "version_minor": 0
      },
      "text/plain": [
       "HBox(children=(FloatProgress(value=0.0, description='Summarize dataset', max=21.0, style=ProgressStyle(descrip…"
      ]
     },
     "metadata": {},
     "output_type": "display_data"
    },
    {
     "name": "stdout",
     "output_type": "stream",
     "text": [
      "\n"
     ]
    },
    {
     "data": {
      "application/vnd.jupyter.widget-view+json": {
       "model_id": "d1afbd9ecb9b4146b3a4043cfe4dba5c",
       "version_major": 2,
       "version_minor": 0
      },
      "text/plain": [
       "HBox(children=(FloatProgress(value=0.0, description='Generate report structure', max=1.0, style=ProgressStyle(…"
      ]
     },
     "metadata": {},
     "output_type": "display_data"
    },
    {
     "name": "stdout",
     "output_type": "stream",
     "text": [
      "\n"
     ]
    },
    {
     "data": {
      "application/vnd.jupyter.widget-view+json": {
       "model_id": "d83a8562dec043c392c03ff3e045182d",
       "version_major": 2,
       "version_minor": 0
      },
      "text/plain": [
       "HBox(children=(FloatProgress(value=0.0, description='Render HTML', max=1.0, style=ProgressStyle(description_wi…"
      ]
     },
     "metadata": {},
     "output_type": "display_data"
    },
    {
     "name": "stdout",
     "output_type": "stream",
     "text": [
      "\n"
     ]
    },
    {
     "data": {
      "application/vnd.jupyter.widget-view+json": {
       "model_id": "6369923dcfa04c5a8025c9c0c418d298",
       "version_major": 2,
       "version_minor": 0
      },
      "text/plain": [
       "HBox(children=(FloatProgress(value=0.0, description='Export report to file', max=1.0, style=ProgressStyle(desc…"
      ]
     },
     "metadata": {},
     "output_type": "display_data"
    },
    {
     "name": "stdout",
     "output_type": "stream",
     "text": [
      "\n"
     ]
    }
   ],
   "source": [
    "from pandas_profiling import ProfileReport\n",
    "\n",
    "prof=ProfileReport(inj)\n",
    "prof.to_file(output_file='injprof.html')"
   ]
  },
  {
   "cell_type": "code",
   "execution_count": 9,
   "metadata": {},
   "outputs": [
    {
     "data": {
      "text/plain": [
       "BHP.kPag                       6909.955967\n",
       "BHT.degC                         32.026224\n",
       "CO2 Injection Rate (kg/s)        10.381882\n",
       "Cumm Inj (Tonnes)            100480.865152\n",
       "dtype: float64"
      ]
     },
     "execution_count": 9,
     "metadata": {},
     "output_type": "execute_result"
    }
   ],
   "source": [
    "inj.std()"
   ]
  },
  {
   "cell_type": "code",
   "execution_count": 10,
   "metadata": {},
   "outputs": [
    {
     "name": "stderr",
     "output_type": "stream",
     "text": [
      "D:\\Anaconda\\lib\\site-packages\\ipykernel_launcher.py:1: FutureWarning: DataFrame.mean and DataFrame.median with numeric_only=None will include datetime64 and datetime64tz columns in a future version.\n",
      "  \"\"\"Entry point for launching an IPython kernel.\n"
     ]
    },
    {
     "data": {
      "text/plain": [
       "BHP.kPag                     20687.707637\n",
       "BHT.degC                        92.441888\n",
       "CO2 Injection Rate (kg/s)        0.000000\n",
       "Cumm Inj (Tonnes)            13268.629596\n",
       "dtype: float64"
      ]
     },
     "execution_count": 10,
     "metadata": {},
     "output_type": "execute_result"
    }
   ],
   "source": [
    "inj.median()"
   ]
  },
  {
   "cell_type": "code",
   "execution_count": 11,
   "metadata": {},
   "outputs": [
    {
     "data": {
      "text/html": [
       "<div>\n",
       "<style scoped>\n",
       "    .dataframe tbody tr th:only-of-type {\n",
       "        vertical-align: middle;\n",
       "    }\n",
       "\n",
       "    .dataframe tbody tr th {\n",
       "        vertical-align: top;\n",
       "    }\n",
       "\n",
       "    .dataframe thead th {\n",
       "        text-align: right;\n",
       "    }\n",
       "</style>\n",
       "<table border=\"1\" class=\"dataframe\">\n",
       "  <thead>\n",
       "    <tr style=\"text-align: right;\">\n",
       "      <th></th>\n",
       "      <th>Time</th>\n",
       "      <th>Drill Centre</th>\n",
       "      <th>Well_Name</th>\n",
       "      <th>BHP.kPag</th>\n",
       "      <th>BHT.degC</th>\n",
       "      <th>CO2 Injection Rate (kg/s)</th>\n",
       "      <th>Cumm Inj (Tonnes)</th>\n",
       "    </tr>\n",
       "  </thead>\n",
       "  <tbody>\n",
       "    <tr>\n",
       "      <th>0</th>\n",
       "      <td>False</td>\n",
       "      <td>False</td>\n",
       "      <td>False</td>\n",
       "      <td>False</td>\n",
       "      <td>False</td>\n",
       "      <td>False</td>\n",
       "      <td>False</td>\n",
       "    </tr>\n",
       "    <tr>\n",
       "      <th>1</th>\n",
       "      <td>False</td>\n",
       "      <td>False</td>\n",
       "      <td>False</td>\n",
       "      <td>False</td>\n",
       "      <td>False</td>\n",
       "      <td>False</td>\n",
       "      <td>False</td>\n",
       "    </tr>\n",
       "    <tr>\n",
       "      <th>2</th>\n",
       "      <td>False</td>\n",
       "      <td>False</td>\n",
       "      <td>False</td>\n",
       "      <td>False</td>\n",
       "      <td>False</td>\n",
       "      <td>False</td>\n",
       "      <td>False</td>\n",
       "    </tr>\n",
       "    <tr>\n",
       "      <th>3</th>\n",
       "      <td>False</td>\n",
       "      <td>False</td>\n",
       "      <td>False</td>\n",
       "      <td>False</td>\n",
       "      <td>False</td>\n",
       "      <td>False</td>\n",
       "      <td>False</td>\n",
       "    </tr>\n",
       "    <tr>\n",
       "      <th>4</th>\n",
       "      <td>False</td>\n",
       "      <td>False</td>\n",
       "      <td>False</td>\n",
       "      <td>False</td>\n",
       "      <td>False</td>\n",
       "      <td>False</td>\n",
       "      <td>False</td>\n",
       "    </tr>\n",
       "    <tr>\n",
       "      <th>...</th>\n",
       "      <td>...</td>\n",
       "      <td>...</td>\n",
       "      <td>...</td>\n",
       "      <td>...</td>\n",
       "      <td>...</td>\n",
       "      <td>...</td>\n",
       "      <td>...</td>\n",
       "    </tr>\n",
       "    <tr>\n",
       "      <th>121567</th>\n",
       "      <td>False</td>\n",
       "      <td>False</td>\n",
       "      <td>False</td>\n",
       "      <td>False</td>\n",
       "      <td>False</td>\n",
       "      <td>True</td>\n",
       "      <td>False</td>\n",
       "    </tr>\n",
       "    <tr>\n",
       "      <th>121568</th>\n",
       "      <td>False</td>\n",
       "      <td>False</td>\n",
       "      <td>False</td>\n",
       "      <td>False</td>\n",
       "      <td>False</td>\n",
       "      <td>True</td>\n",
       "      <td>False</td>\n",
       "    </tr>\n",
       "    <tr>\n",
       "      <th>121569</th>\n",
       "      <td>False</td>\n",
       "      <td>False</td>\n",
       "      <td>False</td>\n",
       "      <td>False</td>\n",
       "      <td>False</td>\n",
       "      <td>True</td>\n",
       "      <td>False</td>\n",
       "    </tr>\n",
       "    <tr>\n",
       "      <th>121570</th>\n",
       "      <td>False</td>\n",
       "      <td>False</td>\n",
       "      <td>False</td>\n",
       "      <td>False</td>\n",
       "      <td>False</td>\n",
       "      <td>True</td>\n",
       "      <td>False</td>\n",
       "    </tr>\n",
       "    <tr>\n",
       "      <th>121571</th>\n",
       "      <td>False</td>\n",
       "      <td>False</td>\n",
       "      <td>False</td>\n",
       "      <td>False</td>\n",
       "      <td>False</td>\n",
       "      <td>True</td>\n",
       "      <td>False</td>\n",
       "    </tr>\n",
       "  </tbody>\n",
       "</table>\n",
       "<p>121572 rows × 7 columns</p>\n",
       "</div>"
      ],
      "text/plain": [
       "         Time  Drill Centre  Well_Name  BHP.kPag  BHT.degC  \\\n",
       "0       False         False      False     False     False   \n",
       "1       False         False      False     False     False   \n",
       "2       False         False      False     False     False   \n",
       "3       False         False      False     False     False   \n",
       "4       False         False      False     False     False   \n",
       "...       ...           ...        ...       ...       ...   \n",
       "121567  False         False      False     False     False   \n",
       "121568  False         False      False     False     False   \n",
       "121569  False         False      False     False     False   \n",
       "121570  False         False      False     False     False   \n",
       "121571  False         False      False     False     False   \n",
       "\n",
       "        CO2 Injection Rate (kg/s)  Cumm Inj (Tonnes)  \n",
       "0                           False              False  \n",
       "1                           False              False  \n",
       "2                           False              False  \n",
       "3                           False              False  \n",
       "4                           False              False  \n",
       "...                           ...                ...  \n",
       "121567                       True              False  \n",
       "121568                       True              False  \n",
       "121569                       True              False  \n",
       "121570                       True              False  \n",
       "121571                       True              False  \n",
       "\n",
       "[121572 rows x 7 columns]"
      ]
     },
     "execution_count": 11,
     "metadata": {},
     "output_type": "execute_result"
    }
   ],
   "source": [
    "inj.isnull()"
   ]
  },
  {
   "cell_type": "code",
   "execution_count": 12,
   "metadata": {},
   "outputs": [
    {
     "data": {
      "text/plain": [
       "0         False\n",
       "1         False\n",
       "2         False\n",
       "3         False\n",
       "4         False\n",
       "          ...  \n",
       "121567     True\n",
       "121568     True\n",
       "121569     True\n",
       "121570     True\n",
       "121571     True\n",
       "Name: CO2 Injection Rate (kg/s), Length: 121572, dtype: bool"
      ]
     },
     "execution_count": 12,
     "metadata": {},
     "output_type": "execute_result"
    }
   ],
   "source": [
    "inj[\"CO2 Injection Rate (kg/s)\"].isnull()"
   ]
  },
  {
   "cell_type": "code",
   "execution_count": 13,
   "metadata": {},
   "outputs": [],
   "source": [
    "evee=eve.drop(columns={\"X\",\"Y\"})"
   ]
  },
  {
   "cell_type": "code",
   "execution_count": 14,
   "metadata": {},
   "outputs": [],
   "source": [
    "evee.to_excel(\"event1.xlsx\",index=None)"
   ]
  },
  {
   "cell_type": "code",
   "execution_count": 15,
   "metadata": {},
   "outputs": [
    {
     "name": "stdout",
     "output_type": "stream",
     "text": [
      "                  Date/Time  Magnitude Cluster\n",
      "0   2017-09-05 01:27:55.400       -2.1     C-5\n",
      "1   2017-09-25 16:38:05.000       -1.4     C-6\n",
      "2   2017-10-02 09:48:25.600       -1.6     C-6\n",
      "3   2017-10-07 13:32:05.700       -2.1     C-6\n",
      "4   2017-10-08 05:23:34.000       -2.1     C-6\n",
      "..                      ...        ...     ...\n",
      "832 2018-07-12 11:42:45.700       -1.2     C-3\n",
      "833 2018-07-13 01:06:40.300       -1.2     C-7\n",
      "834 2018-07-13 11:19:24.900       -0.9    C-12\n",
      "835 2018-07-13 21:38:36.800       -1.4     C-6\n",
      "836 2018-07-14 01:00:23.200       -0.9     C-6\n",
      "\n",
      "[837 rows x 3 columns]\n"
     ]
    }
   ],
   "source": [
    "print(evee)"
   ]
  },
  {
   "cell_type": "code",
   "execution_count": null,
   "metadata": {},
   "outputs": [],
   "source": []
  },
  {
   "cell_type": "code",
   "execution_count": 16,
   "metadata": {},
   "outputs": [],
   "source": [
    "c1=evee[\"Magnitude\"].astype('category').cat.codes\n",
    "c2=evee[\"Cluster\"].astype('category').cat.codes\n",
    "correl=c1.corr(c2)"
   ]
  },
  {
   "cell_type": "code",
   "execution_count": 17,
   "metadata": {},
   "outputs": [
    {
     "name": "stdout",
     "output_type": "stream",
     "text": [
      "0.17322420322002227\n",
      "0       8\n",
      "1       9\n",
      "2       9\n",
      "3       9\n",
      "4       9\n",
      "       ..\n",
      "832     6\n",
      "833    10\n",
      "834     3\n",
      "835     9\n",
      "836     9\n",
      "Length: 837, dtype: int8\n"
     ]
    }
   ],
   "source": [
    "print(correl)\n",
    "print(c2)"
   ]
  },
  {
   "cell_type": "code",
   "execution_count": 18,
   "metadata": {},
   "outputs": [
    {
     "name": "stdout",
     "output_type": "stream",
     "text": [
      "                  Date/Time  Magnitude Cluster\n",
      "0   2017-09-05 01:27:55.400       -2.1     C-5\n",
      "1   2017-09-25 16:38:05.000       -1.4     C-6\n",
      "2   2017-10-02 09:48:25.600       -1.6     C-6\n",
      "3   2017-10-07 13:32:05.700       -2.1     C-6\n",
      "4   2017-10-08 05:23:34.000       -2.1     C-6\n",
      "..                      ...        ...     ...\n",
      "832 2018-07-12 11:42:45.700       -1.2     C-3\n",
      "833 2018-07-13 01:06:40.300       -1.2     C-7\n",
      "834 2018-07-13 11:19:24.900       -0.9    C-12\n",
      "835 2018-07-13 21:38:36.800       -1.4     C-6\n",
      "836 2018-07-14 01:00:23.200       -0.9     C-6\n",
      "\n",
      "[837 rows x 3 columns]\n"
     ]
    }
   ],
   "source": [
    "print(evee)"
   ]
  },
  {
   "cell_type": "code",
   "execution_count": 25,
   "metadata": {},
   "outputs": [
    {
     "data": {
      "text/html": [
       "<div>\n",
       "<style scoped>\n",
       "    .dataframe tbody tr th:only-of-type {\n",
       "        vertical-align: middle;\n",
       "    }\n",
       "\n",
       "    .dataframe tbody tr th {\n",
       "        vertical-align: top;\n",
       "    }\n",
       "\n",
       "    .dataframe thead th {\n",
       "        text-align: right;\n",
       "    }\n",
       "</style>\n",
       "<table border=\"1\" class=\"dataframe\">\n",
       "  <thead>\n",
       "    <tr style=\"text-align: right;\">\n",
       "      <th></th>\n",
       "      <th>Time</th>\n",
       "      <th>Drill Centre</th>\n",
       "      <th>Well_Name</th>\n",
       "      <th>BHP.kPag</th>\n",
       "      <th>BHT.degC</th>\n",
       "      <th>CO2 Injection Rate (kg/s)</th>\n",
       "      <th>Cumm Inj (Tonnes)</th>\n",
       "    </tr>\n",
       "  </thead>\n",
       "  <tbody>\n",
       "  </tbody>\n",
       "</table>\n",
       "</div>"
      ],
      "text/plain": [
       "Empty DataFrame\n",
       "Columns: [Time, Drill Centre, Well_Name, BHP.kPag, BHT.degC, CO2 Injection Rate (kg/s), Cumm Inj (Tonnes)]\n",
       "Index: []"
      ]
     },
     "execution_count": 25,
     "metadata": {},
     "output_type": "execute_result"
    }
   ],
   "source": [
    "inj.loc['2018-01-03':'2018-12-01']"
   ]
  },
  {
   "cell_type": "code",
   "execution_count": 34,
   "metadata": {},
   "outputs": [
    {
     "ename": "SyntaxError",
     "evalue": "keyword can't be an expression (<ipython-input-34-f0c7af2b55bf>, line 1)",
     "output_type": "error",
     "traceback": [
      "\u001b[1;36m  File \u001b[1;32m\"<ipython-input-34-f0c7af2b55bf>\"\u001b[1;36m, line \u001b[1;32m1\u001b[0m\n\u001b[1;33m    print(inj[\"Well_Name\"]=\"W1\")\u001b[0m\n\u001b[1;37m         ^\u001b[0m\n\u001b[1;31mSyntaxError\u001b[0m\u001b[1;31m:\u001b[0m keyword can't be an expression\n"
     ]
    }
   ],
   "source": [
    "print(inj[\"Well_Name\"]=\"W1\")"
   ]
  },
  {
   "cell_type": "code",
   "execution_count": 31,
   "metadata": {},
   "outputs": [
    {
     "name": "stderr",
     "output_type": "stream",
     "text": [
      "IOPub data rate exceeded.\n",
      "The notebook server will temporarily stop sending output\n",
      "to the client in order to avoid crashing it.\n",
      "To change this limit, set the config variable\n",
      "`--NotebookApp.iopub_data_rate_limit`.\n",
      "\n",
      "Current values:\n",
      "NotebookApp.iopub_data_rate_limit=1000000.0 (bytes/sec)\n",
      "NotebookApp.rate_limit_window=3.0 (secs)\n",
      "\n"
     ]
    }
   ],
   "source": []
  },
  {
   "cell_type": "code",
   "execution_count": 4,
   "metadata": {},
   "outputs": [],
   "source": [
    "import pandas as pd\n",
    "inj=pd.read_excel(\"injection_data.xlsx\")\n",
    "neg=inj.loc[inj[\"Well_Name\"]==\"W1\"]"
   ]
  },
  {
   "cell_type": "code",
   "execution_count": 5,
   "metadata": {},
   "outputs": [
    {
     "name": "stdout",
     "output_type": "stream",
     "text": [
      "                      Time Drill Centre Well_Name      BHP.kPag    BHT.degC  \\\n",
      "0      2017-01-01 00:00:00            A        W1      0.000000  214.000000   \n",
      "1      2017-01-01 01:00:00            A        W1      0.000000  214.000000   \n",
      "2      2017-01-01 02:00:00            A        W1      0.000000  214.000000   \n",
      "3      2017-01-01 03:00:00            A        W1      0.000000  214.000000   \n",
      "4      2017-01-01 04:00:00            A        W1      0.000000  214.000000   \n",
      "...                    ...          ...       ...           ...         ...   \n",
      "121534 2018-06-13 13:00:00            A        W1  22896.057449   84.007883   \n",
      "121552 2018-06-15 18:00:00            A        W1  22893.478114   84.002626   \n",
      "121557 2018-06-15 19:00:00            A        W1  22895.179507   84.040431   \n",
      "121563 2018-06-16 07:00:00            A        W1  22890.595758   83.863772   \n",
      "121567 2018-06-16 06:00:00            A        W1  22893.059663   83.961962   \n",
      "\n",
      "        CO2 Injection Rate (kg/s)  Cumm Inj (Tonnes)  \n",
      "0                             0.0           0.000000  \n",
      "1                             0.0           0.000000  \n",
      "2                             0.0           0.000000  \n",
      "3                             0.0           0.000000  \n",
      "4                             0.0           0.000000  \n",
      "...                           ...                ...  \n",
      "121534                        NaN      317729.856000  \n",
      "121552                        NaN      320399.877434  \n",
      "121557                        NaN      320399.877434  \n",
      "121563                        NaN      320913.595880  \n",
      "121567                        NaN      320913.595880  \n",
      "\n",
      "[13508 rows x 7 columns]\n"
     ]
    }
   ],
   "source": [
    "print(neg)"
   ]
  },
  {
   "cell_type": "code",
   "execution_count": null,
   "metadata": {},
   "outputs": [],
   "source": [
    "pip install pyjanitor\n"
   ]
  },
  {
   "cell_type": "code",
   "execution_count": 13,
   "metadata": {},
   "outputs": [],
   "source": [
    "neg1 = neg[(neg['Time']> \"2018-06-01\") & (neg['Time']< \"2018-09-01\")]"
   ]
  },
  {
   "cell_type": "code",
   "execution_count": 14,
   "metadata": {},
   "outputs": [
    {
     "name": "stdout",
     "output_type": "stream",
     "text": [
      "                      Time Drill Centre Well_Name      BHP.kPag   BHT.degC  \\\n",
      "71742  2018-07-15 16:00:00            A        W1  22747.075532  85.987067   \n",
      "71744  2018-07-15 17:00:00            A        W1  22738.720703  86.741156   \n",
      "71746  2018-07-15 18:00:00            A        W1  22738.720703  87.310341   \n",
      "71748  2018-07-15 19:00:00            A        W1  22738.720703  87.704576   \n",
      "71750  2018-07-15 20:00:00            A        W1  22733.160074  87.998604   \n",
      "...                    ...          ...       ...           ...        ...   \n",
      "121534 2018-06-13 13:00:00            A        W1  22896.057449  84.007883   \n",
      "121552 2018-06-15 18:00:00            A        W1  22893.478114  84.002626   \n",
      "121557 2018-06-15 19:00:00            A        W1  22895.179507  84.040431   \n",
      "121563 2018-06-16 07:00:00            A        W1  22890.595758  83.863772   \n",
      "121567 2018-06-16 06:00:00            A        W1  22893.059663  83.961962   \n",
      "\n",
      "        CO2 Injection Rate (kg/s)  Cumm Inj (Tonnes)  \n",
      "71742                         0.0      356529.122905  \n",
      "71744                         0.0      356529.122905  \n",
      "71746                         0.0      356529.122905  \n",
      "71748                         0.0      356529.122905  \n",
      "71750                         0.0      356529.122905  \n",
      "...                           ...                ...  \n",
      "121534                        NaN      317729.856000  \n",
      "121552                        NaN      320399.877434  \n",
      "121557                        NaN      320399.877434  \n",
      "121563                        NaN      320913.595880  \n",
      "121567                        NaN      320913.595880  \n",
      "\n",
      "[1123 rows x 7 columns]\n"
     ]
    }
   ],
   "source": [
    "print(neg1)"
   ]
  },
  {
   "cell_type": "code",
   "execution_count": 21,
   "metadata": {},
   "outputs": [
    {
     "data": {
      "image/png": "[encoded data removed]",
      "text/plain": [
       "<Figure size 1152x576 with 1 Axes>"
      ]
     },
     "metadata": {
      "needs_background": "light"
     },
     "output_type": "display_data"
    }
   ],
   "source": [
    "import matplotlib.pyplot as plt\n",
    "fig, ax = plt.subplots(figsize=(16,8))\n",
    "ax.scatter(inj['CO2 Injection Rate (kg/s)'],inj['Cumm Inj (Tonnes)'])\n",
    "ax.set_xlabel('CO2 injection Rate (kg/s)')\n",
    "ax.set_ylabel('Cumm Inj (Tonnes)')\n",
    "plt.show()"
   ]
  },
  {
   "cell_type": "code",
   "execution_count": 66,
   "metadata": {},
   "outputs": [
    {
     "name": "stdout",
     "output_type": "stream",
     "text": [
      "0         False\n",
      "1         False\n",
      "2         False\n",
      "3         False\n",
      "4         False\n",
      "          ...  \n",
      "121567    False\n",
      "121568    False\n",
      "121569    False\n",
      "121570    False\n",
      "121571    False\n",
      "Name: CO2 Injection Rate (kg/s), Length: 121572, dtype: bool\n"
     ]
    }
   ],
   "source": [
    "inj['CO2 Injection Rate (kg/s)']>1000)"
   ]
  },
  {
   "cell_type": "code",
   "execution_count": 22,
   "metadata": {},
   "outputs": [
    {
     "name": "stdout",
     "output_type": "stream",
     "text": [
      "Time                          0\n",
      "Drill Centre                  0\n",
      "Well_Name                     0\n",
      "BHP.kPag                     18\n",
      "BHT.degC                     18\n",
      "CO2 Injection Rate (kg/s)    42\n",
      "Cumm Inj (Tonnes)             0\n",
      "dtype: int64\n"
     ]
    }
   ],
   "source": [
    "print(inj.isnull().sum())"
   ]
  },
  {
   "cell_type": "code",
   "execution_count": 47,
   "metadata": {},
   "outputs": [
    {
     "name": "stdout",
     "output_type": "stream",
     "text": [
      "Time                          0\n",
      "Drill Centre                  0\n",
      "Well_Name                     0\n",
      "BHP.kPag                     18\n",
      "BHT.degC                     18\n",
      "CO2 Injection Rate (kg/s)     0\n",
      "Cumm Inj (Tonnes)             0\n",
      "dtype: int64\n"
     ]
    }
   ],
   "source": [
    "print(inj.isna().sum())\n",
    "injc=inj"
   ]
  },
  {
   "cell_type": "code",
   "execution_count": 25,
   "metadata": {},
   "outputs": [],
   "source": [
    "#injc['CO2 Injection Rate (kg/s)'].fillna(injc['CO2 Injection Rate (kg/s)'].mean(), inplace=True)"
   ]
  },
  {
   "cell_type": "code",
   "execution_count": 49,
   "metadata": {},
   "outputs": [
    {
     "name": "stdout",
     "output_type": "stream",
     "text": [
      "                      Time Drill Centre Well_Name      BHP.kPag    BHT.degC  \\\n",
      "0      2017-01-01 00:00:00            A        W1      0.000000  214.000000   \n",
      "1      2017-01-01 01:00:00            A        W1      0.000000  214.000000   \n",
      "2      2017-01-01 02:00:00            A        W1      0.000000  214.000000   \n",
      "3      2017-01-01 03:00:00            A        W1      0.000000  214.000000   \n",
      "4      2017-01-01 04:00:00            A        W1      0.000000  214.000000   \n",
      "...                    ...          ...       ...           ...         ...   \n",
      "121567 2018-06-16 06:00:00            A        W1  22893.059663   83.961962   \n",
      "121568 2018-06-16 07:00:00            C        W9      0.000000    0.000000   \n",
      "121569 2018-06-16 07:00:00            C        W7  22479.058999   81.909105   \n",
      "121570 2018-06-16 07:00:00            A        W2  22699.762261   83.048680   \n",
      "121571 2018-06-16 06:00:00            B        W6  22111.931131   82.637075   \n",
      "\n",
      "        CO2 Injection Rate (kg/s)  Cumm Inj (Tonnes)  \n",
      "0                        0.000000           0.000000  \n",
      "1                        0.000000           0.000000  \n",
      "2                        0.000000           0.000000  \n",
      "3                        0.000000           0.000000  \n",
      "4                        0.000000           0.000000  \n",
      "...                           ...                ...  \n",
      "121567                   5.903689      320913.595880  \n",
      "121568                   5.903689      272278.400641  \n",
      "121569                   5.903689      303760.299969  \n",
      "121570                   5.903689      385324.339153  \n",
      "121571                   5.903689      182214.695395  \n",
      "\n",
      "[121572 rows x 7 columns]\n"
     ]
    }
   ],
   "source": [
    "print(inj)"
   ]
  },
  {
   "cell_type": "code",
   "execution_count": 33,
   "metadata": {},
   "outputs": [
    {
     "name": "stdout",
     "output_type": "stream",
     "text": [
      "7\n"
     ]
    }
   ],
   "source": [
    "c=inj.values\n",
    "print(c.shape[1])"
   ]
  },
  {
   "cell_type": "code",
   "execution_count": null,
   "metadata": {},
   "outputs": [],
   "source": []
  },
  {
   "cell_type": "code",
   "execution_count": null,
   "metadata": {},
   "outputs": [],
   "source": []
  },
  {
   "cell_type": "code",
   "execution_count": null,
   "metadata": {},
   "outputs": [],
   "source": []
  },
  {
   "cell_type": "code",
   "execution_count": 50,
   "metadata": {},
   "outputs": [
    {
     "name": "stdout",
     "output_type": "stream",
     "text": [
      "                      Time Drill Centre Well_Name      BHP.kPag    BHT.degC  \\\n",
      "0      2017-01-01 00:00:00            A        W1      0.000000  214.000000   \n",
      "1      2017-01-01 01:00:00            A        W1      0.000000  214.000000   \n",
      "2      2017-01-01 02:00:00            A        W1      0.000000  214.000000   \n",
      "3      2017-01-01 03:00:00            A        W1      0.000000  214.000000   \n",
      "4      2017-01-01 04:00:00            A        W1      0.000000  214.000000   \n",
      "...                    ...          ...       ...           ...         ...   \n",
      "121567 2018-06-16 06:00:00            A        W1  22893.059663   83.961962   \n",
      "121568 2018-06-16 07:00:00            C        W9      0.000000    0.000000   \n",
      "121569 2018-06-16 07:00:00            C        W7  22479.058999   81.909105   \n",
      "121570 2018-06-16 07:00:00            A        W2  22699.762261   83.048680   \n",
      "121571 2018-06-16 06:00:00            B        W6  22111.931131   82.637075   \n",
      "\n",
      "        CO2 Injection Rate (kg/s)  Cumm Inj (Tonnes)  \n",
      "0                        0.000000           0.000000  \n",
      "1                        0.000000           0.000000  \n",
      "2                        0.000000           0.000000  \n",
      "3                        0.000000           0.000000  \n",
      "4                        0.000000           0.000000  \n",
      "...                           ...                ...  \n",
      "121567                   5.903689      320913.595880  \n",
      "121568                   5.903689      272278.400641  \n",
      "121569                   5.903689      303760.299969  \n",
      "121570                   5.903689      385324.339153  \n",
      "121571                   5.903689      182214.695395  \n",
      "\n",
      "[121572 rows x 7 columns]\n"
     ]
    }
   ],
   "source": [
    "print(injc)"
   ]
  },
  {
   "cell_type": "code",
   "execution_count": 63,
   "metadata": {},
   "outputs": [
    {
     "name": "stdout",
     "output_type": "stream",
     "text": [
      "                      Time Drill Centre Well_Name      BHP.kPag    BHT.degC  \\\n",
      "0      2017-01-01 00:00:00            A        W1      0.000000  214.000000   \n",
      "1      2017-01-01 01:00:00            A        W1      0.000000  214.000000   \n",
      "2      2017-01-01 02:00:00            A        W1      0.000000  214.000000   \n",
      "3      2017-01-01 03:00:00            A        W1      0.000000  214.000000   \n",
      "4      2017-01-01 04:00:00            A        W1      0.000000  214.000000   \n",
      "...                    ...          ...       ...           ...         ...   \n",
      "121567 2018-06-16 06:00:00            A        W1  22893.059663   83.961962   \n",
      "121568 2018-06-16 07:00:00            C        W9      0.000000    0.000000   \n",
      "121569 2018-06-16 07:00:00            C        W7  22479.058999   81.909105   \n",
      "121570 2018-06-16 07:00:00            A        W2  22699.762261   83.048680   \n",
      "121571 2018-06-16 06:00:00            B        W6  22111.931131   82.637075   \n",
      "\n",
      "        CO2 Injection Rate (kg/s)  Cumm Inj (Tonnes)  \n",
      "0                             0.0           0.000000  \n",
      "1                             0.0           0.000000  \n",
      "2                             0.0           0.000000  \n",
      "3                             0.0           0.000000  \n",
      "4                             0.0           0.000000  \n",
      "...                           ...                ...  \n",
      "121567                        NaN      320913.595880  \n",
      "121568                        NaN      272278.400641  \n",
      "121569                        NaN      303760.299969  \n",
      "121570                        NaN      385324.339153  \n",
      "121571                        NaN      182214.695395  \n",
      "\n",
      "[121572 rows x 7 columns]\n"
     ]
    }
   ],
   "source": [
    "print(inj)"
   ]
  },
  {
   "cell_type": "code",
   "execution_count": 70,
   "metadata": {},
   "outputs": [],
   "source": [
    "injj=inj.loc[inj['CO2 Injection Rate (kg/s)']>1000]"
   ]
  },
  {
   "cell_type": "code",
   "execution_count": 71,
   "metadata": {},
   "outputs": [
    {
     "name": "stdout",
     "output_type": "stream",
     "text": [
      "                      Time Drill Centre Well_Name     BHP.kPag   BHT.degC  \\\n",
      "121529 2017-04-20 16:00:00            A        W2  18960.38748  96.389999   \n",
      "\n",
      "        CO2 Injection Rate (kg/s)  Cumm Inj (Tonnes)  \n",
      "121529                2523.424561        9084.328418  \n"
     ]
    }
   ],
   "source": [
    "print(injj)"
   ]
  },
  {
   "cell_type": "code",
   "execution_count": 72,
   "metadata": {},
   "outputs": [],
   "source": [
    "inj.loc[inj['CO2 Injection Rate (kg/s)']>1000]=injj['CO2 Injection Rate (kg/s)'].mean()"
   ]
  },
  {
   "cell_type": "code",
   "execution_count": 76,
   "metadata": {},
   "outputs": [
    {
     "name": "stdout",
     "output_type": "stream",
     "text": [
      "                       Time Drill Centre Well_Name      BHP.kPag    BHT.degC  \\\n",
      "0       2017-01-01 00:00:00            A        W1      0.000000  214.000000   \n",
      "1       2017-01-01 01:00:00            A        W1      0.000000  214.000000   \n",
      "2       2017-01-01 02:00:00            A        W1      0.000000  214.000000   \n",
      "3       2017-01-01 03:00:00            A        W1      0.000000  214.000000   \n",
      "4       2017-01-01 04:00:00            A        W1      0.000000  214.000000   \n",
      "...                     ...          ...       ...           ...         ...   \n",
      "121567  2018-06-16 06:00:00            A        W1  22893.059663   83.961962   \n",
      "121568  2018-06-16 07:00:00            C        W9      0.000000    0.000000   \n",
      "121569  2018-06-16 07:00:00            C        W7  22479.058999   81.909105   \n",
      "121570  2018-06-16 07:00:00            A        W2  22699.762261   83.048680   \n",
      "121571  2018-06-16 06:00:00            B        W6  22111.931131   82.637075   \n",
      "\n",
      "        CO2 Injection Rate (kg/s)  Cumm Inj (Tonnes)  \n",
      "0                             0.0           0.000000  \n",
      "1                             0.0           0.000000  \n",
      "2                             0.0           0.000000  \n",
      "3                             0.0           0.000000  \n",
      "4                             0.0           0.000000  \n",
      "...                           ...                ...  \n",
      "121567                        NaN      320913.595880  \n",
      "121568                        NaN      272278.400641  \n",
      "121569                        NaN      303760.299969  \n",
      "121570                        NaN      385324.339153  \n",
      "121571                        NaN      182214.695395  \n",
      "\n",
      "[121572 rows x 7 columns]\n"
     ]
    }
   ],
   "source": [
    "injj=inj\n",
    "print(injj)"
   ]
  },
  {
   "cell_type": "code",
   "execution_count": 79,
   "metadata": {},
   "outputs": [],
   "source": [
    "import numpy as np\n",
    "mean = injj['CO2 Injection Rate (kg/s)'].mean()\n",
    "\n",
    "injj[\"CO2 Injection Rate (kg/s)\"] = np.where(injj[\"CO2 Injection Rate (kg/s)\"] >1000, mean,injj[\"CO2 Injection Rate (kg/s)\"])\n"
   ]
  },
  {
   "cell_type": "code",
   "execution_count": 80,
   "metadata": {},
   "outputs": [
    {
     "name": "stdout",
     "output_type": "stream",
     "text": [
      "                       Time Drill Centre Well_Name      BHP.kPag    BHT.degC  \\\n",
      "0       2017-01-01 00:00:00            A        W1      0.000000  214.000000   \n",
      "1       2017-01-01 01:00:00            A        W1      0.000000  214.000000   \n",
      "2       2017-01-01 02:00:00            A        W1      0.000000  214.000000   \n",
      "3       2017-01-01 03:00:00            A        W1      0.000000  214.000000   \n",
      "4       2017-01-01 04:00:00            A        W1      0.000000  214.000000   \n",
      "...                     ...          ...       ...           ...         ...   \n",
      "121567  2018-06-16 06:00:00            A        W1  22893.059663   83.961962   \n",
      "121568  2018-06-16 07:00:00            C        W9      0.000000    0.000000   \n",
      "121569  2018-06-16 07:00:00            C        W7  22479.058999   81.909105   \n",
      "121570  2018-06-16 07:00:00            A        W2  22699.762261   83.048680   \n",
      "121571  2018-06-16 06:00:00            B        W6  22111.931131   82.637075   \n",
      "\n",
      "        CO2 Injection Rate (kg/s)  Cumm Inj (Tonnes)  \n",
      "0                             0.0           0.000000  \n",
      "1                             0.0           0.000000  \n",
      "2                             0.0           0.000000  \n",
      "3                             0.0           0.000000  \n",
      "4                             0.0           0.000000  \n",
      "...                           ...                ...  \n",
      "121567                        NaN      320913.595880  \n",
      "121568                        NaN      272278.400641  \n",
      "121569                        NaN      303760.299969  \n",
      "121570                        NaN      385324.339153  \n",
      "121571                        NaN      182214.695395  \n",
      "\n",
      "[121572 rows x 7 columns]\n"
     ]
    }
   ],
   "source": [
    "print(injj)"
   ]
  },
  {
   "cell_type": "code",
   "execution_count": 81,
   "metadata": {},
   "outputs": [
    {
     "data": {
      "text/html": [
       "<div>\n",
       "<style scoped>\n",
       "    .dataframe tbody tr th:only-of-type {\n",
       "        vertical-align: middle;\n",
       "    }\n",
       "\n",
       "    .dataframe tbody tr th {\n",
       "        vertical-align: top;\n",
       "    }\n",
       "\n",
       "    .dataframe thead th {\n",
       "        text-align: right;\n",
       "    }\n",
       "</style>\n",
       "<table border=\"1\" class=\"dataframe\">\n",
       "  <thead>\n",
       "    <tr style=\"text-align: right;\">\n",
       "      <th></th>\n",
       "      <th>Time</th>\n",
       "      <th>Drill Centre</th>\n",
       "      <th>Well_Name</th>\n",
       "      <th>BHP.kPag</th>\n",
       "      <th>BHT.degC</th>\n",
       "      <th>CO2 Injection Rate (kg/s)</th>\n",
       "      <th>Cumm Inj (Tonnes)</th>\n",
       "    </tr>\n",
       "  </thead>\n",
       "  <tbody>\n",
       "  </tbody>\n",
       "</table>\n",
       "</div>"
      ],
      "text/plain": [
       "Empty DataFrame\n",
       "Columns: [Time, Drill Centre, Well_Name, BHP.kPag, BHT.degC, CO2 Injection Rate (kg/s), Cumm Inj (Tonnes)]\n",
       "Index: []"
      ]
     },
     "execution_count": 81,
     "metadata": {},
     "output_type": "execute_result"
    }
   ],
   "source": [
    "injj.loc[injj['CO2 Injection Rate (kg/s)']>1000]"
   ]
  },
  {
   "cell_type": "code",
   "execution_count": 85,
   "metadata": {},
   "outputs": [],
   "source": [
    "injja=injj['CO2 Injection Rate (kg/s)'].fillna(0)"
   ]
  },
  {
   "cell_type": "code",
   "execution_count": 86,
   "metadata": {},
   "outputs": [],
   "source": [
    "ijc.to_excel(\"injc.xlsx\",index=None)"
   ]
  },
  {
   "cell_type": "code",
   "execution_count": 87,
   "metadata": {},
   "outputs": [
    {
     "name": "stdout",
     "output_type": "stream",
     "text": [
      "                      Time Drill Centre Well_Name      BHP.kPag    BHT.degC  \\\n",
      "0      2017-01-01 00:00:00            A        W1      0.000000  214.000000   \n",
      "1      2017-01-01 01:00:00            A        W1      0.000000  214.000000   \n",
      "2      2017-01-01 02:00:00            A        W1      0.000000  214.000000   \n",
      "3      2017-01-01 03:00:00            A        W1      0.000000  214.000000   \n",
      "4      2017-01-01 04:00:00            A        W1      0.000000  214.000000   \n",
      "...                    ...          ...       ...           ...         ...   \n",
      "121567 2018-06-16 06:00:00            A        W1  22893.059663   83.961962   \n",
      "121568 2018-06-16 07:00:00            C        W9      0.000000    0.000000   \n",
      "121569 2018-06-16 07:00:00            C        W7  22479.058999   81.909105   \n",
      "121570 2018-06-16 07:00:00            A        W2  22699.762261   83.048680   \n",
      "121571 2018-06-16 06:00:00            B        W6  22111.931131   82.637075   \n",
      "\n",
      "        CO2 Injection Rate (kg/s)  Cumm Inj (Tonnes)  \n",
      "0                             0.0           0.000000  \n",
      "1                             0.0           0.000000  \n",
      "2                             0.0           0.000000  \n",
      "3                             0.0           0.000000  \n",
      "4                             0.0           0.000000  \n",
      "...                           ...                ...  \n",
      "121567                        NaN      320913.595880  \n",
      "121568                        NaN      272278.400641  \n",
      "121569                        NaN      303760.299969  \n",
      "121570                        NaN      385324.339153  \n",
      "121571                        NaN      182214.695395  \n",
      "\n",
      "[121572 rows x 7 columns]\n"
     ]
    }
   ],
   "source": [
    "import pandas as pd\n",
    "inj=pd.read_excel(\"injection_data.xlsx\")\n",
    "print(inj)"
   ]
  },
  {
   "cell_type": "code",
   "execution_count": 90,
   "metadata": {},
   "outputs": [],
   "source": [
    "inj=inj.fillna(0)"
   ]
  },
  {
   "cell_type": "code",
   "execution_count": 91,
   "metadata": {},
   "outputs": [
    {
     "name": "stdout",
     "output_type": "stream",
     "text": [
      "                      Time Drill Centre Well_Name      BHP.kPag    BHT.degC  \\\n",
      "0      2017-01-01 00:00:00            A        W1      0.000000  214.000000   \n",
      "1      2017-01-01 01:00:00            A        W1      0.000000  214.000000   \n",
      "2      2017-01-01 02:00:00            A        W1      0.000000  214.000000   \n",
      "3      2017-01-01 03:00:00            A        W1      0.000000  214.000000   \n",
      "4      2017-01-01 04:00:00            A        W1      0.000000  214.000000   \n",
      "...                    ...          ...       ...           ...         ...   \n",
      "121567 2018-06-16 06:00:00            A        W1  22893.059663   83.961962   \n",
      "121568 2018-06-16 07:00:00            C        W9      0.000000    0.000000   \n",
      "121569 2018-06-16 07:00:00            C        W7  22479.058999   81.909105   \n",
      "121570 2018-06-16 07:00:00            A        W2  22699.762261   83.048680   \n",
      "121571 2018-06-16 06:00:00            B        W6  22111.931131   82.637075   \n",
      "\n",
      "        CO2 Injection Rate (kg/s)  Cumm Inj (Tonnes)  \n",
      "0                             0.0           0.000000  \n",
      "1                             0.0           0.000000  \n",
      "2                             0.0           0.000000  \n",
      "3                             0.0           0.000000  \n",
      "4                             0.0           0.000000  \n",
      "...                           ...                ...  \n",
      "121567                        0.0      320913.595880  \n",
      "121568                        0.0      272278.400641  \n",
      "121569                        0.0      303760.299969  \n",
      "121570                        0.0      385324.339153  \n",
      "121571                        0.0      182214.695395  \n",
      "\n",
      "[121572 rows x 7 columns]\n"
     ]
    }
   ],
   "source": [
    "print(inj)"
   ]
  },
  {
   "cell_type": "code",
   "execution_count": 94,
   "metadata": {},
   "outputs": [
    {
     "data": {
      "text/plain": [
       "Time                         0\n",
       "Drill Centre                 0\n",
       "Well_Name                    0\n",
       "BHP.kPag                     0\n",
       "BHT.degC                     0\n",
       "CO2 Injection Rate (kg/s)    0\n",
       "Cumm Inj (Tonnes)            0\n",
       "dtype: int64"
      ]
     },
     "execution_count": 94,
     "metadata": {},
     "output_type": "execute_result"
    }
   ],
   "source": [
    "inj.isna().sum()"
   ]
  },
  {
   "cell_type": "code",
   "execution_count": 96,
   "metadata": {},
   "outputs": [
    {
     "data": {
      "image/png": "[encoded data removed]",
      "text/plain": [
       "<Figure size 1152x576 with 1 Axes>"
      ]
     },
     "metadata": {
      "needs_background": "light"
     },
     "output_type": "display_data"
    }
   ],
   "source": [
    "import matplotlib.pyplot as plt\n",
    "fig, ax = plt.subplots(figsize=(16,8))\n",
    "ax.scatter(inj['BHP.kPag'],inj['BHT.degC'])\n",
    "ax.set_xlabel('BHP')\n",
    "ax.set_ylabel('BHT')\n",
    "plt.show()"
   ]
  },
  {
   "cell_type": "code",
   "execution_count": 97,
   "metadata": {},
   "outputs": [],
   "source": [
    "inj.to_excel(\"injc.xlsx\",index=None)"
   ]
  },
  {
   "cell_type": "code",
   "execution_count": 100,
   "metadata": {},
   "outputs": [],
   "source": [
    "median = inj.loc[inj[\"CO2 Injection Rate (kg/s)\"]>0, 'CO2 Injection Rate (kg/s)'].median()\n",
    "inj[\"CO2 Injection Rate (kg/s)\"] = np.where(inj[\"CO2 Injection Rate (kg/s)\"] >1000, median,inj[\"CO2 Injection Rate (kg/s)\"])"
   ]
  },
  {
   "cell_type": "code",
   "execution_count": 101,
   "metadata": {},
   "outputs": [
    {
     "name": "stdout",
     "output_type": "stream",
     "text": [
      "                      Time Drill Centre Well_Name      BHP.kPag    BHT.degC  \\\n",
      "0      2017-01-01 00:00:00            A        W1      0.000000  214.000000   \n",
      "1      2017-01-01 01:00:00            A        W1      0.000000  214.000000   \n",
      "2      2017-01-01 02:00:00            A        W1      0.000000  214.000000   \n",
      "3      2017-01-01 03:00:00            A        W1      0.000000  214.000000   \n",
      "4      2017-01-01 04:00:00            A        W1      0.000000  214.000000   \n",
      "...                    ...          ...       ...           ...         ...   \n",
      "121567 2018-06-16 06:00:00            A        W1  22893.059663   83.961962   \n",
      "121568 2018-06-16 07:00:00            C        W9      0.000000    0.000000   \n",
      "121569 2018-06-16 07:00:00            C        W7  22479.058999   81.909105   \n",
      "121570 2018-06-16 07:00:00            A        W2  22699.762261   83.048680   \n",
      "121571 2018-06-16 06:00:00            B        W6  22111.931131   82.637075   \n",
      "\n",
      "        CO2 Injection Rate (kg/s)  Cumm Inj (Tonnes)  \n",
      "0                             0.0           0.000000  \n",
      "1                             0.0           0.000000  \n",
      "2                             0.0           0.000000  \n",
      "3                             0.0           0.000000  \n",
      "4                             0.0           0.000000  \n",
      "...                           ...                ...  \n",
      "121567                        0.0      320913.595880  \n",
      "121568                        0.0      272278.400641  \n",
      "121569                        0.0      303760.299969  \n",
      "121570                        0.0      385324.339153  \n",
      "121571                        0.0      182214.695395  \n",
      "\n",
      "[121572 rows x 7 columns]\n"
     ]
    }
   ],
   "source": [
    "print(inj)"
   ]
  },
  {
   "cell_type": "code",
   "execution_count": 102,
   "metadata": {},
   "outputs": [],
   "source": [
    "inj.to_excel(\"injcs.xlsx\",index=None)"
   ]
  },
  {
   "cell_type": "code",
   "execution_count": 103,
   "metadata": {},
   "outputs": [
    {
     "ename": "NameError",
     "evalue": "name 'evee' is not defined",
     "output_type": "error",
     "traceback": [
      "\u001b[1;31m---------------------------------------------------------------------------\u001b[0m",
      "\u001b[1;31mNameError\u001b[0m                                 Traceback (most recent call last)",
      "\u001b[1;32m<ipython-input-103-07e987c5a060>\u001b[0m in \u001b[0;36m<module>\u001b[1;34m\u001b[0m\n\u001b[1;32m----> 1\u001b[1;33m \u001b[0mprint\u001b[0m\u001b[1;33m(\u001b[0m\u001b[0mevee\u001b[0m\u001b[1;33m)\u001b[0m\u001b[1;33m\u001b[0m\u001b[1;33m\u001b[0m\u001b[0m\n\u001b[0m",
      "\u001b[1;31mNameError\u001b[0m: name 'evee' is not defined"
     ]
    }
   ],
   "source": [
    "print(evee)"
   ]
  },
  {
   "cell_type": "code",
   "execution_count": 106,
   "metadata": {},
   "outputs": [
    {
     "name": "stdout",
     "output_type": "stream",
     "text": [
      "                  Date/Time  Magnitude Cluster\n",
      "0   2017-09-05 01:27:55.400       -2.1     C-5\n",
      "1   2017-09-25 16:38:05.000       -1.4     C-6\n",
      "2   2017-10-02 09:48:25.600       -1.6     C-6\n",
      "3   2017-10-07 13:32:05.700       -2.1     C-6\n",
      "4   2017-10-08 05:23:34.000       -2.1     C-6\n",
      "..                      ...        ...     ...\n",
      "832 2018-07-12 11:42:45.700       -1.2     C-3\n",
      "833 2018-07-13 01:06:40.300       -1.2     C-7\n",
      "834 2018-07-13 11:19:24.900       -0.9    C-12\n",
      "835 2018-07-13 21:38:36.800       -1.4     C-6\n",
      "836 2018-07-14 01:00:23.200       -0.9     C-6\n",
      "\n",
      "[837 rows x 3 columns]\n"
     ]
    }
   ],
   "source": [
    "eve=pd.read_excel(\"event1.xlsx\")\n",
    "print(eve)"
   ]
  },
  {
   "cell_type": "code",
   "execution_count": 119,
   "metadata": {
    "scrolled": true
   },
   "outputs": [
    {
     "name": "stdout",
     "output_type": "stream",
     "text": [
      "0     2017-09-05 01:27:55.400\n",
      "1     2017-09-25 16:38:05.000\n",
      "2     2017-10-02 09:48:25.600\n",
      "3     2017-10-07 13:32:05.700\n",
      "4     2017-10-08 05:23:34.000\n",
      "                ...          \n",
      "832   2018-07-12 11:42:45.700\n",
      "833   2018-07-13 01:06:40.300\n",
      "834   2018-07-13 11:19:24.900\n",
      "835   2018-07-13 21:38:36.800\n",
      "836   2018-07-14 01:00:23.200\n",
      "Name: Date/Time, Length: 837, dtype: datetime64[ns]\n"
     ]
    },
    {
     "ename": "TypeError",
     "evalue": "replace() got an unexpected keyword argument 'second'",
     "output_type": "error",
     "traceback": [
      "\u001b[1;31m---------------------------------------------------------------------------\u001b[0m",
      "\u001b[1;31mTypeError\u001b[0m                                 Traceback (most recent call last)",
      "\u001b[1;32m<ipython-input-119-9432f334a193>\u001b[0m in \u001b[0;36m<module>\u001b[1;34m\u001b[0m\n\u001b[0;32m      9\u001b[0m    \u001b[1;31m#df['<column>'] = df['<column>'].apply(lambda dt: datetime.datetime(dt.year, dt.month, dt.day, dt.hour,15*round((float(dt.minute) + float(dt.second)/60) / 15)))\u001b[0m\u001b[1;33m\u001b[0m\u001b[1;33m\u001b[0m\u001b[1;33m\u001b[0m\u001b[0m\n\u001b[0;32m     10\u001b[0m \u001b[0mprint\u001b[0m\u001b[1;33m(\u001b[0m\u001b[0mnow\u001b[0m\u001b[1;33m)\u001b[0m\u001b[1;33m\u001b[0m\u001b[1;33m\u001b[0m\u001b[0m\n\u001b[1;32m---> 11\u001b[1;33m \u001b[0mprint\u001b[0m\u001b[1;33m(\u001b[0m\u001b[0mhour_rounder\u001b[0m\u001b[1;33m(\u001b[0m\u001b[0mnow\u001b[0m\u001b[1;33m)\u001b[0m\u001b[1;33m)\u001b[0m\u001b[1;33m\u001b[0m\u001b[1;33m\u001b[0m\u001b[0m\n\u001b[0m",
      "\u001b[1;32m<ipython-input-119-9432f334a193>\u001b[0m in \u001b[0;36mhour_rounder\u001b[1;34m(t)\u001b[0m\n\u001b[0;32m      5\u001b[0m \u001b[1;32mdef\u001b[0m \u001b[0mhour_rounder\u001b[0m\u001b[1;33m(\u001b[0m\u001b[0mt\u001b[0m\u001b[1;33m)\u001b[0m\u001b[1;33m:\u001b[0m\u001b[1;33m\u001b[0m\u001b[1;33m\u001b[0m\u001b[0m\n\u001b[0;32m      6\u001b[0m     \u001b[1;31m# Rounds to nearest hour by adding a timedelta hour if minute >= 30\u001b[0m\u001b[1;33m\u001b[0m\u001b[1;33m\u001b[0m\u001b[1;33m\u001b[0m\u001b[0m\n\u001b[1;32m----> 7\u001b[1;33m     return (t.replace(second=0, microsecond=0, minute=0)\n\u001b[0m\u001b[0;32m      8\u001b[0m                +timedelta(hours=t.minute//30))\n\u001b[0;32m      9\u001b[0m    \u001b[1;31m#df['<column>'] = df['<column>'].apply(lambda dt: datetime.datetime(dt.year, dt.month, dt.day, dt.hour,15*round((float(dt.minute) + float(dt.second)/60) / 15)))\u001b[0m\u001b[1;33m\u001b[0m\u001b[1;33m\u001b[0m\u001b[1;33m\u001b[0m\u001b[0m\n",
      "\u001b[1;31mTypeError\u001b[0m: replace() got an unexpected keyword argument 'second'"
     ]
    }
   ],
   "source": [
    "from datetime import datetime as dt, timedelta\n",
    "\n",
    "now = eve[\"Date/Time\"]\n",
    "\n",
    "def hour_rounder(t):\n",
    "    # Rounds to nearest hour by adding a timedelta hour if minute >= 30\n",
    "    return (t.replace(second=0, microsecond=0, minute=0, hour=t.hour)\n",
    "               +timedelta(hours=t.minute//30))\n",
    "   #df['<column>'] = df['<column>'].apply(lambda dt: datetime.datetime(dt.year, dt.month, dt.day, dt.hour,15*round((float(dt.minute) + float(dt.second)/60) / 15)))\n",
    "print(now)\n",
    "print(hour_rounder(now))"
   ]
  },
  {
   "cell_type": "code",
   "execution_count": 116,
   "metadata": {},
   "outputs": [
    {
     "ename": "ValueError",
     "evalue": "minute must be in 0..59",
     "output_type": "error",
     "traceback": [
      "\u001b[1;31m---------------------------------------------------------------------------\u001b[0m",
      "\u001b[1;31mValueError\u001b[0m                                Traceback (most recent call last)",
      "\u001b[1;32m<ipython-input-116-dda1f113a0ae>\u001b[0m in \u001b[0;36m<module>\u001b[1;34m\u001b[0m\n\u001b[0;32m      1\u001b[0m \u001b[1;32mimport\u001b[0m \u001b[0mdatetime\u001b[0m\u001b[1;33m\u001b[0m\u001b[1;33m\u001b[0m\u001b[0m\n\u001b[1;32m----> 2\u001b[1;33m \u001b[0meve\u001b[0m\u001b[1;33m[\u001b[0m\u001b[1;34m\"Date/Time\"\u001b[0m\u001b[1;33m]\u001b[0m \u001b[1;33m=\u001b[0m \u001b[0meve\u001b[0m\u001b[1;33m[\u001b[0m\u001b[1;34m\"Date/Time\"\u001b[0m\u001b[1;33m]\u001b[0m\u001b[1;33m.\u001b[0m\u001b[0mapply\u001b[0m\u001b[1;33m(\u001b[0m\u001b[1;32mlambda\u001b[0m \u001b[0mdt\u001b[0m\u001b[1;33m:\u001b[0m \u001b[0mdatetime\u001b[0m\u001b[1;33m.\u001b[0m\u001b[0mdatetime\u001b[0m\u001b[1;33m(\u001b[0m\u001b[0mdt\u001b[0m\u001b[1;33m.\u001b[0m\u001b[0myear\u001b[0m\u001b[1;33m,\u001b[0m \u001b[0mdt\u001b[0m\u001b[1;33m.\u001b[0m\u001b[0mmonth\u001b[0m\u001b[1;33m,\u001b[0m \u001b[0mdt\u001b[0m\u001b[1;33m.\u001b[0m\u001b[0mday\u001b[0m\u001b[1;33m,\u001b[0m \u001b[0mdt\u001b[0m\u001b[1;33m.\u001b[0m\u001b[0mhour\u001b[0m\u001b[1;33m,\u001b[0m\u001b[1;36m15\u001b[0m\u001b[1;33m*\u001b[0m\u001b[0mround\u001b[0m\u001b[1;33m(\u001b[0m\u001b[1;33m(\u001b[0m\u001b[0mfloat\u001b[0m\u001b[1;33m(\u001b[0m\u001b[0mdt\u001b[0m\u001b[1;33m.\u001b[0m\u001b[0mminute\u001b[0m\u001b[1;33m)\u001b[0m \u001b[1;33m+\u001b[0m \u001b[0mfloat\u001b[0m\u001b[1;33m(\u001b[0m\u001b[0mdt\u001b[0m\u001b[1;33m.\u001b[0m\u001b[0msecond\u001b[0m\u001b[1;33m)\u001b[0m\u001b[1;33m/\u001b[0m\u001b[1;36m60\u001b[0m\u001b[1;33m)\u001b[0m \u001b[1;33m/\u001b[0m \u001b[1;36m15\u001b[0m\u001b[1;33m)\u001b[0m\u001b[1;33m)\u001b[0m\u001b[1;33m)\u001b[0m\u001b[1;33m\u001b[0m\u001b[1;33m\u001b[0m\u001b[0m\n\u001b[0m",
      "\u001b[1;32mD:\\Anaconda\\lib\\site-packages\\pandas\\core\\series.py\u001b[0m in \u001b[0;36mapply\u001b[1;34m(self, func, convert_dtype, args, **kwds)\u001b[0m\n\u001b[0;32m   4198\u001b[0m             \u001b[1;32melse\u001b[0m\u001b[1;33m:\u001b[0m\u001b[1;33m\u001b[0m\u001b[1;33m\u001b[0m\u001b[0m\n\u001b[0;32m   4199\u001b[0m                 \u001b[0mvalues\u001b[0m \u001b[1;33m=\u001b[0m \u001b[0mself\u001b[0m\u001b[1;33m.\u001b[0m\u001b[0mastype\u001b[0m\u001b[1;33m(\u001b[0m\u001b[0mobject\u001b[0m\u001b[1;33m)\u001b[0m\u001b[1;33m.\u001b[0m\u001b[0m_values\u001b[0m\u001b[1;33m\u001b[0m\u001b[1;33m\u001b[0m\u001b[0m\n\u001b[1;32m-> 4200\u001b[1;33m                 \u001b[0mmapped\u001b[0m \u001b[1;33m=\u001b[0m \u001b[0mlib\u001b[0m\u001b[1;33m.\u001b[0m\u001b[0mmap_infer\u001b[0m\u001b[1;33m(\u001b[0m\u001b[0mvalues\u001b[0m\u001b[1;33m,\u001b[0m \u001b[0mf\u001b[0m\u001b[1;33m,\u001b[0m \u001b[0mconvert\u001b[0m\u001b[1;33m=\u001b[0m\u001b[0mconvert_dtype\u001b[0m\u001b[1;33m)\u001b[0m\u001b[1;33m\u001b[0m\u001b[1;33m\u001b[0m\u001b[0m\n\u001b[0m\u001b[0;32m   4201\u001b[0m \u001b[1;33m\u001b[0m\u001b[0m\n\u001b[0;32m   4202\u001b[0m         \u001b[1;32mif\u001b[0m \u001b[0mlen\u001b[0m\u001b[1;33m(\u001b[0m\u001b[0mmapped\u001b[0m\u001b[1;33m)\u001b[0m \u001b[1;32mand\u001b[0m \u001b[0misinstance\u001b[0m\u001b[1;33m(\u001b[0m\u001b[0mmapped\u001b[0m\u001b[1;33m[\u001b[0m\u001b[1;36m0\u001b[0m\u001b[1;33m]\u001b[0m\u001b[1;33m,\u001b[0m \u001b[0mSeries\u001b[0m\u001b[1;33m)\u001b[0m\u001b[1;33m:\u001b[0m\u001b[1;33m\u001b[0m\u001b[1;33m\u001b[0m\u001b[0m\n",
      "\u001b[1;32mpandas\\_libs\\lib.pyx\u001b[0m in \u001b[0;36mpandas._libs.lib.map_infer\u001b[1;34m()\u001b[0m\n",
      "\u001b[1;32m<ipython-input-116-dda1f113a0ae>\u001b[0m in \u001b[0;36m<lambda>\u001b[1;34m(dt)\u001b[0m\n\u001b[0;32m      1\u001b[0m \u001b[1;32mimport\u001b[0m \u001b[0mdatetime\u001b[0m\u001b[1;33m\u001b[0m\u001b[1;33m\u001b[0m\u001b[0m\n\u001b[1;32m----> 2\u001b[1;33m \u001b[0meve\u001b[0m\u001b[1;33m[\u001b[0m\u001b[1;34m\"Date/Time\"\u001b[0m\u001b[1;33m]\u001b[0m \u001b[1;33m=\u001b[0m \u001b[0meve\u001b[0m\u001b[1;33m[\u001b[0m\u001b[1;34m\"Date/Time\"\u001b[0m\u001b[1;33m]\u001b[0m\u001b[1;33m.\u001b[0m\u001b[0mapply\u001b[0m\u001b[1;33m(\u001b[0m\u001b[1;32mlambda\u001b[0m \u001b[0mdt\u001b[0m\u001b[1;33m:\u001b[0m \u001b[0mdatetime\u001b[0m\u001b[1;33m.\u001b[0m\u001b[0mdatetime\u001b[0m\u001b[1;33m(\u001b[0m\u001b[0mdt\u001b[0m\u001b[1;33m.\u001b[0m\u001b[0myear\u001b[0m\u001b[1;33m,\u001b[0m \u001b[0mdt\u001b[0m\u001b[1;33m.\u001b[0m\u001b[0mmonth\u001b[0m\u001b[1;33m,\u001b[0m \u001b[0mdt\u001b[0m\u001b[1;33m.\u001b[0m\u001b[0mday\u001b[0m\u001b[1;33m,\u001b[0m \u001b[0mdt\u001b[0m\u001b[1;33m.\u001b[0m\u001b[0mhour\u001b[0m\u001b[1;33m,\u001b[0m\u001b[1;36m15\u001b[0m\u001b[1;33m*\u001b[0m\u001b[0mround\u001b[0m\u001b[1;33m(\u001b[0m\u001b[1;33m(\u001b[0m\u001b[0mfloat\u001b[0m\u001b[1;33m(\u001b[0m\u001b[0mdt\u001b[0m\u001b[1;33m.\u001b[0m\u001b[0mminute\u001b[0m\u001b[1;33m)\u001b[0m \u001b[1;33m+\u001b[0m \u001b[0mfloat\u001b[0m\u001b[1;33m(\u001b[0m\u001b[0mdt\u001b[0m\u001b[1;33m.\u001b[0m\u001b[0msecond\u001b[0m\u001b[1;33m)\u001b[0m\u001b[1;33m/\u001b[0m\u001b[1;36m60\u001b[0m\u001b[1;33m)\u001b[0m \u001b[1;33m/\u001b[0m \u001b[1;36m15\u001b[0m\u001b[1;33m)\u001b[0m\u001b[1;33m)\u001b[0m\u001b[1;33m)\u001b[0m\u001b[1;33m\u001b[0m\u001b[1;33m\u001b[0m\u001b[0m\n\u001b[0m",
      "\u001b[1;31mValueError\u001b[0m: minute must be in 0..59"
     ]
    }
   ],
   "source": [
    "import datetime\n",
    "eve[\"Date/Time\"] = eve[\"Date/Time\"].apply(lambda dt: datetime.datetime(dt.year, dt.month, dt.day, dt.hour,15*round((float(dt.minute) + float(dt.second)/60) / 15)))"
   ]
  },
  {
   "cell_type": "code",
   "execution_count": 124,
   "metadata": {},
   "outputs": [],
   "source": [
    "import datetime \n",
    "\n",
    "eve[\"newdate\"]= eve[\"Date/Time\"].round('min')\n",
    "\n",
    "\n"
   ]
  },
  {
   "cell_type": "code",
   "execution_count": 125,
   "metadata": {},
   "outputs": [
    {
     "name": "stdout",
     "output_type": "stream",
     "text": [
      "0     2017-09-05 01:28:00\n",
      "1     2017-09-25 16:38:00\n",
      "2     2017-10-02 09:48:00\n",
      "3     2017-10-07 13:32:00\n",
      "4     2017-10-08 05:24:00\n",
      "              ...        \n",
      "832   2018-07-12 11:43:00\n",
      "833   2018-07-13 01:07:00\n",
      "834   2018-07-13 11:19:00\n",
      "835   2018-07-13 21:39:00\n",
      "836   2018-07-14 01:00:00\n",
      "Name: newdate, Length: 837, dtype: datetime64[ns]\n"
     ]
    }
   ],
   "source": [
    "print(eve[\"newdate\"])"
   ]
  },
  {
   "cell_type": "code",
   "execution_count": 127,
   "metadata": {},
   "outputs": [],
   "source": [
    "eve[\"newdate\"]= eve[\"Date/Time\"].round('H')"
   ]
  },
  {
   "cell_type": "code",
   "execution_count": 128,
   "metadata": {},
   "outputs": [
    {
     "name": "stdout",
     "output_type": "stream",
     "text": [
      "0     2017-09-05 01:00:00\n",
      "1     2017-09-25 17:00:00\n",
      "2     2017-10-02 10:00:00\n",
      "3     2017-10-07 14:00:00\n",
      "4     2017-10-08 05:00:00\n",
      "              ...        \n",
      "832   2018-07-12 12:00:00\n",
      "833   2018-07-13 01:00:00\n",
      "834   2018-07-13 11:00:00\n",
      "835   2018-07-13 22:00:00\n",
      "836   2018-07-14 01:00:00\n",
      "Name: newdate, Length: 837, dtype: datetime64[ns]\n"
     ]
    }
   ],
   "source": [
    "print(eve[\"newdate\"])"
   ]
  },
  {
   "cell_type": "code",
   "execution_count": 6,
   "metadata": {},
   "outputs": [
    {
     "ename": "NameError",
     "evalue": "name 'inj' is not defined",
     "output_type": "error",
     "traceback": [
      "\u001b[1;31m---------------------------------------------------------------------------\u001b[0m",
      "\u001b[1;31mNameError\u001b[0m                                 Traceback (most recent call last)",
      "\u001b[1;32m<ipython-input-6-d48a99d553c5>\u001b[0m in \u001b[0;36m<module>\u001b[1;34m\u001b[0m\n\u001b[1;32m----> 1\u001b[1;33m \u001b[0minj\u001b[0m\u001b[1;33m.\u001b[0m\u001b[0mto_excel\u001b[0m\u001b[1;33m(\u001b[0m\u001b[1;34m\"injcs.xlsx\"\u001b[0m\u001b[1;33m,\u001b[0m\u001b[0mindex\u001b[0m\u001b[1;33m=\u001b[0m\u001b[1;32mNone\u001b[0m\u001b[1;33m)\u001b[0m\u001b[1;33m\u001b[0m\u001b[1;33m\u001b[0m\u001b[0m\n\u001b[0m\u001b[0;32m      2\u001b[0m \u001b[0meve\u001b[0m\u001b[1;33m.\u001b[0m\u001b[0mto_excel\u001b[0m\u001b[1;33m(\u001b[0m\u001b[1;34m\"event2.xlsx\"\u001b[0m\u001b[1;33m,\u001b[0m\u001b[0mindex\u001b[0m\u001b[1;33m=\u001b[0m\u001b[1;32mNone\u001b[0m\u001b[1;33m)\u001b[0m\u001b[1;33m\u001b[0m\u001b[1;33m\u001b[0m\u001b[0m\n",
      "\u001b[1;31mNameError\u001b[0m: name 'inj' is not defined"
     ]
    }
   ],
   "source": [
    "eve.to_excel(\"event2.xlsx\",index=None)"
   ]
  },
  {
   "cell_type": "code",
   "execution_count": 132,
   "metadata": {},
   "outputs": [],
   "source": [
    "df3 = pd.merge(eve, inj, how='left', validate='m:m', left_on='newdate', right_on='Time')"
   ]
  },
  {
   "cell_type": "code",
   "execution_count": 5,
   "metadata": {},
   "outputs": [
    {
     "ename": "NameError",
     "evalue": "name 'df3' is not defined",
     "output_type": "error",
     "traceback": [
      "\u001b[1;31m---------------------------------------------------------------------------\u001b[0m",
      "\u001b[1;31mNameError\u001b[0m                                 Traceback (most recent call last)",
      "\u001b[1;32m<ipython-input-5-22f43744405f>\u001b[0m in \u001b[0;36m<module>\u001b[1;34m\u001b[0m\n\u001b[1;32m----> 1\u001b[1;33m \u001b[0mprint\u001b[0m\u001b[1;33m(\u001b[0m\u001b[0mdf3\u001b[0m\u001b[1;33m)\u001b[0m\u001b[1;33m\u001b[0m\u001b[1;33m\u001b[0m\u001b[0m\n\u001b[0m",
      "\u001b[1;31mNameError\u001b[0m: name 'df3' is not defined"
     ]
    }
   ],
   "source": [
    "print(df3)"
   ]
  },
  {
   "cell_type": "code",
   "execution_count": 134,
   "metadata": {},
   "outputs": [],
   "source": [
    "df3.to_excel(\"test.xlsx\",index=None)"
   ]
  },
  {
   "cell_type": "code",
   "execution_count": 1,
   "metadata": {},
   "outputs": [
    {
     "ename": "ValueError",
     "evalue": "could not convert string to float: 'Magnitude'",
     "output_type": "error",
     "traceback": [
      "\u001b[1;31m---------------------------------------------------------------------------\u001b[0m",
      "\u001b[1;31mValueError\u001b[0m                                Traceback (most recent call last)",
      "\u001b[1;32m<ipython-input-1-1d7a24aea77c>\u001b[0m in \u001b[0;36m<module>\u001b[1;34m\u001b[0m\n\u001b[0;32m      2\u001b[0m \u001b[1;32mimport\u001b[0m \u001b[0mpandas\u001b[0m \u001b[1;32mas\u001b[0m \u001b[0mpd\u001b[0m\u001b[1;33m\u001b[0m\u001b[1;33m\u001b[0m\u001b[0m\n\u001b[0;32m      3\u001b[0m \u001b[0mseries\u001b[0m\u001b[1;33m=\u001b[0m\u001b[0mpd\u001b[0m\u001b[1;33m.\u001b[0m\u001b[0mread_excel\u001b[0m\u001b[1;33m(\u001b[0m\u001b[1;34m\"test.xlsx\"\u001b[0m\u001b[1;33m)\u001b[0m\u001b[1;33m\u001b[0m\u001b[1;33m\u001b[0m\u001b[0m\n\u001b[1;32m----> 4\u001b[1;33m \u001b[0mresult\u001b[0m \u001b[1;33m=\u001b[0m \u001b[0mseasonal_decompose\u001b[0m\u001b[1;33m(\u001b[0m\u001b[0mseries\u001b[0m\u001b[1;33m,\u001b[0m \u001b[0mmodel\u001b[0m\u001b[1;33m=\u001b[0m\u001b[1;34m'additive'\u001b[0m\u001b[1;33m)\u001b[0m\u001b[1;33m\u001b[0m\u001b[1;33m\u001b[0m\u001b[0m\n\u001b[0m\u001b[0;32m      5\u001b[0m \u001b[0mprint\u001b[0m\u001b[1;33m(\u001b[0m\u001b[0mresult\u001b[0m\u001b[1;33m.\u001b[0m\u001b[0mtrend\u001b[0m\u001b[1;33m)\u001b[0m\u001b[1;33m\u001b[0m\u001b[1;33m\u001b[0m\u001b[0m\n\u001b[0;32m      6\u001b[0m \u001b[0mprint\u001b[0m\u001b[1;33m(\u001b[0m\u001b[0mresult\u001b[0m\u001b[1;33m.\u001b[0m\u001b[0mseasonal\u001b[0m\u001b[1;33m)\u001b[0m\u001b[1;33m\u001b[0m\u001b[1;33m\u001b[0m\u001b[0m\n",
      "\u001b[1;32mD:\\Anaconda\\lib\\site-packages\\pandas\\util\\_decorators.py\u001b[0m in \u001b[0;36mwrapper\u001b[1;34m(*args, **kwargs)\u001b[0m\n\u001b[0;32m    197\u001b[0m                 \u001b[1;32melse\u001b[0m\u001b[1;33m:\u001b[0m\u001b[1;33m\u001b[0m\u001b[1;33m\u001b[0m\u001b[0m\n\u001b[0;32m    198\u001b[0m                     \u001b[0mkwargs\u001b[0m\u001b[1;33m[\u001b[0m\u001b[0mnew_arg_name\u001b[0m\u001b[1;33m]\u001b[0m \u001b[1;33m=\u001b[0m \u001b[0mnew_arg_value\u001b[0m\u001b[1;33m\u001b[0m\u001b[1;33m\u001b[0m\u001b[0m\n\u001b[1;32m--> 199\u001b[1;33m             \u001b[1;32mreturn\u001b[0m \u001b[0mfunc\u001b[0m\u001b[1;33m(\u001b[0m\u001b[1;33m*\u001b[0m\u001b[0margs\u001b[0m\u001b[1;33m,\u001b[0m \u001b[1;33m**\u001b[0m\u001b[0mkwargs\u001b[0m\u001b[1;33m)\u001b[0m\u001b[1;33m\u001b[0m\u001b[1;33m\u001b[0m\u001b[0m\n\u001b[0m\u001b[0;32m    200\u001b[0m \u001b[1;33m\u001b[0m\u001b[0m\n\u001b[0;32m    201\u001b[0m         \u001b[1;32mreturn\u001b[0m \u001b[0mcast\u001b[0m\u001b[1;33m(\u001b[0m\u001b[0mF\u001b[0m\u001b[1;33m,\u001b[0m \u001b[0mwrapper\u001b[0m\u001b[1;33m)\u001b[0m\u001b[1;33m\u001b[0m\u001b[1;33m\u001b[0m\u001b[0m\n",
      "\u001b[1;32mD:\\Anaconda\\lib\\site-packages\\statsmodels\\tsa\\seasonal.py\u001b[0m in \u001b[0;36mseasonal_decompose\u001b[1;34m(x, model, filt, period, two_sided, extrapolate_trend)\u001b[0m\n\u001b[0;32m    125\u001b[0m         \u001b[0mpfreq\u001b[0m \u001b[1;33m=\u001b[0m \u001b[0mgetattr\u001b[0m\u001b[1;33m(\u001b[0m\u001b[0mgetattr\u001b[0m\u001b[1;33m(\u001b[0m\u001b[0mx\u001b[0m\u001b[1;33m,\u001b[0m \u001b[1;34m'index'\u001b[0m\u001b[1;33m,\u001b[0m \u001b[1;32mNone\u001b[0m\u001b[1;33m)\u001b[0m\u001b[1;33m,\u001b[0m \u001b[1;34m'inferred_freq'\u001b[0m\u001b[1;33m,\u001b[0m \u001b[1;32mNone\u001b[0m\u001b[1;33m)\u001b[0m\u001b[1;33m\u001b[0m\u001b[1;33m\u001b[0m\u001b[0m\n\u001b[0;32m    126\u001b[0m \u001b[1;33m\u001b[0m\u001b[0m\n\u001b[1;32m--> 127\u001b[1;33m     \u001b[0mx\u001b[0m \u001b[1;33m=\u001b[0m \u001b[0marray_like\u001b[0m\u001b[1;33m(\u001b[0m\u001b[0mx\u001b[0m\u001b[1;33m,\u001b[0m \u001b[1;34m'x'\u001b[0m\u001b[1;33m,\u001b[0m \u001b[0mmaxdim\u001b[0m\u001b[1;33m=\u001b[0m\u001b[1;36m2\u001b[0m\u001b[1;33m)\u001b[0m\u001b[1;33m\u001b[0m\u001b[1;33m\u001b[0m\u001b[0m\n\u001b[0m\u001b[0;32m    128\u001b[0m     \u001b[0mnobs\u001b[0m \u001b[1;33m=\u001b[0m \u001b[0mlen\u001b[0m\u001b[1;33m(\u001b[0m\u001b[0mx\u001b[0m\u001b[1;33m)\u001b[0m\u001b[1;33m\u001b[0m\u001b[1;33m\u001b[0m\u001b[0m\n\u001b[0;32m    129\u001b[0m \u001b[1;33m\u001b[0m\u001b[0m\n",
      "\u001b[1;32mD:\\Anaconda\\lib\\site-packages\\statsmodels\\tools\\validation\\validation.py\u001b[0m in \u001b[0;36marray_like\u001b[1;34m(obj, name, dtype, ndim, maxdim, shape, order, contiguous, optional)\u001b[0m\n\u001b[0;32m    122\u001b[0m     \u001b[1;32mif\u001b[0m \u001b[0moptional\u001b[0m \u001b[1;32mand\u001b[0m \u001b[0mobj\u001b[0m \u001b[1;32mis\u001b[0m \u001b[1;32mNone\u001b[0m\u001b[1;33m:\u001b[0m\u001b[1;33m\u001b[0m\u001b[1;33m\u001b[0m\u001b[0m\n\u001b[0;32m    123\u001b[0m         \u001b[1;32mreturn\u001b[0m \u001b[1;32mNone\u001b[0m\u001b[1;33m\u001b[0m\u001b[1;33m\u001b[0m\u001b[0m\n\u001b[1;32m--> 124\u001b[1;33m     \u001b[0marr\u001b[0m \u001b[1;33m=\u001b[0m \u001b[0mnp\u001b[0m\u001b[1;33m.\u001b[0m\u001b[0masarray\u001b[0m\u001b[1;33m(\u001b[0m\u001b[0mobj\u001b[0m\u001b[1;33m,\u001b[0m \u001b[0mdtype\u001b[0m\u001b[1;33m=\u001b[0m\u001b[0mdtype\u001b[0m\u001b[1;33m,\u001b[0m \u001b[0morder\u001b[0m\u001b[1;33m=\u001b[0m\u001b[0morder\u001b[0m\u001b[1;33m)\u001b[0m\u001b[1;33m\u001b[0m\u001b[1;33m\u001b[0m\u001b[0m\n\u001b[0m\u001b[0;32m    125\u001b[0m     \u001b[1;32mif\u001b[0m \u001b[0mmaxdim\u001b[0m \u001b[1;32mis\u001b[0m \u001b[1;32mnot\u001b[0m \u001b[1;32mNone\u001b[0m\u001b[1;33m:\u001b[0m\u001b[1;33m\u001b[0m\u001b[1;33m\u001b[0m\u001b[0m\n\u001b[0;32m    126\u001b[0m         \u001b[1;32mif\u001b[0m \u001b[0marr\u001b[0m\u001b[1;33m.\u001b[0m\u001b[0mndim\u001b[0m \u001b[1;33m>\u001b[0m \u001b[0mmaxdim\u001b[0m\u001b[1;33m:\u001b[0m\u001b[1;33m\u001b[0m\u001b[1;33m\u001b[0m\u001b[0m\n",
      "\u001b[1;32mD:\\Anaconda\\lib\\site-packages\\numpy\\core\\_asarray.py\u001b[0m in \u001b[0;36masarray\u001b[1;34m(a, dtype, order)\u001b[0m\n\u001b[0;32m     83\u001b[0m \u001b[1;33m\u001b[0m\u001b[0m\n\u001b[0;32m     84\u001b[0m     \"\"\"\n\u001b[1;32m---> 85\u001b[1;33m     \u001b[1;32mreturn\u001b[0m \u001b[0marray\u001b[0m\u001b[1;33m(\u001b[0m\u001b[0ma\u001b[0m\u001b[1;33m,\u001b[0m \u001b[0mdtype\u001b[0m\u001b[1;33m,\u001b[0m \u001b[0mcopy\u001b[0m\u001b[1;33m=\u001b[0m\u001b[1;32mFalse\u001b[0m\u001b[1;33m,\u001b[0m \u001b[0morder\u001b[0m\u001b[1;33m=\u001b[0m\u001b[0morder\u001b[0m\u001b[1;33m)\u001b[0m\u001b[1;33m\u001b[0m\u001b[1;33m\u001b[0m\u001b[0m\n\u001b[0m\u001b[0;32m     86\u001b[0m \u001b[1;33m\u001b[0m\u001b[0m\n\u001b[0;32m     87\u001b[0m \u001b[1;33m\u001b[0m\u001b[0m\n",
      "\u001b[1;32mD:\\Anaconda\\lib\\site-packages\\pandas\\core\\generic.py\u001b[0m in \u001b[0;36m__array__\u001b[1;34m(self, dtype)\u001b[0m\n\u001b[0;32m   1776\u001b[0m \u001b[1;33m\u001b[0m\u001b[0m\n\u001b[0;32m   1777\u001b[0m     \u001b[1;32mdef\u001b[0m \u001b[0m__array__\u001b[0m\u001b[1;33m(\u001b[0m\u001b[0mself\u001b[0m\u001b[1;33m,\u001b[0m \u001b[0mdtype\u001b[0m\u001b[1;33m=\u001b[0m\u001b[1;32mNone\u001b[0m\u001b[1;33m)\u001b[0m \u001b[1;33m->\u001b[0m \u001b[0mnp\u001b[0m\u001b[1;33m.\u001b[0m\u001b[0mndarray\u001b[0m\u001b[1;33m:\u001b[0m\u001b[1;33m\u001b[0m\u001b[1;33m\u001b[0m\u001b[0m\n\u001b[1;32m-> 1778\u001b[1;33m         \u001b[1;32mreturn\u001b[0m \u001b[0mnp\u001b[0m\u001b[1;33m.\u001b[0m\u001b[0masarray\u001b[0m\u001b[1;33m(\u001b[0m\u001b[0mself\u001b[0m\u001b[1;33m.\u001b[0m\u001b[0m_values\u001b[0m\u001b[1;33m,\u001b[0m \u001b[0mdtype\u001b[0m\u001b[1;33m=\u001b[0m\u001b[0mdtype\u001b[0m\u001b[1;33m)\u001b[0m\u001b[1;33m\u001b[0m\u001b[1;33m\u001b[0m\u001b[0m\n\u001b[0m\u001b[0;32m   1779\u001b[0m \u001b[1;33m\u001b[0m\u001b[0m\n\u001b[0;32m   1780\u001b[0m     \u001b[1;32mdef\u001b[0m \u001b[0m__array_wrap__\u001b[0m\u001b[1;33m(\u001b[0m\u001b[0mself\u001b[0m\u001b[1;33m,\u001b[0m \u001b[0mresult\u001b[0m\u001b[1;33m,\u001b[0m \u001b[0mcontext\u001b[0m\u001b[1;33m=\u001b[0m\u001b[1;32mNone\u001b[0m\u001b[1;33m)\u001b[0m\u001b[1;33m:\u001b[0m\u001b[1;33m\u001b[0m\u001b[1;33m\u001b[0m\u001b[0m\n",
      "\u001b[1;32mD:\\Anaconda\\lib\\site-packages\\numpy\\core\\_asarray.py\u001b[0m in \u001b[0;36masarray\u001b[1;34m(a, dtype, order)\u001b[0m\n\u001b[0;32m     83\u001b[0m \u001b[1;33m\u001b[0m\u001b[0m\n\u001b[0;32m     84\u001b[0m     \"\"\"\n\u001b[1;32m---> 85\u001b[1;33m     \u001b[1;32mreturn\u001b[0m \u001b[0marray\u001b[0m\u001b[1;33m(\u001b[0m\u001b[0ma\u001b[0m\u001b[1;33m,\u001b[0m \u001b[0mdtype\u001b[0m\u001b[1;33m,\u001b[0m \u001b[0mcopy\u001b[0m\u001b[1;33m=\u001b[0m\u001b[1;32mFalse\u001b[0m\u001b[1;33m,\u001b[0m \u001b[0morder\u001b[0m\u001b[1;33m=\u001b[0m\u001b[0morder\u001b[0m\u001b[1;33m)\u001b[0m\u001b[1;33m\u001b[0m\u001b[1;33m\u001b[0m\u001b[0m\n\u001b[0m\u001b[0;32m     86\u001b[0m \u001b[1;33m\u001b[0m\u001b[0m\n\u001b[0;32m     87\u001b[0m \u001b[1;33m\u001b[0m\u001b[0m\n",
      "\u001b[1;31mValueError\u001b[0m: could not convert string to float: 'Magnitude'"
     ]
    }
   ],
   "source": [
    "\n"
   ]
  },
  {
   "cell_type": "code",
   "execution_count": 2,
   "metadata": {},
   "outputs": [
    {
     "ename": "KeyError",
     "evalue": "'Magnitude'",
     "output_type": "error",
     "traceback": [
      "\u001b[1;31m---------------------------------------------------------------------------\u001b[0m",
      "\u001b[1;31mKeyError\u001b[0m                                  Traceback (most recent call last)",
      "\u001b[1;32mD:\\Anaconda\\lib\\site-packages\\pandas\\core\\indexes\\base.py\u001b[0m in \u001b[0;36mget_loc\u001b[1;34m(self, key, method, tolerance)\u001b[0m\n\u001b[0;32m   2890\u001b[0m             \u001b[1;32mtry\u001b[0m\u001b[1;33m:\u001b[0m\u001b[1;33m\u001b[0m\u001b[1;33m\u001b[0m\u001b[0m\n\u001b[1;32m-> 2891\u001b[1;33m                 \u001b[1;32mreturn\u001b[0m \u001b[0mself\u001b[0m\u001b[1;33m.\u001b[0m\u001b[0m_engine\u001b[0m\u001b[1;33m.\u001b[0m\u001b[0mget_loc\u001b[0m\u001b[1;33m(\u001b[0m\u001b[0mcasted_key\u001b[0m\u001b[1;33m)\u001b[0m\u001b[1;33m\u001b[0m\u001b[1;33m\u001b[0m\u001b[0m\n\u001b[0m\u001b[0;32m   2892\u001b[0m             \u001b[1;32mexcept\u001b[0m \u001b[0mKeyError\u001b[0m \u001b[1;32mas\u001b[0m \u001b[0merr\u001b[0m\u001b[1;33m:\u001b[0m\u001b[1;33m\u001b[0m\u001b[1;33m\u001b[0m\u001b[0m\n",
      "\u001b[1;32mpandas\\_libs\\index.pyx\u001b[0m in \u001b[0;36mpandas._libs.index.IndexEngine.get_loc\u001b[1;34m()\u001b[0m\n",
      "\u001b[1;32mpandas\\_libs\\index.pyx\u001b[0m in \u001b[0;36mpandas._libs.index.IndexEngine.get_loc\u001b[1;34m()\u001b[0m\n",
      "\u001b[1;32mpandas\\_libs\\hashtable_class_helper.pxi\u001b[0m in \u001b[0;36mpandas._libs.hashtable.PyObjectHashTable.get_item\u001b[1;34m()\u001b[0m\n",
      "\u001b[1;32mpandas\\_libs\\hashtable_class_helper.pxi\u001b[0m in \u001b[0;36mpandas._libs.hashtable.PyObjectHashTable.get_item\u001b[1;34m()\u001b[0m\n",
      "\u001b[1;31mKeyError\u001b[0m: 'Magnitude'",
      "\nThe above exception was the direct cause of the following exception:\n",
      "\u001b[1;31mKeyError\u001b[0m                                  Traceback (most recent call last)",
      "\u001b[1;32m<ipython-input-2-df998429f987>\u001b[0m in \u001b[0;36m<module>\u001b[1;34m\u001b[0m\n\u001b[1;32m----> 1\u001b[1;33m \u001b[0mprint\u001b[0m\u001b[1;33m(\u001b[0m\u001b[0mseries\u001b[0m\u001b[1;33m[\u001b[0m\u001b[1;34m\"Magnitude\"\u001b[0m\u001b[1;33m]\u001b[0m\u001b[1;33m)\u001b[0m\u001b[1;33m\u001b[0m\u001b[1;33m\u001b[0m\u001b[0m\n\u001b[0m",
      "\u001b[1;32mD:\\Anaconda\\lib\\site-packages\\pandas\\core\\frame.py\u001b[0m in \u001b[0;36m__getitem__\u001b[1;34m(self, key)\u001b[0m\n\u001b[0;32m   2900\u001b[0m             \u001b[1;32mif\u001b[0m \u001b[0mself\u001b[0m\u001b[1;33m.\u001b[0m\u001b[0mcolumns\u001b[0m\u001b[1;33m.\u001b[0m\u001b[0mnlevels\u001b[0m \u001b[1;33m>\u001b[0m \u001b[1;36m1\u001b[0m\u001b[1;33m:\u001b[0m\u001b[1;33m\u001b[0m\u001b[1;33m\u001b[0m\u001b[0m\n\u001b[0;32m   2901\u001b[0m                 \u001b[1;32mreturn\u001b[0m \u001b[0mself\u001b[0m\u001b[1;33m.\u001b[0m\u001b[0m_getitem_multilevel\u001b[0m\u001b[1;33m(\u001b[0m\u001b[0mkey\u001b[0m\u001b[1;33m)\u001b[0m\u001b[1;33m\u001b[0m\u001b[1;33m\u001b[0m\u001b[0m\n\u001b[1;32m-> 2902\u001b[1;33m             \u001b[0mindexer\u001b[0m \u001b[1;33m=\u001b[0m \u001b[0mself\u001b[0m\u001b[1;33m.\u001b[0m\u001b[0mcolumns\u001b[0m\u001b[1;33m.\u001b[0m\u001b[0mget_loc\u001b[0m\u001b[1;33m(\u001b[0m\u001b[0mkey\u001b[0m\u001b[1;33m)\u001b[0m\u001b[1;33m\u001b[0m\u001b[1;33m\u001b[0m\u001b[0m\n\u001b[0m\u001b[0;32m   2903\u001b[0m             \u001b[1;32mif\u001b[0m \u001b[0mis_integer\u001b[0m\u001b[1;33m(\u001b[0m\u001b[0mindexer\u001b[0m\u001b[1;33m)\u001b[0m\u001b[1;33m:\u001b[0m\u001b[1;33m\u001b[0m\u001b[1;33m\u001b[0m\u001b[0m\n\u001b[0;32m   2904\u001b[0m                 \u001b[0mindexer\u001b[0m \u001b[1;33m=\u001b[0m \u001b[1;33m[\u001b[0m\u001b[0mindexer\u001b[0m\u001b[1;33m]\u001b[0m\u001b[1;33m\u001b[0m\u001b[1;33m\u001b[0m\u001b[0m\n",
      "\u001b[1;32mD:\\Anaconda\\lib\\site-packages\\pandas\\core\\indexes\\base.py\u001b[0m in \u001b[0;36mget_loc\u001b[1;34m(self, key, method, tolerance)\u001b[0m\n\u001b[0;32m   2891\u001b[0m                 \u001b[1;32mreturn\u001b[0m \u001b[0mself\u001b[0m\u001b[1;33m.\u001b[0m\u001b[0m_engine\u001b[0m\u001b[1;33m.\u001b[0m\u001b[0mget_loc\u001b[0m\u001b[1;33m(\u001b[0m\u001b[0mcasted_key\u001b[0m\u001b[1;33m)\u001b[0m\u001b[1;33m\u001b[0m\u001b[1;33m\u001b[0m\u001b[0m\n\u001b[0;32m   2892\u001b[0m             \u001b[1;32mexcept\u001b[0m \u001b[0mKeyError\u001b[0m \u001b[1;32mas\u001b[0m \u001b[0merr\u001b[0m\u001b[1;33m:\u001b[0m\u001b[1;33m\u001b[0m\u001b[1;33m\u001b[0m\u001b[0m\n\u001b[1;32m-> 2893\u001b[1;33m                 \u001b[1;32mraise\u001b[0m \u001b[0mKeyError\u001b[0m\u001b[1;33m(\u001b[0m\u001b[0mkey\u001b[0m\u001b[1;33m)\u001b[0m \u001b[1;32mfrom\u001b[0m \u001b[0merr\u001b[0m\u001b[1;33m\u001b[0m\u001b[1;33m\u001b[0m\u001b[0m\n\u001b[0m\u001b[0;32m   2894\u001b[0m \u001b[1;33m\u001b[0m\u001b[0m\n\u001b[0;32m   2895\u001b[0m         \u001b[1;32mif\u001b[0m \u001b[0mtolerance\u001b[0m \u001b[1;32mis\u001b[0m \u001b[1;32mnot\u001b[0m \u001b[1;32mNone\u001b[0m\u001b[1;33m:\u001b[0m\u001b[1;33m\u001b[0m\u001b[1;33m\u001b[0m\u001b[0m\n",
      "\u001b[1;31mKeyError\u001b[0m: 'Magnitude'"
     ]
    }
   ],
   "source": [
    "print(series[\"Magnitude\"])"
   ]
  },
  {
   "cell_type": "code",
   "execution_count": 79,
   "metadata": {},
   "outputs": [
    {
     "name": "stdout",
     "output_type": "stream",
     "text": [
      "0       19512.001953\n",
      "1       20690.994141\n",
      "2           0.000000\n",
      "3       21483.884766\n",
      "4       21457.382138\n",
      "            ...     \n",
      "7528    22796.368666\n",
      "7529    22235.685945\n",
      "7530    22981.394900\n",
      "7531    22815.453036\n",
      "7532        0.000000\n",
      "Name: BHP.kPag, Length: 7533, dtype: float64\n"
     ]
    }
   ],
   "source": [
    "tst=pd.read_excel(\"test.xlsx\")\n",
    "print(tst[\"BHP.kPag\"])"
   ]
  },
  {
   "cell_type": "code",
   "execution_count": 323,
   "metadata": {},
   "outputs": [
    {
     "name": "stdout",
     "output_type": "stream",
     "text": [
      "Date/Time\n",
      "2017-09-05 01:27:55.400    19512.001953\n",
      "2017-09-05 01:27:55.400    20690.994141\n",
      "2017-09-05 01:27:55.400        0.000000\n",
      "2017-09-05 01:27:55.400    21483.884766\n",
      "2017-09-05 01:27:55.400    21457.382138\n",
      "                               ...     \n",
      "2018-07-14 01:00:23.200    22796.368666\n",
      "2018-07-14 01:00:23.200    22235.685945\n",
      "2018-07-14 01:00:23.200    22981.394900\n",
      "2018-07-14 01:00:23.200    22815.453036\n",
      "2018-07-14 01:00:23.200        0.000000\n",
      "Name: BHP.kPag, Length: 7533, dtype: float64\n"
     ]
    },
    {
     "data": {
      "image/png": "[encoded data removed]",
      "text/plain": [
       "<Figure size 432x288 with 1 Axes>"
      ]
     },
     "metadata": {
      "needs_background": "light"
     },
     "output_type": "display_data"
    }
   ],
   "source": [
    "from statsmodels.tsa.seasonal import seasonal_decompose\n",
    "import matplotlib.pyplot as plt\n",
    "import pandas as pd\n",
    "\n",
    "series=pd.read_excel(\"test.xlsx\", header=0, index_col=0)\n",
    "print(series[\"BHP.kPag\"])\n",
    "result = seasonal_decompose(series[\"BHP.kPag\"], model='additive', period=3500)\n",
    "#print(result.trend)\n",
    "#print(result.seasonal)\n",
    "#print(result.resid)\n",
    "#print(result.observed)\n",
    "result.trend.plot()\n",
    "ax=plt.gca()\n",
    "ax.set_xlabel(\"Date\")\n",
    "ax.set_ylabel(\"BHP.kpag\")\n",
    "plt.show()"
   ]
  },
  {
   "cell_type": "code",
   "execution_count": 324,
   "metadata": {},
   "outputs": [
    {
     "name": "stdout",
     "output_type": "stream",
     "text": [
      "Date/Time\n",
      "2017-09-05 01:27:55.400    19512.001953\n",
      "2017-09-05 01:27:55.400    20690.994141\n",
      "2017-09-05 01:27:55.400        0.000000\n",
      "2017-09-05 01:27:55.400    21483.884766\n",
      "2017-09-05 01:27:55.400    21457.382138\n",
      "                               ...     \n",
      "2018-07-14 01:00:23.200    22796.368666\n",
      "2018-07-14 01:00:23.200    22235.685945\n",
      "2018-07-14 01:00:23.200    22981.394900\n",
      "2018-07-14 01:00:23.200    22815.453036\n",
      "2018-07-14 01:00:23.200        0.000000\n",
      "Name: BHP.kPag, Length: 7533, dtype: float64\n"
     ]
    },
    {
     "data": {
      "image/png": "[encoded data removed]",
      "text/plain": [
       "<Figure size 432x288 with 1 Axes>"
      ]
     },
     "metadata": {
      "needs_background": "light"
     },
     "output_type": "display_data"
    }
   ],
   "source": [
    "from statsmodels.tsa.seasonal import seasonal_decompose\n",
    "import matplotlib.pyplot as plt\n",
    "import pandas as pd\n",
    "series=pd.read_excel(\"test.xlsx\", header=0, index_col=0)\n",
    "print(series[\"BHP.kPag\"])\n",
    "result = seasonal_decompose(series[\"Magnitude\"], model='additive', period=3000)\n",
    "#print(result.trend)\n",
    "#print(result.seasonal)\n",
    "#print(result.resid)\n",
    "#print(result.observed)\n",
    "result.trend.plot()\n",
    "ax=plt.gca()\n",
    "ax.set_ylabel(\"Magnitude\")\n",
    "plt.show()"
   ]
  },
  {
   "cell_type": "code",
   "execution_count": 325,
   "metadata": {},
   "outputs": [
    {
     "name": "stdout",
     "output_type": "stream",
     "text": [
      "Date/Time\n",
      "2017-09-05 01:27:55.400    19512.001953\n",
      "2017-09-05 01:27:55.400    20690.994141\n",
      "2017-09-05 01:27:55.400        0.000000\n",
      "2017-09-05 01:27:55.400    21483.884766\n",
      "2017-09-05 01:27:55.400    21457.382138\n",
      "                               ...     \n",
      "2018-07-14 01:00:23.200    22796.368666\n",
      "2018-07-14 01:00:23.200    22235.685945\n",
      "2018-07-14 01:00:23.200    22981.394900\n",
      "2018-07-14 01:00:23.200    22815.453036\n",
      "2018-07-14 01:00:23.200        0.000000\n",
      "Name: BHP.kPag, Length: 7533, dtype: float64\n"
     ]
    },
    {
     "data": {
      "image/png": "[encoded data removed]",
      "text/plain": [
       "<Figure size 432x288 with 1 Axes>"
      ]
     },
     "metadata": {
      "needs_background": "light"
     },
     "output_type": "display_data"
    }
   ],
   "source": [
    "from statsmodels.tsa.seasonal import seasonal_decompose\n",
    "import matplotlib.pyplot as plt\n",
    "import pandas as pd\n",
    "series=pd.read_excel(\"test.xlsx\", header=0, index_col=0)\n",
    "print(series[\"BHP.kPag\"])\n",
    "result = seasonal_decompose(series[\"CO2 Injection Rate (kg/s)\"], model='additive', period=3000)\n",
    "#print(result.trend)\n",
    "#print(result.seasonal)\n",
    "#print(result.resid)\n",
    "#print(result.observed)\n",
    "result.trend.plot()\n",
    "ax=plt.gca()\n",
    "ax.set_ylabel(\"CO2 Injection Rate (kg/s)\")\n",
    "plt.show()"
   ]
  },
  {
   "cell_type": "code",
   "execution_count": 326,
   "metadata": {},
   "outputs": [
    {
     "name": "stdout",
     "output_type": "stream",
     "text": [
      "Date/Time\n",
      "2017-09-05 01:27:55.400    19512.001953\n",
      "2017-09-05 01:27:55.400    20690.994141\n",
      "2017-09-05 01:27:55.400        0.000000\n",
      "2017-09-05 01:27:55.400    21483.884766\n",
      "2017-09-05 01:27:55.400    21457.382138\n",
      "                               ...     \n",
      "2018-07-14 01:00:23.200    22796.368666\n",
      "2018-07-14 01:00:23.200    22235.685945\n",
      "2018-07-14 01:00:23.200    22981.394900\n",
      "2018-07-14 01:00:23.200    22815.453036\n",
      "2018-07-14 01:00:23.200        0.000000\n",
      "Name: BHP.kPag, Length: 7533, dtype: float64\n"
     ]
    },
    {
     "data": {
      "image/png": "[encoded data removed]",
      "text/plain": [
       "<Figure size 432x288 with 1 Axes>"
      ]
     },
     "metadata": {
      "needs_background": "light"
     },
     "output_type": "display_data"
    },
    {
     "name": "stdout",
     "output_type": "stream",
     "text": [
      "                         Magnitude Cluster             newdate  \\\n",
      "Date/Time                                                        \n",
      "2017-09-05 01:27:55.400       -2.1     C-5 2017-09-05 01:00:00   \n",
      "2017-09-05 01:27:55.400       -2.1     C-5 2017-09-05 01:00:00   \n",
      "2017-09-05 01:27:55.400       -2.1     C-5 2017-09-05 01:00:00   \n",
      "2017-09-05 01:27:55.400       -2.1     C-5 2017-09-05 01:00:00   \n",
      "2017-09-05 01:27:55.400       -2.1     C-5 2017-09-05 01:00:00   \n",
      "...                            ...     ...                 ...   \n",
      "2018-07-14 01:00:23.200       -0.9     C-6 2018-07-14 01:00:00   \n",
      "2018-07-14 01:00:23.200       -0.9     C-6 2018-07-14 01:00:00   \n",
      "2018-07-14 01:00:23.200       -0.9     C-6 2018-07-14 01:00:00   \n",
      "2018-07-14 01:00:23.200       -0.9     C-6 2018-07-14 01:00:00   \n",
      "2018-07-14 01:00:23.200       -0.9     C-6 2018-07-14 01:00:00   \n",
      "\n",
      "                                       Time Drill Centre Well_Name  \\\n",
      "Date/Time                                                            \n",
      "2017-09-05 01:27:55.400 2017-09-05 01:00:00            B        W5   \n",
      "2017-09-05 01:27:55.400 2017-09-05 01:00:00            C        W8   \n",
      "2017-09-05 01:27:55.400 2017-09-05 01:00:00            C        W9   \n",
      "2017-09-05 01:27:55.400 2017-09-05 01:00:00            A        W1   \n",
      "2017-09-05 01:27:55.400 2017-09-05 01:00:00            B        W4   \n",
      "...                                     ...          ...       ...   \n",
      "2018-07-14 01:00:23.200 2018-07-14 01:00:00            A        W2   \n",
      "2018-07-14 01:00:23.200 2018-07-14 01:00:00            C        W8   \n",
      "2018-07-14 01:00:23.200 2018-07-14 01:00:00            A        W1   \n",
      "2018-07-14 01:00:23.200 2018-07-14 01:00:00            B        W3   \n",
      "2018-07-14 01:00:23.200 2018-07-14 01:00:00            C        W9   \n",
      "\n",
      "                             BHP.kPag   BHT.degC  CO2 Injection Rate (kg/s)  \\\n",
      "Date/Time                                                                     \n",
      "2017-09-05 01:27:55.400  19512.001953  99.459999                   0.000000   \n",
      "2017-09-05 01:27:55.400  20690.994141  95.949036                   0.000000   \n",
      "2017-09-05 01:27:55.400      0.000000   0.000000                   0.000000   \n",
      "2017-09-05 01:27:55.400  21483.884766  93.808453                   0.000000   \n",
      "2017-09-05 01:27:55.400  21457.382138  87.213637                   4.766009   \n",
      "...                               ...        ...                        ...   \n",
      "2018-07-14 01:00:23.200  22796.368666  83.504283                  15.324224   \n",
      "2018-07-14 01:00:23.200  22235.685945  80.771699                  15.326841   \n",
      "2018-07-14 01:00:23.200  22981.394900  84.203909                  15.331589   \n",
      "2018-07-14 01:00:23.200  22815.453036  84.044647                  15.337084   \n",
      "2018-07-14 01:00:23.200      0.000000   0.000000                  15.834683   \n",
      "\n",
      "                         Cumm Inj (Tonnes)  \n",
      "Date/Time                                   \n",
      "2017-09-05 01:27:55.400           0.000000  \n",
      "2017-09-05 01:27:55.400        9980.185022  \n",
      "2017-09-05 01:27:55.400           0.000000  \n",
      "2017-09-05 01:27:55.400       17142.687242  \n",
      "2017-09-05 01:27:55.400         194.919708  \n",
      "...                                    ...  \n",
      "2018-07-14 01:00:23.200      419155.408340  \n",
      "2018-07-14 01:00:23.200      263427.235401  \n",
      "2018-07-14 01:00:23.200      354493.006742  \n",
      "2018-07-14 01:00:23.200      283212.765343  \n",
      "2018-07-14 01:00:23.200      306514.140925  \n",
      "\n",
      "[7533 rows x 10 columns]\n"
     ]
    }
   ],
   "source": [
    "from statsmodels.tsa.seasonal import seasonal_decompose\n",
    "import matplotlib.pyplot as plt\n",
    "import pandas as pd\n",
    "series=pd.read_excel(\"test.xlsx\", header=0, index_col=0)\n",
    "print(series[\"BHP.kPag\"])\n",
    "result = seasonal_decompose(series[\"Cumm Inj (Tonnes)\"], model='additive', period=3000)\n",
    "#print(result.trend)\n",
    "#print(result.seasonal)\n",
    "#print(result.resid)\n",
    "#print(result.observed)\n",
    "result.trend.plot()\n",
    "ax=plt.gca()\n",
    "ax.set_ylabel(\"Cumm Inj (Tonnes)\")\n",
    "plt.show()\n",
    "print(series)"
   ]
  },
  {
   "cell_type": "code",
   "execution_count": 240,
   "metadata": {},
   "outputs": [
    {
     "name": "stdout",
     "output_type": "stream",
     "text": [
      "0      2017-09-05 01:00:00\n",
      "1      2017-09-05 01:00:00\n",
      "2      2017-09-05 01:00:00\n",
      "3      2017-09-05 01:00:00\n",
      "4      2017-09-05 01:00:00\n",
      "               ...        \n",
      "7528   2018-07-14 01:00:00\n",
      "7529   2018-07-14 01:00:00\n",
      "7530   2018-07-14 01:00:00\n",
      "7531   2018-07-14 01:00:00\n",
      "7532   2018-07-14 01:00:00\n",
      "Name: Time, Length: 7533, dtype: datetime64[ns]\n",
      "TRAIN:                      Time      BHP.kPag   BHT.degC  CO2 Injection Rate (kg/s)  \\\n",
      "0    2017-09-05 01:00:00  19512.001953  99.459999                   0.000000   \n",
      "1    2017-09-05 01:00:00  20690.994141  95.949036                   0.000000   \n",
      "2    2017-09-05 01:00:00      0.000000   0.000000                   0.000000   \n",
      "3    2017-09-05 01:00:00  21483.884766  93.808453                   0.000000   \n",
      "4    2017-09-05 01:00:00  21457.382138  87.213637                   4.766009   \n",
      "...                  ...           ...        ...                        ...   \n",
      "1879 2018-03-05 22:00:00  22158.033858  83.943192                  17.089292   \n",
      "1880 2018-03-05 22:00:00      0.000000   0.000000                  17.530338   \n",
      "1881 2018-03-05 22:00:00  22487.265447  84.941983                  15.335343   \n",
      "1882 2018-03-05 22:00:00  22520.869519  84.887594                  15.486437   \n",
      "1883 2018-03-05 22:00:00  22243.183699  83.151731                  15.486891   \n",
      "\n",
      "      Magnitude  \n",
      "0          -2.1  \n",
      "1          -2.1  \n",
      "2          -2.1  \n",
      "3          -2.1  \n",
      "4          -2.1  \n",
      "...         ...  \n",
      "1879       -2.0  \n",
      "1880       -2.0  \n",
      "1881       -1.4  \n",
      "1882       -1.4  \n",
      "1883       -1.4  \n",
      "\n",
      "[1884 rows x 5 columns] TEST:                      Time      BHP.kPag   BHT.degC  CO2 Injection Rate (kg/s)  \\\n",
      "1884 2018-03-05 22:00:00  22535.480242  83.852117                  15.786694   \n",
      "1885 2018-03-05 22:00:00  22552.439952  84.886025                  16.062619   \n",
      "1886 2018-03-05 22:00:00  22741.593359  84.593232                  16.499985   \n",
      "1887 2018-03-05 22:00:00  21995.501353  82.852709                  16.796591   \n",
      "1888 2018-03-05 22:00:00  22158.033858  83.943192                  17.089292   \n",
      "...                  ...           ...        ...                        ...   \n",
      "3762 2018-04-14 10:00:00  22556.289244  84.695237                   9.621316   \n",
      "3763 2018-04-14 10:00:00  22499.263807  84.607716                   9.909309   \n",
      "3764 2018-04-14 10:00:00  22185.050451  82.527439                   9.988746   \n",
      "3765 2018-04-14 10:00:00  22006.487811  83.537594                  10.372742   \n",
      "3766 2018-04-14 10:00:00  22569.918650  84.687885                  10.382856   \n",
      "\n",
      "      Magnitude  \n",
      "1884       -1.4  \n",
      "1885       -1.4  \n",
      "1886       -1.4  \n",
      "1887       -1.4  \n",
      "1888       -1.4  \n",
      "...         ...  \n",
      "3762       -1.2  \n",
      "3763       -1.2  \n",
      "3764       -1.2  \n",
      "3765       -1.2  \n",
      "3766       -1.2  \n",
      "\n",
      "[1883 rows x 5 columns]\n",
      "TRAIN:                      Time      BHP.kPag   BHT.degC  CO2 Injection Rate (kg/s)  \\\n",
      "0    2017-09-05 01:00:00  19512.001953  99.459999                   0.000000   \n",
      "1    2017-09-05 01:00:00  20690.994141  95.949036                   0.000000   \n",
      "2    2017-09-05 01:00:00      0.000000   0.000000                   0.000000   \n",
      "3    2017-09-05 01:00:00  21483.884766  93.808453                   0.000000   \n",
      "4    2017-09-05 01:00:00  21457.382138  87.213637                   4.766009   \n",
      "...                  ...           ...        ...                        ...   \n",
      "3762 2018-04-14 10:00:00  22556.289244  84.695237                   9.621316   \n",
      "3763 2018-04-14 10:00:00  22499.263807  84.607716                   9.909309   \n",
      "3764 2018-04-14 10:00:00  22185.050451  82.527439                   9.988746   \n",
      "3765 2018-04-14 10:00:00  22006.487811  83.537594                  10.372742   \n",
      "3766 2018-04-14 10:00:00  22569.918650  84.687885                  10.382856   \n",
      "\n",
      "      Magnitude  \n",
      "0          -2.1  \n",
      "1          -2.1  \n",
      "2          -2.1  \n",
      "3          -2.1  \n",
      "4          -2.1  \n",
      "...         ...  \n",
      "3762       -1.2  \n",
      "3763       -1.2  \n",
      "3764       -1.2  \n",
      "3765       -1.2  \n",
      "3766       -1.2  \n",
      "\n",
      "[3767 rows x 5 columns] TEST:                      Time      BHP.kPag   BHT.degC  CO2 Injection Rate (kg/s)  \\\n",
      "3767 2018-04-14 10:00:00  21969.794651  81.980911                  10.568806   \n",
      "3768 2018-04-14 10:00:00  22423.236342  83.496344                  10.853664   \n",
      "3769 2018-04-14 10:00:00  22687.031905  84.377063                  11.126029   \n",
      "3770 2018-04-14 10:00:00      0.000000   0.000000                  11.504635   \n",
      "3771 2018-04-14 12:00:00  22564.582070  84.640143                  10.093006   \n",
      "...                  ...           ...        ...                        ...   \n",
      "5645 2018-05-22 09:00:00  22195.695513  81.722985                   8.561229   \n",
      "5646 2018-05-22 09:00:00  22048.981954  82.498297                   8.864759   \n",
      "5647 2018-05-22 09:00:00  22644.036735  83.907029                   8.868045   \n",
      "5648 2018-05-22 09:00:00  21966.705186  80.980962                   9.041085   \n",
      "5649 2018-05-22 09:00:00  22451.195513  82.049686                   9.274517   \n",
      "\n",
      "      Magnitude  \n",
      "3767       -1.2  \n",
      "3768       -1.2  \n",
      "3769       -1.2  \n",
      "3770       -1.2  \n",
      "3771       -1.6  \n",
      "...         ...  \n",
      "5645       -0.7  \n",
      "5646       -0.7  \n",
      "5647       -0.7  \n",
      "5648       -0.7  \n",
      "5649       -0.7  \n",
      "\n",
      "[1883 rows x 5 columns]\n",
      "TRAIN:                      Time      BHP.kPag   BHT.degC  CO2 Injection Rate (kg/s)  \\\n",
      "0    2017-09-05 01:00:00  19512.001953  99.459999                   0.000000   \n",
      "1    2017-09-05 01:00:00  20690.994141  95.949036                   0.000000   \n",
      "2    2017-09-05 01:00:00      0.000000   0.000000                   0.000000   \n",
      "3    2017-09-05 01:00:00  21483.884766  93.808453                   0.000000   \n",
      "4    2017-09-05 01:00:00  21457.382138  87.213637                   4.766009   \n",
      "...                  ...           ...        ...                        ...   \n",
      "5645 2018-05-22 09:00:00  22195.695513  81.722985                   8.561229   \n",
      "5646 2018-05-22 09:00:00  22048.981954  82.498297                   8.864759   \n",
      "5647 2018-05-22 09:00:00  22644.036735  83.907029                   8.868045   \n",
      "5648 2018-05-22 09:00:00  21966.705186  80.980962                   9.041085   \n",
      "5649 2018-05-22 09:00:00  22451.195513  82.049686                   9.274517   \n",
      "\n",
      "      Magnitude  \n",
      "0          -2.1  \n",
      "1          -2.1  \n",
      "2          -2.1  \n",
      "3          -2.1  \n",
      "4          -2.1  \n",
      "...         ...  \n",
      "5645       -0.7  \n",
      "5646       -0.7  \n",
      "5647       -0.7  \n",
      "5648       -0.7  \n",
      "5649       -0.7  \n",
      "\n",
      "[5650 rows x 5 columns] TEST:                      Time      BHP.kPag   BHT.degC  CO2 Injection Rate (kg/s)  \\\n",
      "5650 2018-05-22 09:00:00  22704.911625  83.168419                   9.516650   \n",
      "5651 2018-05-22 09:00:00      0.000000   0.000000                   9.830480   \n",
      "5652 2018-05-22 20:00:00  22754.482461  83.770254                  12.744575   \n",
      "5653 2018-05-22 20:00:00  22704.152042  83.711511                  13.118058   \n",
      "5654 2018-05-22 20:00:00  22344.490337  81.575071                  13.231861   \n",
      "...                  ...           ...        ...                        ...   \n",
      "7528 2018-07-14 01:00:00  22796.368666  83.504283                  15.324224   \n",
      "7529 2018-07-14 01:00:00  22235.685945  80.771699                  15.326841   \n",
      "7530 2018-07-14 01:00:00  22981.394900  84.203909                  15.331589   \n",
      "7531 2018-07-14 01:00:00  22815.453036  84.044647                  15.337084   \n",
      "7532 2018-07-14 01:00:00      0.000000   0.000000                  15.834683   \n",
      "\n",
      "      Magnitude  \n",
      "5650       -0.7  \n",
      "5651       -0.7  \n",
      "5652       -1.1  \n",
      "5653       -1.1  \n",
      "5654       -1.1  \n",
      "...         ...  \n",
      "7528       -0.9  \n",
      "7529       -0.9  \n",
      "7530       -0.9  \n",
      "7531       -0.9  \n",
      "7532       -0.9  \n",
      "\n",
      "[1883 rows x 5 columns]\n"
     ]
    }
   ],
   "source": [
    "import pandas as pd\n",
    "from sklearn.model_selection import TimeSeriesSplit\n",
    "from matplotlib import pyplot\n",
    "series = pd.read_excel('dataset.xlsx', header=0, index_col=None)\n",
    "X = series.values\n",
    "print(series[\"Time\"])\n",
    "tscv = TimeSeriesSplit(n_splits=3)\n",
    "count=0\n",
    "for train_idx, test_idx in tscv.split(X):\n",
    "    print('TRAIN: ', series.loc[series.index.isin(train_idx)], \n",
    "          'TEST: ', series.loc[series.index.isin(test_idx)])\n",
    "    count+=1\n",
    "    if count==1:\n",
    "        xtr1=series.loc[series.index.isin(train_idx)]\n",
    "    elif count==2:\n",
    "        xtr2=series.loc[series.index.isin(train_idx)]\n",
    "    elif count==3:\n",
    "        xtr3=series.loc[series.index.isin(train_idx)]\n",
    "    #tran=series.loc[series.index.isin(train_idx)]\n",
    "    #tst=series.loc[series.index.isin(test_idx)]\n",
    "#right way of splitting\n",
    "#train-1509,3015,4521,6027 #test-1506\n",
    "\n"
   ]
  },
  {
   "cell_type": "code",
   "execution_count": 123,
   "metadata": {},
   "outputs": [
    {
     "name": "stdout",
     "output_type": "stream",
     "text": [
      "                         BHP.kPag   BHT.degC  CO2 Injection Rate (kg/s)  \\\n",
      "Time                                                                      \n",
      "2017-09-05 01:00:00  19512.001953  99.459999                   0.000000   \n",
      "2017-09-05 01:00:00  20690.994141  95.949036                   0.000000   \n",
      "2017-09-05 01:00:00      0.000000   0.000000                   0.000000   \n",
      "2017-09-05 01:00:00  21483.884766  93.808453                   0.000000   \n",
      "2017-09-05 01:00:00  21457.382138  87.213637                   4.766009   \n",
      "...                           ...        ...                        ...   \n",
      "2018-07-14 01:00:00  22796.368666  83.504283                  15.324224   \n",
      "2018-07-14 01:00:00  22235.685945  80.771699                  15.326841   \n",
      "2018-07-14 01:00:00  22981.394900  84.203909                  15.331589   \n",
      "2018-07-14 01:00:00  22815.453036  84.044647                  15.337084   \n",
      "2018-07-14 01:00:00      0.000000   0.000000                  15.834683   \n",
      "\n",
      "                     Magnitude  \n",
      "Time                            \n",
      "2017-09-05 01:00:00       -2.1  \n",
      "2017-09-05 01:00:00       -2.1  \n",
      "2017-09-05 01:00:00       -2.1  \n",
      "2017-09-05 01:00:00       -2.1  \n",
      "2017-09-05 01:00:00       -2.1  \n",
      "...                        ...  \n",
      "2018-07-14 01:00:00       -0.9  \n",
      "2018-07-14 01:00:00       -0.9  \n",
      "2018-07-14 01:00:00       -0.9  \n",
      "2018-07-14 01:00:00       -0.9  \n",
      "2018-07-14 01:00:00       -0.9  \n",
      "\n",
      "[7533 rows x 4 columns]\n"
     ]
    }
   ],
   "source": [
    "print(series)"
   ]
  },
  {
   "cell_type": "code",
   "execution_count": 126,
   "metadata": {},
   "outputs": [
    {
     "ename": "KeyError",
     "evalue": "'Time'",
     "output_type": "error",
     "traceback": [
      "\u001b[1;31m---------------------------------------------------------------------------\u001b[0m",
      "\u001b[1;31mKeyError\u001b[0m                                  Traceback (most recent call last)",
      "\u001b[1;32mD:\\Anaconda\\lib\\site-packages\\pandas\\core\\indexes\\base.py\u001b[0m in \u001b[0;36mget_loc\u001b[1;34m(self, key, method, tolerance)\u001b[0m\n\u001b[0;32m   2890\u001b[0m             \u001b[1;32mtry\u001b[0m\u001b[1;33m:\u001b[0m\u001b[1;33m\u001b[0m\u001b[1;33m\u001b[0m\u001b[0m\n\u001b[1;32m-> 2891\u001b[1;33m                 \u001b[1;32mreturn\u001b[0m \u001b[0mself\u001b[0m\u001b[1;33m.\u001b[0m\u001b[0m_engine\u001b[0m\u001b[1;33m.\u001b[0m\u001b[0mget_loc\u001b[0m\u001b[1;33m(\u001b[0m\u001b[0mcasted_key\u001b[0m\u001b[1;33m)\u001b[0m\u001b[1;33m\u001b[0m\u001b[1;33m\u001b[0m\u001b[0m\n\u001b[0m\u001b[0;32m   2892\u001b[0m             \u001b[1;32mexcept\u001b[0m \u001b[0mKeyError\u001b[0m \u001b[1;32mas\u001b[0m \u001b[0merr\u001b[0m\u001b[1;33m:\u001b[0m\u001b[1;33m\u001b[0m\u001b[1;33m\u001b[0m\u001b[0m\n",
      "\u001b[1;32mpandas\\_libs\\index.pyx\u001b[0m in \u001b[0;36mpandas._libs.index.IndexEngine.get_loc\u001b[1;34m()\u001b[0m\n",
      "\u001b[1;32mpandas\\_libs\\index.pyx\u001b[0m in \u001b[0;36mpandas._libs.index.IndexEngine.get_loc\u001b[1;34m()\u001b[0m\n",
      "\u001b[1;32mpandas\\_libs\\hashtable_class_helper.pxi\u001b[0m in \u001b[0;36mpandas._libs.hashtable.PyObjectHashTable.get_item\u001b[1;34m()\u001b[0m\n",
      "\u001b[1;32mpandas\\_libs\\hashtable_class_helper.pxi\u001b[0m in \u001b[0;36mpandas._libs.hashtable.PyObjectHashTable.get_item\u001b[1;34m()\u001b[0m\n",
      "\u001b[1;31mKeyError\u001b[0m: 'Time'",
      "\nThe above exception was the direct cause of the following exception:\n",
      "\u001b[1;31mKeyError\u001b[0m                                  Traceback (most recent call last)",
      "\u001b[1;32m<ipython-input-126-5ab52c8832b2>\u001b[0m in \u001b[0;36m<module>\u001b[1;34m\u001b[0m\n\u001b[1;32m----> 1\u001b[1;33m \u001b[0mprint\u001b[0m\u001b[1;33m(\u001b[0m\u001b[0mseries\u001b[0m\u001b[1;33m[\u001b[0m\u001b[1;34m\"Time\"\u001b[0m\u001b[1;33m]\u001b[0m\u001b[1;33m)\u001b[0m\u001b[1;33m\u001b[0m\u001b[1;33m\u001b[0m\u001b[0m\n\u001b[0m",
      "\u001b[1;32mD:\\Anaconda\\lib\\site-packages\\pandas\\core\\frame.py\u001b[0m in \u001b[0;36m__getitem__\u001b[1;34m(self, key)\u001b[0m\n\u001b[0;32m   2900\u001b[0m             \u001b[1;32mif\u001b[0m \u001b[0mself\u001b[0m\u001b[1;33m.\u001b[0m\u001b[0mcolumns\u001b[0m\u001b[1;33m.\u001b[0m\u001b[0mnlevels\u001b[0m \u001b[1;33m>\u001b[0m \u001b[1;36m1\u001b[0m\u001b[1;33m:\u001b[0m\u001b[1;33m\u001b[0m\u001b[1;33m\u001b[0m\u001b[0m\n\u001b[0;32m   2901\u001b[0m                 \u001b[1;32mreturn\u001b[0m \u001b[0mself\u001b[0m\u001b[1;33m.\u001b[0m\u001b[0m_getitem_multilevel\u001b[0m\u001b[1;33m(\u001b[0m\u001b[0mkey\u001b[0m\u001b[1;33m)\u001b[0m\u001b[1;33m\u001b[0m\u001b[1;33m\u001b[0m\u001b[0m\n\u001b[1;32m-> 2902\u001b[1;33m             \u001b[0mindexer\u001b[0m \u001b[1;33m=\u001b[0m \u001b[0mself\u001b[0m\u001b[1;33m.\u001b[0m\u001b[0mcolumns\u001b[0m\u001b[1;33m.\u001b[0m\u001b[0mget_loc\u001b[0m\u001b[1;33m(\u001b[0m\u001b[0mkey\u001b[0m\u001b[1;33m)\u001b[0m\u001b[1;33m\u001b[0m\u001b[1;33m\u001b[0m\u001b[0m\n\u001b[0m\u001b[0;32m   2903\u001b[0m             \u001b[1;32mif\u001b[0m \u001b[0mis_integer\u001b[0m\u001b[1;33m(\u001b[0m\u001b[0mindexer\u001b[0m\u001b[1;33m)\u001b[0m\u001b[1;33m:\u001b[0m\u001b[1;33m\u001b[0m\u001b[1;33m\u001b[0m\u001b[0m\n\u001b[0;32m   2904\u001b[0m                 \u001b[0mindexer\u001b[0m \u001b[1;33m=\u001b[0m \u001b[1;33m[\u001b[0m\u001b[0mindexer\u001b[0m\u001b[1;33m]\u001b[0m\u001b[1;33m\u001b[0m\u001b[1;33m\u001b[0m\u001b[0m\n",
      "\u001b[1;32mD:\\Anaconda\\lib\\site-packages\\pandas\\core\\indexes\\base.py\u001b[0m in \u001b[0;36mget_loc\u001b[1;34m(self, key, method, tolerance)\u001b[0m\n\u001b[0;32m   2891\u001b[0m                 \u001b[1;32mreturn\u001b[0m \u001b[0mself\u001b[0m\u001b[1;33m.\u001b[0m\u001b[0m_engine\u001b[0m\u001b[1;33m.\u001b[0m\u001b[0mget_loc\u001b[0m\u001b[1;33m(\u001b[0m\u001b[0mcasted_key\u001b[0m\u001b[1;33m)\u001b[0m\u001b[1;33m\u001b[0m\u001b[1;33m\u001b[0m\u001b[0m\n\u001b[0;32m   2892\u001b[0m             \u001b[1;32mexcept\u001b[0m \u001b[0mKeyError\u001b[0m \u001b[1;32mas\u001b[0m \u001b[0merr\u001b[0m\u001b[1;33m:\u001b[0m\u001b[1;33m\u001b[0m\u001b[1;33m\u001b[0m\u001b[0m\n\u001b[1;32m-> 2893\u001b[1;33m                 \u001b[1;32mraise\u001b[0m \u001b[0mKeyError\u001b[0m\u001b[1;33m(\u001b[0m\u001b[0mkey\u001b[0m\u001b[1;33m)\u001b[0m \u001b[1;32mfrom\u001b[0m \u001b[0merr\u001b[0m\u001b[1;33m\u001b[0m\u001b[1;33m\u001b[0m\u001b[0m\n\u001b[0m\u001b[0;32m   2894\u001b[0m \u001b[1;33m\u001b[0m\u001b[0m\n\u001b[0;32m   2895\u001b[0m         \u001b[1;32mif\u001b[0m \u001b[0mtolerance\u001b[0m \u001b[1;32mis\u001b[0m \u001b[1;32mnot\u001b[0m \u001b[1;32mNone\u001b[0m\u001b[1;33m:\u001b[0m\u001b[1;33m\u001b[0m\u001b[1;33m\u001b[0m\u001b[0m\n",
      "\u001b[1;31mKeyError\u001b[0m: 'Time'"
     ]
    }
   ],
   "source": [
    "print(series[\"Time\"])"
   ]
  },
  {
   "cell_type": "code",
   "execution_count": 171,
   "metadata": {},
   "outputs": [
    {
     "name": "stdout",
     "output_type": "stream",
     "text": [
      "                    Time      BHP.kPag   BHT.degC  CO2 Injection Rate (kg/s)  \\\n",
      "0    2017-09-05 01:00:00  19512.001953  99.459999                   0.000000   \n",
      "1    2017-09-05 01:00:00  20690.994141  95.949036                   0.000000   \n",
      "2    2017-09-05 01:00:00      0.000000   0.000000                   0.000000   \n",
      "3    2017-09-05 01:00:00  21483.884766  93.808453                   0.000000   \n",
      "4    2017-09-05 01:00:00  21457.382138  87.213637                   4.766009   \n",
      "...                  ...           ...        ...                        ...   \n",
      "5645 2018-05-22 09:00:00  22195.695513  81.722985                   8.561229   \n",
      "5646 2018-05-22 09:00:00  22048.981954  82.498297                   8.864759   \n",
      "5647 2018-05-22 09:00:00  22644.036735  83.907029                   8.868045   \n",
      "5648 2018-05-22 09:00:00  21966.705186  80.980962                   9.041085   \n",
      "5649 2018-05-22 09:00:00  22451.195513  82.049686                   9.274517   \n",
      "\n",
      "      Magnitude  \n",
      "0          -2.1  \n",
      "1          -2.1  \n",
      "2          -2.1  \n",
      "3          -2.1  \n",
      "4          -2.1  \n",
      "...         ...  \n",
      "5645       -0.7  \n",
      "5646       -0.7  \n",
      "5647       -0.7  \n",
      "5648       -0.7  \n",
      "5649       -0.7  \n",
      "\n",
      "[5650 rows x 5 columns]\n"
     ]
    }
   ],
   "source": [
    "print(tran)"
   ]
  },
  {
   "cell_type": "code",
   "execution_count": 138,
   "metadata": {},
   "outputs": [
    {
     "name": "stdout",
     "output_type": "stream",
     "text": [
      "                    Time      BHP.kPag   BHT.degC  CO2 Injection Rate (kg/s)  \\\n",
      "0    2017-09-05 01:00:00  19512.001953  99.459999                   0.000000   \n",
      "1    2017-09-05 01:00:00  20690.994141  95.949036                   0.000000   \n",
      "2    2017-09-05 01:00:00      0.000000   0.000000                   0.000000   \n",
      "3    2017-09-05 01:00:00  21483.884766  93.808453                   0.000000   \n",
      "4    2017-09-05 01:00:00  21457.382138  87.213637                   4.766009   \n",
      "...                  ...           ...        ...                        ...   \n",
      "7528 2018-07-14 01:00:00  22796.368666  83.504283                  15.324224   \n",
      "7529 2018-07-14 01:00:00  22235.685945  80.771699                  15.326841   \n",
      "7530 2018-07-14 01:00:00  22981.394900  84.203909                  15.331589   \n",
      "7531 2018-07-14 01:00:00  22815.453036  84.044647                  15.337084   \n",
      "7532 2018-07-14 01:00:00      0.000000   0.000000                  15.834683   \n",
      "\n",
      "      Magnitude  \n",
      "0          -2.1  \n",
      "1          -2.1  \n",
      "2          -2.1  \n",
      "3          -2.1  \n",
      "4          -2.1  \n",
      "...         ...  \n",
      "7528       -0.9  \n",
      "7529       -0.9  \n",
      "7530       -0.9  \n",
      "7531       -0.9  \n",
      "7532       -0.9  \n",
      "\n",
      "[7533 rows x 5 columns]\n"
     ]
    }
   ],
   "source": [
    "series = pd.read_excel('dataset.xlsx',  index_col=None)\n",
    "print(series)"
   ]
  },
  {
   "cell_type": "code",
   "execution_count": 140,
   "metadata": {},
   "outputs": [
    {
     "data": {
      "text/html": [
       "<div>\n",
       "<style scoped>\n",
       "    .dataframe tbody tr th:only-of-type {\n",
       "        vertical-align: middle;\n",
       "    }\n",
       "\n",
       "    .dataframe tbody tr th {\n",
       "        vertical-align: top;\n",
       "    }\n",
       "\n",
       "    .dataframe thead th {\n",
       "        text-align: right;\n",
       "    }\n",
       "</style>\n",
       "<table border=\"1\" class=\"dataframe\">\n",
       "  <thead>\n",
       "    <tr style=\"text-align: right;\">\n",
       "      <th></th>\n",
       "      <th>Time</th>\n",
       "      <th>BHP.kPag</th>\n",
       "      <th>BHT.degC</th>\n",
       "      <th>CO2 Injection Rate (kg/s)</th>\n",
       "      <th>Magnitude</th>\n",
       "    </tr>\n",
       "  </thead>\n",
       "  <tbody>\n",
       "    <tr>\n",
       "      <th>7528</th>\n",
       "      <td>2018-07-14 01:00:00</td>\n",
       "      <td>22796.368666</td>\n",
       "      <td>83.504283</td>\n",
       "      <td>15.324224</td>\n",
       "      <td>-0.9</td>\n",
       "    </tr>\n",
       "    <tr>\n",
       "      <th>7529</th>\n",
       "      <td>2018-07-14 01:00:00</td>\n",
       "      <td>22235.685945</td>\n",
       "      <td>80.771699</td>\n",
       "      <td>15.326841</td>\n",
       "      <td>-0.9</td>\n",
       "    </tr>\n",
       "    <tr>\n",
       "      <th>7530</th>\n",
       "      <td>2018-07-14 01:00:00</td>\n",
       "      <td>22981.394900</td>\n",
       "      <td>84.203909</td>\n",
       "      <td>15.331589</td>\n",
       "      <td>-0.9</td>\n",
       "    </tr>\n",
       "    <tr>\n",
       "      <th>7531</th>\n",
       "      <td>2018-07-14 01:00:00</td>\n",
       "      <td>22815.453036</td>\n",
       "      <td>84.044647</td>\n",
       "      <td>15.337084</td>\n",
       "      <td>-0.9</td>\n",
       "    </tr>\n",
       "    <tr>\n",
       "      <th>7532</th>\n",
       "      <td>2018-07-14 01:00:00</td>\n",
       "      <td>0.000000</td>\n",
       "      <td>0.000000</td>\n",
       "      <td>15.834683</td>\n",
       "      <td>-0.9</td>\n",
       "    </tr>\n",
       "  </tbody>\n",
       "</table>\n",
       "</div>"
      ],
      "text/plain": [
       "                    Time      BHP.kPag   BHT.degC  CO2 Injection Rate (kg/s)  \\\n",
       "7528 2018-07-14 01:00:00  22796.368666  83.504283                  15.324224   \n",
       "7529 2018-07-14 01:00:00  22235.685945  80.771699                  15.326841   \n",
       "7530 2018-07-14 01:00:00  22981.394900  84.203909                  15.331589   \n",
       "7531 2018-07-14 01:00:00  22815.453036  84.044647                  15.337084   \n",
       "7532 2018-07-14 01:00:00      0.000000   0.000000                  15.834683   \n",
       "\n",
       "      Magnitude  \n",
       "7528       -0.9  \n",
       "7529       -0.9  \n",
       "7530       -0.9  \n",
       "7531       -0.9  \n",
       "7532       -0.9  "
      ]
     },
     "execution_count": 140,
     "metadata": {},
     "output_type": "execute_result"
    }
   ],
   "source": [
    "series.tail()"
   ]
  },
  {
   "cell_type": "code",
   "execution_count": 167,
   "metadata": {},
   "outputs": [
    {
     "name": "stdout",
     "output_type": "stream",
     "text": [
      "                    Time      BHP.kPag   BHT.degC  CO2 Injection Rate (kg/s)  \\\n",
      "0    2017-09-05 01:00:00  19512.001953  99.459999                   0.000000   \n",
      "1    2017-09-05 01:00:00  20690.994141  95.949036                   0.000000   \n",
      "2    2017-09-05 01:00:00      0.000000   0.000000                   0.000000   \n",
      "3    2017-09-05 01:00:00  21483.884766  93.808453                   0.000000   \n",
      "4    2017-09-05 01:00:00  21457.382138  87.213637                   4.766009   \n",
      "...                  ...           ...        ...                        ...   \n",
      "5645 2018-05-22 09:00:00  22195.695513  81.722985                   8.561229   \n",
      "5646 2018-05-22 09:00:00  22048.981954  82.498297                   8.864759   \n",
      "5647 2018-05-22 09:00:00  22644.036735  83.907029                   8.868045   \n",
      "5648 2018-05-22 09:00:00  21966.705186  80.980962                   9.041085   \n",
      "5649 2018-05-22 09:00:00  22451.195513  82.049686                   9.274517   \n",
      "\n",
      "      Magnitude  \n",
      "0          -2.1  \n",
      "1          -2.1  \n",
      "2          -2.1  \n",
      "3          -2.1  \n",
      "4          -2.1  \n",
      "...         ...  \n",
      "5645       -0.7  \n",
      "5646       -0.7  \n",
      "5647       -0.7  \n",
      "5648       -0.7  \n",
      "5649       -0.7  \n",
      "\n",
      "[5650 rows x 5 columns]\n"
     ]
    }
   ],
   "source": [
    "print(tran)"
   ]
  },
  {
   "cell_type": "code",
   "execution_count": 170,
   "metadata": {},
   "outputs": [
    {
     "ename": "ValueError",
     "evalue": "The indices for endog and exog are not aligned",
     "output_type": "error",
     "traceback": [
      "\u001b[1;31m---------------------------------------------------------------------------\u001b[0m",
      "\u001b[1;31mValueError\u001b[0m                                Traceback (most recent call last)",
      "\u001b[1;32m<ipython-input-170-d07e9fcff440>\u001b[0m in \u001b[0;36m<module>\u001b[1;34m\u001b[0m\n\u001b[0;32m      3\u001b[0m \u001b[1;33m\u001b[0m\u001b[0m\n\u001b[0;32m      4\u001b[0m \u001b[1;31m# fit model\u001b[0m\u001b[1;33m\u001b[0m\u001b[1;33m\u001b[0m\u001b[1;33m\u001b[0m\u001b[0m\n\u001b[1;32m----> 5\u001b[1;33m \u001b[0mmodel\u001b[0m \u001b[1;33m=\u001b[0m \u001b[0mSARIMAX\u001b[0m\u001b[1;33m(\u001b[0m\u001b[0mtran\u001b[0m\u001b[1;33m[\u001b[0m\u001b[1;34m'Time'\u001b[0m\u001b[1;33m]\u001b[0m\u001b[1;33m,\u001b[0m \u001b[0mexog\u001b[0m\u001b[1;33m=\u001b[0m\u001b[0mxtr1\u001b[0m\u001b[1;33m[\u001b[0m\u001b[1;34m'Magnitude'\u001b[0m\u001b[1;33m]\u001b[0m\u001b[1;33m,\u001b[0m \u001b[0morder\u001b[0m\u001b[1;33m=\u001b[0m\u001b[1;33m(\u001b[0m\u001b[1;36m1\u001b[0m\u001b[1;33m,\u001b[0m \u001b[1;36m1\u001b[0m\u001b[1;33m,\u001b[0m \u001b[1;36m1\u001b[0m\u001b[1;33m)\u001b[0m\u001b[1;33m,\u001b[0m \u001b[0mseasonal_order\u001b[0m\u001b[1;33m=\u001b[0m\u001b[1;33m(\u001b[0m\u001b[1;36m0\u001b[0m\u001b[1;33m,\u001b[0m \u001b[1;36m0\u001b[0m\u001b[1;33m,\u001b[0m \u001b[1;36m0\u001b[0m\u001b[1;33m,\u001b[0m \u001b[1;36m0\u001b[0m\u001b[1;33m)\u001b[0m\u001b[1;33m)\u001b[0m\u001b[1;33m\u001b[0m\u001b[1;33m\u001b[0m\u001b[0m\n\u001b[0m\u001b[0;32m      6\u001b[0m \u001b[0mmodel_fit\u001b[0m \u001b[1;33m=\u001b[0m \u001b[0mmodel\u001b[0m\u001b[1;33m.\u001b[0m\u001b[0mfit\u001b[0m\u001b[1;33m(\u001b[0m\u001b[0mdisp\u001b[0m\u001b[1;33m=\u001b[0m\u001b[1;32mFalse\u001b[0m\u001b[1;33m)\u001b[0m\u001b[1;33m\u001b[0m\u001b[1;33m\u001b[0m\u001b[0m\n\u001b[0;32m      7\u001b[0m \u001b[1;31m# make prediction\u001b[0m\u001b[1;33m\u001b[0m\u001b[1;33m\u001b[0m\u001b[1;33m\u001b[0m\u001b[0m\n",
      "\u001b[1;32mD:\\Anaconda\\lib\\site-packages\\statsmodels\\tsa\\statespace\\sarimax.py\u001b[0m in \u001b[0;36m__init__\u001b[1;34m(self, endog, exog, order, seasonal_order, trend, measurement_error, time_varying_regression, mle_regression, simple_differencing, enforce_stationarity, enforce_invertibility, hamilton_representation, concentrate_scale, trend_offset, use_exact_diffuse, dates, freq, missing, **kwargs)\u001b[0m\n\u001b[0;32m    330\u001b[0m             \u001b[0mtrend\u001b[0m\u001b[1;33m=\u001b[0m\u001b[0mtrend\u001b[0m\u001b[1;33m,\u001b[0m \u001b[0menforce_stationarity\u001b[0m\u001b[1;33m=\u001b[0m\u001b[1;32mNone\u001b[0m\u001b[1;33m,\u001b[0m \u001b[0menforce_invertibility\u001b[0m\u001b[1;33m=\u001b[0m\u001b[1;32mNone\u001b[0m\u001b[1;33m,\u001b[0m\u001b[1;33m\u001b[0m\u001b[1;33m\u001b[0m\u001b[0m\n\u001b[0;32m    331\u001b[0m             \u001b[0mconcentrate_scale\u001b[0m\u001b[1;33m=\u001b[0m\u001b[0mconcentrate_scale\u001b[0m\u001b[1;33m,\u001b[0m \u001b[0mdates\u001b[0m\u001b[1;33m=\u001b[0m\u001b[0mdates\u001b[0m\u001b[1;33m,\u001b[0m \u001b[0mfreq\u001b[0m\u001b[1;33m=\u001b[0m\u001b[0mfreq\u001b[0m\u001b[1;33m,\u001b[0m\u001b[1;33m\u001b[0m\u001b[1;33m\u001b[0m\u001b[0m\n\u001b[1;32m--> 332\u001b[1;33m             missing=missing)\n\u001b[0m\u001b[0;32m    333\u001b[0m         \u001b[0mself\u001b[0m\u001b[1;33m.\u001b[0m\u001b[0m_params\u001b[0m \u001b[1;33m=\u001b[0m \u001b[0mSARIMAXParams\u001b[0m\u001b[1;33m(\u001b[0m\u001b[0mself\u001b[0m\u001b[1;33m.\u001b[0m\u001b[0m_spec\u001b[0m\u001b[1;33m)\u001b[0m\u001b[1;33m\u001b[0m\u001b[1;33m\u001b[0m\u001b[0m\n\u001b[0;32m    334\u001b[0m \u001b[1;33m\u001b[0m\u001b[0m\n",
      "\u001b[1;32mD:\\Anaconda\\lib\\site-packages\\statsmodels\\tsa\\arima\\specification.py\u001b[0m in \u001b[0;36m__init__\u001b[1;34m(self, endog, exog, order, seasonal_order, ar_order, diff, ma_order, seasonal_ar_order, seasonal_diff, seasonal_ma_order, seasonal_periods, trend, enforce_stationarity, enforce_invertibility, concentrate_scale, trend_offset, dates, freq, missing)\u001b[0m\n\u001b[0;32m    419\u001b[0m         \u001b[1;31m# providing us with a time series index\u001b[0m\u001b[1;33m\u001b[0m\u001b[1;33m\u001b[0m\u001b[1;33m\u001b[0m\u001b[0m\n\u001b[0;32m    420\u001b[0m         self._model = TimeSeriesModel(endog, exog=exog, dates=dates, freq=freq,\n\u001b[1;32m--> 421\u001b[1;33m                                       missing=missing)\n\u001b[0m\u001b[0;32m    422\u001b[0m         \u001b[0mself\u001b[0m\u001b[1;33m.\u001b[0m\u001b[0mendog\u001b[0m \u001b[1;33m=\u001b[0m \u001b[1;32mNone\u001b[0m \u001b[1;32mif\u001b[0m \u001b[0mfaux_endog\u001b[0m \u001b[1;32melse\u001b[0m \u001b[0mself\u001b[0m\u001b[1;33m.\u001b[0m\u001b[0m_model\u001b[0m\u001b[1;33m.\u001b[0m\u001b[0mendog\u001b[0m\u001b[1;33m\u001b[0m\u001b[1;33m\u001b[0m\u001b[0m\n\u001b[0;32m    423\u001b[0m         \u001b[0mself\u001b[0m\u001b[1;33m.\u001b[0m\u001b[0mexog\u001b[0m \u001b[1;33m=\u001b[0m \u001b[0mself\u001b[0m\u001b[1;33m.\u001b[0m\u001b[0m_model\u001b[0m\u001b[1;33m.\u001b[0m\u001b[0mexog\u001b[0m\u001b[1;33m\u001b[0m\u001b[1;33m\u001b[0m\u001b[0m\n",
      "\u001b[1;32mD:\\Anaconda\\lib\\site-packages\\statsmodels\\tsa\\base\\tsa_model.py\u001b[0m in \u001b[0;36m__init__\u001b[1;34m(self, endog, exog, dates, freq, missing, **kwargs)\u001b[0m\n\u001b[0;32m     45\u001b[0m                  missing='none', **kwargs):\n\u001b[0;32m     46\u001b[0m         super(TimeSeriesModel, self).__init__(endog, exog, missing=missing,\n\u001b[1;32m---> 47\u001b[1;33m                                               **kwargs)\n\u001b[0m\u001b[0;32m     48\u001b[0m \u001b[1;33m\u001b[0m\u001b[0m\n\u001b[0;32m     49\u001b[0m         \u001b[1;31m# Date handling in indexes\u001b[0m\u001b[1;33m\u001b[0m\u001b[1;33m\u001b[0m\u001b[1;33m\u001b[0m\u001b[0m\n",
      "\u001b[1;32mD:\\Anaconda\\lib\\site-packages\\statsmodels\\base\\model.py\u001b[0m in \u001b[0;36m__init__\u001b[1;34m(self, endog, exog, **kwargs)\u001b[0m\n\u001b[0;32m    234\u001b[0m \u001b[1;33m\u001b[0m\u001b[0m\n\u001b[0;32m    235\u001b[0m     \u001b[1;32mdef\u001b[0m \u001b[0m__init__\u001b[0m\u001b[1;33m(\u001b[0m\u001b[0mself\u001b[0m\u001b[1;33m,\u001b[0m \u001b[0mendog\u001b[0m\u001b[1;33m,\u001b[0m \u001b[0mexog\u001b[0m\u001b[1;33m=\u001b[0m\u001b[1;32mNone\u001b[0m\u001b[1;33m,\u001b[0m \u001b[1;33m**\u001b[0m\u001b[0mkwargs\u001b[0m\u001b[1;33m)\u001b[0m\u001b[1;33m:\u001b[0m\u001b[1;33m\u001b[0m\u001b[1;33m\u001b[0m\u001b[0m\n\u001b[1;32m--> 236\u001b[1;33m         \u001b[0msuper\u001b[0m\u001b[1;33m(\u001b[0m\u001b[0mLikelihoodModel\u001b[0m\u001b[1;33m,\u001b[0m \u001b[0mself\u001b[0m\u001b[1;33m)\u001b[0m\u001b[1;33m.\u001b[0m\u001b[0m__init__\u001b[0m\u001b[1;33m(\u001b[0m\u001b[0mendog\u001b[0m\u001b[1;33m,\u001b[0m \u001b[0mexog\u001b[0m\u001b[1;33m,\u001b[0m \u001b[1;33m**\u001b[0m\u001b[0mkwargs\u001b[0m\u001b[1;33m)\u001b[0m\u001b[1;33m\u001b[0m\u001b[1;33m\u001b[0m\u001b[0m\n\u001b[0m\u001b[0;32m    237\u001b[0m         \u001b[0mself\u001b[0m\u001b[1;33m.\u001b[0m\u001b[0minitialize\u001b[0m\u001b[1;33m(\u001b[0m\u001b[1;33m)\u001b[0m\u001b[1;33m\u001b[0m\u001b[1;33m\u001b[0m\u001b[0m\n\u001b[0;32m    238\u001b[0m \u001b[1;33m\u001b[0m\u001b[0m\n",
      "\u001b[1;32mD:\\Anaconda\\lib\\site-packages\\statsmodels\\base\\model.py\u001b[0m in \u001b[0;36m__init__\u001b[1;34m(self, endog, exog, **kwargs)\u001b[0m\n\u001b[0;32m     75\u001b[0m         \u001b[0mhasconst\u001b[0m \u001b[1;33m=\u001b[0m \u001b[0mkwargs\u001b[0m\u001b[1;33m.\u001b[0m\u001b[0mpop\u001b[0m\u001b[1;33m(\u001b[0m\u001b[1;34m'hasconst'\u001b[0m\u001b[1;33m,\u001b[0m \u001b[1;32mNone\u001b[0m\u001b[1;33m)\u001b[0m\u001b[1;33m\u001b[0m\u001b[1;33m\u001b[0m\u001b[0m\n\u001b[0;32m     76\u001b[0m         self.data = self._handle_data(endog, exog, missing, hasconst,\n\u001b[1;32m---> 77\u001b[1;33m                                       **kwargs)\n\u001b[0m\u001b[0;32m     78\u001b[0m         \u001b[0mself\u001b[0m\u001b[1;33m.\u001b[0m\u001b[0mk_constant\u001b[0m \u001b[1;33m=\u001b[0m \u001b[0mself\u001b[0m\u001b[1;33m.\u001b[0m\u001b[0mdata\u001b[0m\u001b[1;33m.\u001b[0m\u001b[0mk_constant\u001b[0m\u001b[1;33m\u001b[0m\u001b[1;33m\u001b[0m\u001b[0m\n\u001b[0;32m     79\u001b[0m         \u001b[0mself\u001b[0m\u001b[1;33m.\u001b[0m\u001b[0mexog\u001b[0m \u001b[1;33m=\u001b[0m \u001b[0mself\u001b[0m\u001b[1;33m.\u001b[0m\u001b[0mdata\u001b[0m\u001b[1;33m.\u001b[0m\u001b[0mexog\u001b[0m\u001b[1;33m\u001b[0m\u001b[1;33m\u001b[0m\u001b[0m\n",
      "\u001b[1;32mD:\\Anaconda\\lib\\site-packages\\statsmodels\\base\\model.py\u001b[0m in \u001b[0;36m_handle_data\u001b[1;34m(self, endog, exog, missing, hasconst, **kwargs)\u001b[0m\n\u001b[0;32m     98\u001b[0m \u001b[1;33m\u001b[0m\u001b[0m\n\u001b[0;32m     99\u001b[0m     \u001b[1;32mdef\u001b[0m \u001b[0m_handle_data\u001b[0m\u001b[1;33m(\u001b[0m\u001b[0mself\u001b[0m\u001b[1;33m,\u001b[0m \u001b[0mendog\u001b[0m\u001b[1;33m,\u001b[0m \u001b[0mexog\u001b[0m\u001b[1;33m,\u001b[0m \u001b[0mmissing\u001b[0m\u001b[1;33m,\u001b[0m \u001b[0mhasconst\u001b[0m\u001b[1;33m,\u001b[0m \u001b[1;33m**\u001b[0m\u001b[0mkwargs\u001b[0m\u001b[1;33m)\u001b[0m\u001b[1;33m:\u001b[0m\u001b[1;33m\u001b[0m\u001b[1;33m\u001b[0m\u001b[0m\n\u001b[1;32m--> 100\u001b[1;33m         \u001b[0mdata\u001b[0m \u001b[1;33m=\u001b[0m \u001b[0mhandle_data\u001b[0m\u001b[1;33m(\u001b[0m\u001b[0mendog\u001b[0m\u001b[1;33m,\u001b[0m \u001b[0mexog\u001b[0m\u001b[1;33m,\u001b[0m \u001b[0mmissing\u001b[0m\u001b[1;33m,\u001b[0m \u001b[0mhasconst\u001b[0m\u001b[1;33m,\u001b[0m \u001b[1;33m**\u001b[0m\u001b[0mkwargs\u001b[0m\u001b[1;33m)\u001b[0m\u001b[1;33m\u001b[0m\u001b[1;33m\u001b[0m\u001b[0m\n\u001b[0m\u001b[0;32m    101\u001b[0m         \u001b[1;31m# kwargs arrays could have changed, easier to just attach here\u001b[0m\u001b[1;33m\u001b[0m\u001b[1;33m\u001b[0m\u001b[1;33m\u001b[0m\u001b[0m\n\u001b[0;32m    102\u001b[0m         \u001b[1;32mfor\u001b[0m \u001b[0mkey\u001b[0m \u001b[1;32min\u001b[0m \u001b[0mkwargs\u001b[0m\u001b[1;33m:\u001b[0m\u001b[1;33m\u001b[0m\u001b[1;33m\u001b[0m\u001b[0m\n",
      "\u001b[1;32mD:\\Anaconda\\lib\\site-packages\\statsmodels\\base\\data.py\u001b[0m in \u001b[0;36mhandle_data\u001b[1;34m(endog, exog, missing, hasconst, **kwargs)\u001b[0m\n\u001b[0;32m    670\u001b[0m     \u001b[0mklass\u001b[0m \u001b[1;33m=\u001b[0m \u001b[0mhandle_data_class_factory\u001b[0m\u001b[1;33m(\u001b[0m\u001b[0mendog\u001b[0m\u001b[1;33m,\u001b[0m \u001b[0mexog\u001b[0m\u001b[1;33m)\u001b[0m\u001b[1;33m\u001b[0m\u001b[1;33m\u001b[0m\u001b[0m\n\u001b[0;32m    671\u001b[0m     return klass(endog, exog=exog, missing=missing, hasconst=hasconst,\n\u001b[1;32m--> 672\u001b[1;33m                  **kwargs)\n\u001b[0m",
      "\u001b[1;32mD:\\Anaconda\\lib\\site-packages\\statsmodels\\base\\data.py\u001b[0m in \u001b[0;36m__init__\u001b[1;34m(self, endog, exog, missing, hasconst, **kwargs)\u001b[0m\n\u001b[0;32m     86\u001b[0m         \u001b[0mself\u001b[0m\u001b[1;33m.\u001b[0m\u001b[0mk_constant\u001b[0m \u001b[1;33m=\u001b[0m \u001b[1;36m0\u001b[0m\u001b[1;33m\u001b[0m\u001b[1;33m\u001b[0m\u001b[0m\n\u001b[0;32m     87\u001b[0m         \u001b[0mself\u001b[0m\u001b[1;33m.\u001b[0m\u001b[0m_handle_constant\u001b[0m\u001b[1;33m(\u001b[0m\u001b[0mhasconst\u001b[0m\u001b[1;33m)\u001b[0m\u001b[1;33m\u001b[0m\u001b[1;33m\u001b[0m\u001b[0m\n\u001b[1;32m---> 88\u001b[1;33m         \u001b[0mself\u001b[0m\u001b[1;33m.\u001b[0m\u001b[0m_check_integrity\u001b[0m\u001b[1;33m(\u001b[0m\u001b[1;33m)\u001b[0m\u001b[1;33m\u001b[0m\u001b[1;33m\u001b[0m\u001b[0m\n\u001b[0m\u001b[0;32m     89\u001b[0m         \u001b[0mself\u001b[0m\u001b[1;33m.\u001b[0m\u001b[0m_cache\u001b[0m \u001b[1;33m=\u001b[0m \u001b[1;33m{\u001b[0m\u001b[1;33m}\u001b[0m\u001b[1;33m\u001b[0m\u001b[1;33m\u001b[0m\u001b[0m\n\u001b[0;32m     90\u001b[0m \u001b[1;33m\u001b[0m\u001b[0m\n",
      "\u001b[1;32mD:\\Anaconda\\lib\\site-packages\\statsmodels\\base\\data.py\u001b[0m in \u001b[0;36m_check_integrity\u001b[1;34m(self)\u001b[0m\n\u001b[0;32m    530\u001b[0m                 \u001b[1;33m(\u001b[0m\u001b[0mhasattr\u001b[0m\u001b[1;33m(\u001b[0m\u001b[0mendog\u001b[0m\u001b[1;33m,\u001b[0m \u001b[1;34m'index'\u001b[0m\u001b[1;33m)\u001b[0m \u001b[1;32mand\u001b[0m \u001b[0mhasattr\u001b[0m\u001b[1;33m(\u001b[0m\u001b[0mexog\u001b[0m\u001b[1;33m,\u001b[0m \u001b[1;34m'index'\u001b[0m\u001b[1;33m)\u001b[0m\u001b[1;33m)\u001b[0m \u001b[1;32mand\u001b[0m\u001b[1;33m\u001b[0m\u001b[1;33m\u001b[0m\u001b[0m\n\u001b[0;32m    531\u001b[0m                 not self.orig_endog.index.equals(self.orig_exog.index)):\n\u001b[1;32m--> 532\u001b[1;33m             \u001b[1;32mraise\u001b[0m \u001b[0mValueError\u001b[0m\u001b[1;33m(\u001b[0m\u001b[1;34m\"The indices for endog and exog are not aligned\"\u001b[0m\u001b[1;33m)\u001b[0m\u001b[1;33m\u001b[0m\u001b[1;33m\u001b[0m\u001b[0m\n\u001b[0m\u001b[0;32m    533\u001b[0m         \u001b[0msuper\u001b[0m\u001b[1;33m(\u001b[0m\u001b[0mPandasData\u001b[0m\u001b[1;33m,\u001b[0m \u001b[0mself\u001b[0m\u001b[1;33m)\u001b[0m\u001b[1;33m.\u001b[0m\u001b[0m_check_integrity\u001b[0m\u001b[1;33m(\u001b[0m\u001b[1;33m)\u001b[0m\u001b[1;33m\u001b[0m\u001b[1;33m\u001b[0m\u001b[0m\n\u001b[0;32m    534\u001b[0m \u001b[1;33m\u001b[0m\u001b[0m\n",
      "\u001b[1;31mValueError\u001b[0m: The indices for endog and exog are not aligned"
     ]
    }
   ],
   "source": [
    "from statsmodels.tsa.statespace.sarimax import SARIMAX\n",
    "from random import random\n",
    "\n",
    "# fit model\n",
    "model = SARIMAX(tran['Time'], exog=xtr1['Magnitude'], order=(1, 1, 1), seasonal_order=(0, 0, 0, 0))\n",
    "model_fit = model.fit(disp=False)\n",
    "# make prediction\n",
    "#exog2 = [200 + random()]\n",
    "yhat = model_fit.predict(len(tran), len(xtr1), exog=xtr2['Magnitude'])\n",
    "print(yhat)"
   ]
  },
  {
   "cell_type": "code",
   "execution_count": 218,
   "metadata": {},
   "outputs": [
    {
     "name": "stderr",
     "output_type": "stream",
     "text": [
      "D:\\Anaconda\\lib\\site-packages\\statsmodels\\tsa\\base\\tsa_model.py:218: ValueWarning: A date index has been provided, but it has no associated frequency information and so will be ignored when e.g. forecasting.\n",
      "  ' ignored when e.g. forecasting.', ValueWarning)\n",
      "D:\\Anaconda\\lib\\site-packages\\statsmodels\\base\\wrapper.py:36: FutureWarning: y is a deprecated alias for endog, will be removed in version 0.11.0\n",
      "  obj = getattr(results, attr)\n"
     ]
    }
   ],
   "source": [
    "from statsmodels.tsa.vector_ar.var_model import VAR\n",
    "\n",
    "model = VAR(endog=tran)\n",
    "model_fit = model.fit()\n",
    "\n",
    "# make prediction on validation\n",
    "prediction1 = model_fit.forecast(model_fit.y, steps=len(tst))"
   ]
  },
  {
   "cell_type": "code",
   "execution_count": 175,
   "metadata": {},
   "outputs": [
    {
     "data": {
      "text/plain": [
       "array([[Timestamp('2017-09-05 01:00:00'), 19512.001953125,\n",
       "        99.45999908447266, 0.0, -2.1],\n",
       "       [Timestamp('2017-09-05 01:00:00'), 20690.994140625,\n",
       "        95.94903607919399, 0.0, -2.1],\n",
       "       [Timestamp('2017-09-05 01:00:00'), 0.0, 0.0, 0.0, -2.1],\n",
       "       ...,\n",
       "       [Timestamp('2018-05-22 09:00:00'), 22644.03673457363,\n",
       "        83.90702910032383, 8.868044590728832, -0.7],\n",
       "       [Timestamp('2018-05-22 09:00:00'), 21966.7051856822,\n",
       "        80.98096212822458, 9.04108485684351, -0.7],\n",
       "       [Timestamp('2018-05-22 09:00:00'), 22451.19551254504,\n",
       "        82.04968583738965, 9.274516850016727, -0.7]], dtype=object)"
      ]
     },
     "execution_count": 175,
     "metadata": {},
     "output_type": "execute_result"
    }
   ],
   "source": [
    "import numpy as np\n",
    "np.asarray(tran)"
   ]
  },
  {
   "cell_type": "code",
   "execution_count": 219,
   "metadata": {},
   "outputs": [
    {
     "name": "stdout",
     "output_type": "stream",
     "text": [
      "[[ 2.07401992e+04  7.74054462e+01  1.18188189e+01 -7.55692621e-01]\n",
      " [ 2.02301893e+04  7.65093060e+01  1.26500493e+01 -8.08242436e-01]\n",
      " [ 1.99795227e+04  7.61269054e+01  1.28536025e+01 -8.56932728e-01]\n",
      " ...\n",
      " [ 1.97928533e+04  7.62948226e+01  1.24380886e+01 -1.35188314e+00]\n",
      " [ 1.97928533e+04  7.62948226e+01  1.24380886e+01 -1.35188314e+00]\n",
      " [ 1.97928533e+04  7.62948226e+01  1.24380886e+01 -1.35188314e+00]]\n"
     ]
    }
   ],
   "source": [
    "print(prediction1)"
   ]
  },
  {
   "cell_type": "code",
   "execution_count": 178,
   "metadata": {},
   "outputs": [],
   "source": [
    "tran.index=tran.Time"
   ]
  },
  {
   "cell_type": "code",
   "execution_count": 179,
   "metadata": {},
   "outputs": [
    {
     "data": {
      "text/plain": [
       "DatetimeIndex(['2017-09-05 01:00:00', '2017-09-05 01:00:00',\n",
       "               '2017-09-05 01:00:00', '2017-09-05 01:00:00',\n",
       "               '2017-09-05 01:00:00', '2017-09-05 01:00:00',\n",
       "               '2017-09-05 01:00:00', '2017-09-05 01:00:00',\n",
       "               '2017-09-05 01:00:00', '2017-09-25 17:00:00',\n",
       "               ...\n",
       "               '2018-05-22 08:00:00', '2018-05-22 08:00:00',\n",
       "               '2018-05-22 08:00:00', '2018-05-22 09:00:00',\n",
       "               '2018-05-22 09:00:00', '2018-05-22 09:00:00',\n",
       "               '2018-05-22 09:00:00', '2018-05-22 09:00:00',\n",
       "               '2018-05-22 09:00:00', '2018-05-22 09:00:00'],\n",
       "              dtype='datetime64[ns]', name='Time', length=5650, freq=None)"
      ]
     },
     "execution_count": 179,
     "metadata": {},
     "output_type": "execute_result"
    }
   ],
   "source": [
    "tran.index"
   ]
  },
  {
   "cell_type": "code",
   "execution_count": 186,
   "metadata": {},
   "outputs": [],
   "source": [
    "tran=tran.drop([\"Time\"], axis=1)"
   ]
  },
  {
   "cell_type": "code",
   "execution_count": 220,
   "metadata": {},
   "outputs": [],
   "source": [
    "cols=tran.columns\n",
    "pred1 = pd.DataFrame(index=range(0,len(prediction1)),columns=[cols])\n",
    "for j in range(0,4):\n",
    "    for i in range(0, len(prediction)):\n",
    "        pred.iloc[i][j] = prediction[i][j]"
   ]
  },
  {
   "cell_type": "code",
   "execution_count": 221,
   "metadata": {},
   "outputs": [
    {
     "name": "stdout",
     "output_type": "stream",
     "text": [
      "     BHP.kPag BHT.degC CO2 Injection Rate (kg/s) Magnitude\n",
      "0         NaN      NaN                       NaN       NaN\n",
      "1         NaN      NaN                       NaN       NaN\n",
      "2         NaN      NaN                       NaN       NaN\n",
      "3         NaN      NaN                       NaN       NaN\n",
      "4         NaN      NaN                       NaN       NaN\n",
      "...       ...      ...                       ...       ...\n",
      "1878      NaN      NaN                       NaN       NaN\n",
      "1879      NaN      NaN                       NaN       NaN\n",
      "1880      NaN      NaN                       NaN       NaN\n",
      "1881      NaN      NaN                       NaN       NaN\n",
      "1882      NaN      NaN                       NaN       NaN\n",
      "\n",
      "[1883 rows x 4 columns]\n"
     ]
    }
   ],
   "source": [
    "print(pred1)"
   ]
  },
  {
   "cell_type": "code",
   "execution_count": 200,
   "metadata": {},
   "outputs": [
    {
     "ename": "TypeError",
     "evalue": "only integer scalar arrays can be converted to a scalar index",
     "output_type": "error",
     "traceback": [
      "\u001b[1;31m---------------------------------------------------------------------------\u001b[0m",
      "\u001b[1;31mTypeError\u001b[0m                                 Traceback (most recent call last)",
      "\u001b[1;32m<ipython-input-200-731bae810767>\u001b[0m in \u001b[0;36m<module>\u001b[1;34m\u001b[0m\n\u001b[0;32m      2\u001b[0m \u001b[1;32mfrom\u001b[0m \u001b[0msklearn\u001b[0m\u001b[1;33m.\u001b[0m\u001b[0mmetrics\u001b[0m \u001b[1;32mimport\u001b[0m \u001b[0mmean_squared_error\u001b[0m\u001b[1;33m\u001b[0m\u001b[1;33m\u001b[0m\u001b[0m\n\u001b[0;32m      3\u001b[0m \u001b[1;32mfor\u001b[0m \u001b[0mi\u001b[0m \u001b[1;32min\u001b[0m \u001b[0mcols\u001b[0m\u001b[1;33m:\u001b[0m\u001b[1;33m\u001b[0m\u001b[1;33m\u001b[0m\u001b[0m\n\u001b[1;32m----> 4\u001b[1;33m     \u001b[0mprint\u001b[0m\u001b[1;33m(\u001b[0m \u001b[0msqrt\u001b[0m\u001b[1;33m(\u001b[0m\u001b[0mmean_squared_error\u001b[0m\u001b[1;33m(\u001b[0m\u001b[0mpred\u001b[0m\u001b[1;33m[\u001b[0m\u001b[0mi\u001b[0m\u001b[1;33m]\u001b[0m\u001b[1;33m,\u001b[0m \u001b[0mxtr2\u001b[0m\u001b[1;33m[\u001b[0m\u001b[0mi\u001b[0m\u001b[1;33m]\u001b[0m\u001b[1;33m)\u001b[0m\u001b[1;33m)\u001b[0m\u001b[1;33m)\u001b[0m\u001b[1;33m\u001b[0m\u001b[1;33m\u001b[0m\u001b[0m\n\u001b[0m",
      "\u001b[1;32mD:\\Anaconda\\lib\\site-packages\\pandas\\core\\frame.py\u001b[0m in \u001b[0;36m__getitem__\u001b[1;34m(self, key)\u001b[0m\n\u001b[0;32m   2876\u001b[0m                 \u001b[1;32mif\u001b[0m \u001b[0mself\u001b[0m\u001b[1;33m.\u001b[0m\u001b[0mcolumns\u001b[0m\u001b[1;33m.\u001b[0m\u001b[0mnlevels\u001b[0m \u001b[1;33m>\u001b[0m \u001b[1;36m1\u001b[0m\u001b[1;33m:\u001b[0m\u001b[1;33m\u001b[0m\u001b[1;33m\u001b[0m\u001b[0m\n\u001b[0;32m   2877\u001b[0m                     \u001b[1;32mreturn\u001b[0m \u001b[0mself\u001b[0m\u001b[1;33m.\u001b[0m\u001b[0m_getitem_multilevel\u001b[0m\u001b[1;33m(\u001b[0m\u001b[0mkey\u001b[0m\u001b[1;33m)\u001b[0m\u001b[1;33m\u001b[0m\u001b[1;33m\u001b[0m\u001b[0m\n\u001b[1;32m-> 2878\u001b[1;33m                 \u001b[1;32mreturn\u001b[0m \u001b[0mself\u001b[0m\u001b[1;33m.\u001b[0m\u001b[0m_get_item_cache\u001b[0m\u001b[1;33m(\u001b[0m\u001b[0mkey\u001b[0m\u001b[1;33m)\u001b[0m\u001b[1;33m\u001b[0m\u001b[1;33m\u001b[0m\u001b[0m\n\u001b[0m\u001b[0;32m   2879\u001b[0m \u001b[1;33m\u001b[0m\u001b[0m\n\u001b[0;32m   2880\u001b[0m         \u001b[1;31m# Do we have a slicer (on rows)?\u001b[0m\u001b[1;33m\u001b[0m\u001b[1;33m\u001b[0m\u001b[1;33m\u001b[0m\u001b[0m\n",
      "\u001b[1;32mD:\\Anaconda\\lib\\site-packages\\pandas\\core\\generic.py\u001b[0m in \u001b[0;36m_get_item_cache\u001b[1;34m(self, item)\u001b[0m\n\u001b[0;32m   3536\u001b[0m \u001b[1;33m\u001b[0m\u001b[0m\n\u001b[0;32m   3537\u001b[0m             \u001b[0mloc\u001b[0m \u001b[1;33m=\u001b[0m \u001b[0mself\u001b[0m\u001b[1;33m.\u001b[0m\u001b[0mcolumns\u001b[0m\u001b[1;33m.\u001b[0m\u001b[0mget_loc\u001b[0m\u001b[1;33m(\u001b[0m\u001b[0mitem\u001b[0m\u001b[1;33m)\u001b[0m\u001b[1;33m\u001b[0m\u001b[1;33m\u001b[0m\u001b[0m\n\u001b[1;32m-> 3538\u001b[1;33m             \u001b[0mvalues\u001b[0m \u001b[1;33m=\u001b[0m \u001b[0mself\u001b[0m\u001b[1;33m.\u001b[0m\u001b[0m_mgr\u001b[0m\u001b[1;33m.\u001b[0m\u001b[0miget\u001b[0m\u001b[1;33m(\u001b[0m\u001b[0mloc\u001b[0m\u001b[1;33m)\u001b[0m\u001b[1;33m\u001b[0m\u001b[1;33m\u001b[0m\u001b[0m\n\u001b[0m\u001b[0;32m   3539\u001b[0m             \u001b[0mres\u001b[0m \u001b[1;33m=\u001b[0m \u001b[0mself\u001b[0m\u001b[1;33m.\u001b[0m\u001b[0m_box_col_values\u001b[0m\u001b[1;33m(\u001b[0m\u001b[0mvalues\u001b[0m\u001b[1;33m,\u001b[0m \u001b[0mloc\u001b[0m\u001b[1;33m)\u001b[0m\u001b[1;33m\u001b[0m\u001b[1;33m\u001b[0m\u001b[0m\n\u001b[0;32m   3540\u001b[0m \u001b[1;33m\u001b[0m\u001b[0m\n",
      "\u001b[1;32mD:\\Anaconda\\lib\\site-packages\\pandas\\core\\internals\\managers.py\u001b[0m in \u001b[0;36miget\u001b[1;34m(self, i)\u001b[0m\n\u001b[0;32m    986\u001b[0m         \u001b[0mReturn\u001b[0m \u001b[0mthe\u001b[0m \u001b[0mdata\u001b[0m \u001b[1;32mas\u001b[0m \u001b[0ma\u001b[0m \u001b[0mSingleBlockManager\u001b[0m\u001b[1;33m.\u001b[0m\u001b[1;33m\u001b[0m\u001b[1;33m\u001b[0m\u001b[0m\n\u001b[0;32m    987\u001b[0m         \"\"\"\n\u001b[1;32m--> 988\u001b[1;33m         \u001b[0mblock\u001b[0m \u001b[1;33m=\u001b[0m \u001b[0mself\u001b[0m\u001b[1;33m.\u001b[0m\u001b[0mblocks\u001b[0m\u001b[1;33m[\u001b[0m\u001b[0mself\u001b[0m\u001b[1;33m.\u001b[0m\u001b[0mblknos\u001b[0m\u001b[1;33m[\u001b[0m\u001b[0mi\u001b[0m\u001b[1;33m]\u001b[0m\u001b[1;33m]\u001b[0m\u001b[1;33m\u001b[0m\u001b[1;33m\u001b[0m\u001b[0m\n\u001b[0m\u001b[0;32m    989\u001b[0m         \u001b[0mvalues\u001b[0m \u001b[1;33m=\u001b[0m \u001b[0mblock\u001b[0m\u001b[1;33m.\u001b[0m\u001b[0miget\u001b[0m\u001b[1;33m(\u001b[0m\u001b[0mself\u001b[0m\u001b[1;33m.\u001b[0m\u001b[0mblklocs\u001b[0m\u001b[1;33m[\u001b[0m\u001b[0mi\u001b[0m\u001b[1;33m]\u001b[0m\u001b[1;33m)\u001b[0m\u001b[1;33m\u001b[0m\u001b[1;33m\u001b[0m\u001b[0m\n\u001b[0;32m    990\u001b[0m \u001b[1;33m\u001b[0m\u001b[0m\n",
      "\u001b[1;31mTypeError\u001b[0m: only integer scalar arrays can be converted to a scalar index"
     ]
    }
   ],
   "source": [
    "from math import sqrt\n",
    "from sklearn.metrics import mean_squared_error\n",
    "for i in cols:\n",
    "    print('rmse value for', i, 'is : ', sqrt(mean_squared_error(pred[i], xtr2[i])))"
   ]
  },
  {
   "cell_type": "code",
   "execution_count": 236,
   "metadata": {},
   "outputs": [
    {
     "data": {
      "text/plain": [
       "PeriodIndex(['2017-09', '2017-09', '2017-09', '2017-09', '2017-09', '2017-09',\n",
       "             '2017-09', '2017-09', '2017-09', '2017-09',\n",
       "             ...\n",
       "             '2018-07', '2018-07', '2018-07', '2018-07', '2018-07', '2018-07',\n",
       "             '2018-07', '2018-07', '2018-07', '2018-07'],\n",
       "            dtype='period[M]', name='Time', length=7533, freq='M')"
      ]
     },
     "execution_count": 236,
     "metadata": {},
     "output_type": "execute_result"
    }
   ],
   "source": [
    "series = pd.read_excel('dataset.xlsx', header=0, index_col=0)\n",
    "\n",
    "series.index = pd.DatetimeIndex(series.index).to_period('M')\n",
    "series.index\n"
   ]
  },
  {
   "cell_type": "code",
   "execution_count": 248,
   "metadata": {},
   "outputs": [
    {
     "ename": "ValueError",
     "evalue": "Pandas data cast to numpy dtype of object. Check input data with np.asarray(data).",
     "output_type": "error",
     "traceback": [
      "\u001b[1;31m---------------------------------------------------------------------------\u001b[0m",
      "\u001b[1;31mValueError\u001b[0m                                Traceback (most recent call last)",
      "\u001b[1;32m<ipython-input-248-1491aac9733a>\u001b[0m in \u001b[0;36m<module>\u001b[1;34m\u001b[0m\n\u001b[1;32m----> 1\u001b[1;33m \u001b[0mmodel\u001b[0m \u001b[1;33m=\u001b[0m \u001b[0mVAR\u001b[0m\u001b[1;33m(\u001b[0m\u001b[0mendog\u001b[0m\u001b[1;33m=\u001b[0m\u001b[0mseries\u001b[0m\u001b[1;33m)\u001b[0m\u001b[1;33m\u001b[0m\u001b[1;33m\u001b[0m\u001b[0m\n\u001b[0m\u001b[0;32m      2\u001b[0m \u001b[0mmodel_fit\u001b[0m \u001b[1;33m=\u001b[0m \u001b[0mmodel\u001b[0m\u001b[1;33m.\u001b[0m\u001b[0mfit\u001b[0m\u001b[1;33m(\u001b[0m\u001b[1;33m)\u001b[0m\u001b[1;33m\u001b[0m\u001b[1;33m\u001b[0m\u001b[0m\n\u001b[0;32m      3\u001b[0m \u001b[0myhat\u001b[0m \u001b[1;33m=\u001b[0m \u001b[0mmodel_fit\u001b[0m\u001b[1;33m.\u001b[0m\u001b[0mforecast\u001b[0m\u001b[1;33m(\u001b[0m\u001b[0mmodel_fit\u001b[0m\u001b[1;33m.\u001b[0m\u001b[0my\u001b[0m\u001b[1;33m,\u001b[0m \u001b[0msteps\u001b[0m\u001b[1;33m=\u001b[0m\u001b[0mlen\u001b[0m\u001b[1;33m(\u001b[0m\u001b[0mxtr2\u001b[0m\u001b[1;33m)\u001b[0m\u001b[1;33m)\u001b[0m\u001b[1;33m\u001b[0m\u001b[1;33m\u001b[0m\u001b[0m\n\u001b[0;32m      4\u001b[0m \u001b[0mprint\u001b[0m\u001b[1;33m(\u001b[0m\u001b[0myhat\u001b[0m\u001b[1;33m)\u001b[0m\u001b[1;33m\u001b[0m\u001b[1;33m\u001b[0m\u001b[0m\n",
      "\u001b[1;32mD:\\Anaconda\\lib\\site-packages\\statsmodels\\tsa\\vector_ar\\var_model.py\u001b[0m in \u001b[0;36m__init__\u001b[1;34m(self, endog, exog, dates, freq, missing)\u001b[0m\n\u001b[0;32m    515\u001b[0m     def __init__(self, endog, exog=None, dates=None, freq=None,\n\u001b[0;32m    516\u001b[0m                  missing='none'):\n\u001b[1;32m--> 517\u001b[1;33m         \u001b[0msuper\u001b[0m\u001b[1;33m(\u001b[0m\u001b[0mVAR\u001b[0m\u001b[1;33m,\u001b[0m \u001b[0mself\u001b[0m\u001b[1;33m)\u001b[0m\u001b[1;33m.\u001b[0m\u001b[0m__init__\u001b[0m\u001b[1;33m(\u001b[0m\u001b[0mendog\u001b[0m\u001b[1;33m,\u001b[0m \u001b[0mexog\u001b[0m\u001b[1;33m,\u001b[0m \u001b[0mdates\u001b[0m\u001b[1;33m,\u001b[0m \u001b[0mfreq\u001b[0m\u001b[1;33m,\u001b[0m \u001b[0mmissing\u001b[0m\u001b[1;33m=\u001b[0m\u001b[0mmissing\u001b[0m\u001b[1;33m)\u001b[0m\u001b[1;33m\u001b[0m\u001b[1;33m\u001b[0m\u001b[0m\n\u001b[0m\u001b[0;32m    518\u001b[0m         \u001b[1;32mif\u001b[0m \u001b[0mself\u001b[0m\u001b[1;33m.\u001b[0m\u001b[0mendog\u001b[0m\u001b[1;33m.\u001b[0m\u001b[0mndim\u001b[0m \u001b[1;33m==\u001b[0m \u001b[1;36m1\u001b[0m\u001b[1;33m:\u001b[0m\u001b[1;33m\u001b[0m\u001b[1;33m\u001b[0m\u001b[0m\n\u001b[0;32m    519\u001b[0m             \u001b[1;32mraise\u001b[0m \u001b[0mValueError\u001b[0m\u001b[1;33m(\u001b[0m\u001b[1;34m\"Only gave one variable to VAR\"\u001b[0m\u001b[1;33m)\u001b[0m\u001b[1;33m\u001b[0m\u001b[1;33m\u001b[0m\u001b[0m\n",
      "\u001b[1;32mD:\\Anaconda\\lib\\site-packages\\statsmodels\\tsa\\base\\tsa_model.py\u001b[0m in \u001b[0;36m__init__\u001b[1;34m(self, endog, exog, dates, freq, missing, **kwargs)\u001b[0m\n\u001b[0;32m     45\u001b[0m                  missing='none', **kwargs):\n\u001b[0;32m     46\u001b[0m         super(TimeSeriesModel, self).__init__(endog, exog, missing=missing,\n\u001b[1;32m---> 47\u001b[1;33m                                               **kwargs)\n\u001b[0m\u001b[0;32m     48\u001b[0m \u001b[1;33m\u001b[0m\u001b[0m\n\u001b[0;32m     49\u001b[0m         \u001b[1;31m# Date handling in indexes\u001b[0m\u001b[1;33m\u001b[0m\u001b[1;33m\u001b[0m\u001b[1;33m\u001b[0m\u001b[0m\n",
      "\u001b[1;32mD:\\Anaconda\\lib\\site-packages\\statsmodels\\base\\model.py\u001b[0m in \u001b[0;36m__init__\u001b[1;34m(self, endog, exog, **kwargs)\u001b[0m\n\u001b[0;32m    234\u001b[0m \u001b[1;33m\u001b[0m\u001b[0m\n\u001b[0;32m    235\u001b[0m     \u001b[1;32mdef\u001b[0m \u001b[0m__init__\u001b[0m\u001b[1;33m(\u001b[0m\u001b[0mself\u001b[0m\u001b[1;33m,\u001b[0m \u001b[0mendog\u001b[0m\u001b[1;33m,\u001b[0m \u001b[0mexog\u001b[0m\u001b[1;33m=\u001b[0m\u001b[1;32mNone\u001b[0m\u001b[1;33m,\u001b[0m \u001b[1;33m**\u001b[0m\u001b[0mkwargs\u001b[0m\u001b[1;33m)\u001b[0m\u001b[1;33m:\u001b[0m\u001b[1;33m\u001b[0m\u001b[1;33m\u001b[0m\u001b[0m\n\u001b[1;32m--> 236\u001b[1;33m         \u001b[0msuper\u001b[0m\u001b[1;33m(\u001b[0m\u001b[0mLikelihoodModel\u001b[0m\u001b[1;33m,\u001b[0m \u001b[0mself\u001b[0m\u001b[1;33m)\u001b[0m\u001b[1;33m.\u001b[0m\u001b[0m__init__\u001b[0m\u001b[1;33m(\u001b[0m\u001b[0mendog\u001b[0m\u001b[1;33m,\u001b[0m \u001b[0mexog\u001b[0m\u001b[1;33m,\u001b[0m \u001b[1;33m**\u001b[0m\u001b[0mkwargs\u001b[0m\u001b[1;33m)\u001b[0m\u001b[1;33m\u001b[0m\u001b[1;33m\u001b[0m\u001b[0m\n\u001b[0m\u001b[0;32m    237\u001b[0m         \u001b[0mself\u001b[0m\u001b[1;33m.\u001b[0m\u001b[0minitialize\u001b[0m\u001b[1;33m(\u001b[0m\u001b[1;33m)\u001b[0m\u001b[1;33m\u001b[0m\u001b[1;33m\u001b[0m\u001b[0m\n\u001b[0;32m    238\u001b[0m \u001b[1;33m\u001b[0m\u001b[0m\n",
      "\u001b[1;32mD:\\Anaconda\\lib\\site-packages\\statsmodels\\base\\model.py\u001b[0m in \u001b[0;36m__init__\u001b[1;34m(self, endog, exog, **kwargs)\u001b[0m\n\u001b[0;32m     75\u001b[0m         \u001b[0mhasconst\u001b[0m \u001b[1;33m=\u001b[0m \u001b[0mkwargs\u001b[0m\u001b[1;33m.\u001b[0m\u001b[0mpop\u001b[0m\u001b[1;33m(\u001b[0m\u001b[1;34m'hasconst'\u001b[0m\u001b[1;33m,\u001b[0m \u001b[1;32mNone\u001b[0m\u001b[1;33m)\u001b[0m\u001b[1;33m\u001b[0m\u001b[1;33m\u001b[0m\u001b[0m\n\u001b[0;32m     76\u001b[0m         self.data = self._handle_data(endog, exog, missing, hasconst,\n\u001b[1;32m---> 77\u001b[1;33m                                       **kwargs)\n\u001b[0m\u001b[0;32m     78\u001b[0m         \u001b[0mself\u001b[0m\u001b[1;33m.\u001b[0m\u001b[0mk_constant\u001b[0m \u001b[1;33m=\u001b[0m \u001b[0mself\u001b[0m\u001b[1;33m.\u001b[0m\u001b[0mdata\u001b[0m\u001b[1;33m.\u001b[0m\u001b[0mk_constant\u001b[0m\u001b[1;33m\u001b[0m\u001b[1;33m\u001b[0m\u001b[0m\n\u001b[0;32m     79\u001b[0m         \u001b[0mself\u001b[0m\u001b[1;33m.\u001b[0m\u001b[0mexog\u001b[0m \u001b[1;33m=\u001b[0m \u001b[0mself\u001b[0m\u001b[1;33m.\u001b[0m\u001b[0mdata\u001b[0m\u001b[1;33m.\u001b[0m\u001b[0mexog\u001b[0m\u001b[1;33m\u001b[0m\u001b[1;33m\u001b[0m\u001b[0m\n",
      "\u001b[1;32mD:\\Anaconda\\lib\\site-packages\\statsmodels\\base\\model.py\u001b[0m in \u001b[0;36m_handle_data\u001b[1;34m(self, endog, exog, missing, hasconst, **kwargs)\u001b[0m\n\u001b[0;32m     98\u001b[0m \u001b[1;33m\u001b[0m\u001b[0m\n\u001b[0;32m     99\u001b[0m     \u001b[1;32mdef\u001b[0m \u001b[0m_handle_data\u001b[0m\u001b[1;33m(\u001b[0m\u001b[0mself\u001b[0m\u001b[1;33m,\u001b[0m \u001b[0mendog\u001b[0m\u001b[1;33m,\u001b[0m \u001b[0mexog\u001b[0m\u001b[1;33m,\u001b[0m \u001b[0mmissing\u001b[0m\u001b[1;33m,\u001b[0m \u001b[0mhasconst\u001b[0m\u001b[1;33m,\u001b[0m \u001b[1;33m**\u001b[0m\u001b[0mkwargs\u001b[0m\u001b[1;33m)\u001b[0m\u001b[1;33m:\u001b[0m\u001b[1;33m\u001b[0m\u001b[1;33m\u001b[0m\u001b[0m\n\u001b[1;32m--> 100\u001b[1;33m         \u001b[0mdata\u001b[0m \u001b[1;33m=\u001b[0m \u001b[0mhandle_data\u001b[0m\u001b[1;33m(\u001b[0m\u001b[0mendog\u001b[0m\u001b[1;33m,\u001b[0m \u001b[0mexog\u001b[0m\u001b[1;33m,\u001b[0m \u001b[0mmissing\u001b[0m\u001b[1;33m,\u001b[0m \u001b[0mhasconst\u001b[0m\u001b[1;33m,\u001b[0m \u001b[1;33m**\u001b[0m\u001b[0mkwargs\u001b[0m\u001b[1;33m)\u001b[0m\u001b[1;33m\u001b[0m\u001b[1;33m\u001b[0m\u001b[0m\n\u001b[0m\u001b[0;32m    101\u001b[0m         \u001b[1;31m# kwargs arrays could have changed, easier to just attach here\u001b[0m\u001b[1;33m\u001b[0m\u001b[1;33m\u001b[0m\u001b[1;33m\u001b[0m\u001b[0m\n\u001b[0;32m    102\u001b[0m         \u001b[1;32mfor\u001b[0m \u001b[0mkey\u001b[0m \u001b[1;32min\u001b[0m \u001b[0mkwargs\u001b[0m\u001b[1;33m:\u001b[0m\u001b[1;33m\u001b[0m\u001b[1;33m\u001b[0m\u001b[0m\n",
      "\u001b[1;32mD:\\Anaconda\\lib\\site-packages\\statsmodels\\base\\data.py\u001b[0m in \u001b[0;36mhandle_data\u001b[1;34m(endog, exog, missing, hasconst, **kwargs)\u001b[0m\n\u001b[0;32m    670\u001b[0m     \u001b[0mklass\u001b[0m \u001b[1;33m=\u001b[0m \u001b[0mhandle_data_class_factory\u001b[0m\u001b[1;33m(\u001b[0m\u001b[0mendog\u001b[0m\u001b[1;33m,\u001b[0m \u001b[0mexog\u001b[0m\u001b[1;33m)\u001b[0m\u001b[1;33m\u001b[0m\u001b[1;33m\u001b[0m\u001b[0m\n\u001b[0;32m    671\u001b[0m     return klass(endog, exog=exog, missing=missing, hasconst=hasconst,\n\u001b[1;32m--> 672\u001b[1;33m                  **kwargs)\n\u001b[0m",
      "\u001b[1;32mD:\\Anaconda\\lib\\site-packages\\statsmodels\\base\\data.py\u001b[0m in \u001b[0;36m__init__\u001b[1;34m(self, endog, exog, missing, hasconst, **kwargs)\u001b[0m\n\u001b[0;32m     81\u001b[0m             \u001b[0mself\u001b[0m\u001b[1;33m.\u001b[0m\u001b[0morig_endog\u001b[0m \u001b[1;33m=\u001b[0m \u001b[0mendog\u001b[0m\u001b[1;33m\u001b[0m\u001b[1;33m\u001b[0m\u001b[0m\n\u001b[0;32m     82\u001b[0m             \u001b[0mself\u001b[0m\u001b[1;33m.\u001b[0m\u001b[0morig_exog\u001b[0m \u001b[1;33m=\u001b[0m \u001b[0mexog\u001b[0m\u001b[1;33m\u001b[0m\u001b[1;33m\u001b[0m\u001b[0m\n\u001b[1;32m---> 83\u001b[1;33m             \u001b[0mself\u001b[0m\u001b[1;33m.\u001b[0m\u001b[0mendog\u001b[0m\u001b[1;33m,\u001b[0m \u001b[0mself\u001b[0m\u001b[1;33m.\u001b[0m\u001b[0mexog\u001b[0m \u001b[1;33m=\u001b[0m \u001b[0mself\u001b[0m\u001b[1;33m.\u001b[0m\u001b[0m_convert_endog_exog\u001b[0m\u001b[1;33m(\u001b[0m\u001b[0mendog\u001b[0m\u001b[1;33m,\u001b[0m \u001b[0mexog\u001b[0m\u001b[1;33m)\u001b[0m\u001b[1;33m\u001b[0m\u001b[1;33m\u001b[0m\u001b[0m\n\u001b[0m\u001b[0;32m     84\u001b[0m \u001b[1;33m\u001b[0m\u001b[0m\n\u001b[0;32m     85\u001b[0m         \u001b[0mself\u001b[0m\u001b[1;33m.\u001b[0m\u001b[0mconst_idx\u001b[0m \u001b[1;33m=\u001b[0m \u001b[1;32mNone\u001b[0m\u001b[1;33m\u001b[0m\u001b[1;33m\u001b[0m\u001b[0m\n",
      "\u001b[1;32mD:\\Anaconda\\lib\\site-packages\\statsmodels\\base\\data.py\u001b[0m in \u001b[0;36m_convert_endog_exog\u001b[1;34m(self, endog, exog)\u001b[0m\n\u001b[0;32m    506\u001b[0m         \u001b[0mexog\u001b[0m \u001b[1;33m=\u001b[0m \u001b[0mexog\u001b[0m \u001b[1;32mif\u001b[0m \u001b[0mexog\u001b[0m \u001b[1;32mis\u001b[0m \u001b[1;32mNone\u001b[0m \u001b[1;32melse\u001b[0m \u001b[0mnp\u001b[0m\u001b[1;33m.\u001b[0m\u001b[0masarray\u001b[0m\u001b[1;33m(\u001b[0m\u001b[0mexog\u001b[0m\u001b[1;33m)\u001b[0m\u001b[1;33m\u001b[0m\u001b[1;33m\u001b[0m\u001b[0m\n\u001b[0;32m    507\u001b[0m         \u001b[1;32mif\u001b[0m \u001b[0mendog\u001b[0m\u001b[1;33m.\u001b[0m\u001b[0mdtype\u001b[0m \u001b[1;33m==\u001b[0m \u001b[0mobject\u001b[0m \u001b[1;32mor\u001b[0m \u001b[0mexog\u001b[0m \u001b[1;32mis\u001b[0m \u001b[1;32mnot\u001b[0m \u001b[1;32mNone\u001b[0m \u001b[1;32mand\u001b[0m \u001b[0mexog\u001b[0m\u001b[1;33m.\u001b[0m\u001b[0mdtype\u001b[0m \u001b[1;33m==\u001b[0m \u001b[0mobject\u001b[0m\u001b[1;33m:\u001b[0m\u001b[1;33m\u001b[0m\u001b[1;33m\u001b[0m\u001b[0m\n\u001b[1;32m--> 508\u001b[1;33m             raise ValueError(\"Pandas data cast to numpy dtype of object. \"\n\u001b[0m\u001b[0;32m    509\u001b[0m                              \"Check input data with np.asarray(data).\")\n\u001b[0;32m    510\u001b[0m         \u001b[1;32mreturn\u001b[0m \u001b[0msuper\u001b[0m\u001b[1;33m(\u001b[0m\u001b[0mPandasData\u001b[0m\u001b[1;33m,\u001b[0m \u001b[0mself\u001b[0m\u001b[1;33m)\u001b[0m\u001b[1;33m.\u001b[0m\u001b[0m_convert_endog_exog\u001b[0m\u001b[1;33m(\u001b[0m\u001b[0mendog\u001b[0m\u001b[1;33m,\u001b[0m \u001b[0mexog\u001b[0m\u001b[1;33m)\u001b[0m\u001b[1;33m\u001b[0m\u001b[1;33m\u001b[0m\u001b[0m\n",
      "\u001b[1;31mValueError\u001b[0m: Pandas data cast to numpy dtype of object. Check input data with np.asarray(data)."
     ]
    }
   ],
   "source": [
    "model = VAR(endog=series)\n",
    "model_fit = model.fit()\n",
    "yhat = model_fit.forecast(model_fit.y, steps=len(xtr2))\n",
    "print(yhat)"
   ]
  },
  {
   "cell_type": "code",
   "execution_count": 212,
   "metadata": {},
   "outputs": [],
   "source": [
    "pred1.to_excel(\"pred1.xlsx\")"
   ]
  },
  {
   "cell_type": "code",
   "execution_count": 233,
   "metadata": {},
   "outputs": [],
   "source": [
    "preds = pd.DataFrame(index=range(0,len(yhat)),columns=[cols])\n",
    "for j in range(0,4):\n",
    "    for i in range(0, len(yhat)):\n",
    "        preds.iloc[i][j] = yhat[i][j]"
   ]
  },
  {
   "cell_type": "code",
   "execution_count": 234,
   "metadata": {},
   "outputs": [
    {
     "name": "stdout",
     "output_type": "stream",
     "text": [
      "     BHP.kPag BHT.degC CO2 Injection Rate (kg/s) Magnitude\n",
      "0     22058.2  85.4416                   10.9027 -0.940729\n",
      "1     19609.5  75.5066                   11.6019 -0.975067\n",
      "2     19908.9  76.4923                   11.6602    -1.006\n",
      "3     19875.1  76.2749                   11.7633   -1.0339\n",
      "4     19873.1  76.2318                   11.8304  -1.05919\n",
      "...       ...      ...                       ...       ...\n",
      "3762  19830.9  76.1836                   12.0079  -1.30976\n",
      "3763  19830.9  76.1836                   12.0079  -1.30976\n",
      "3764  19830.9  76.1836                   12.0079  -1.30976\n",
      "3765  19830.9  76.1836                   12.0079  -1.30976\n",
      "3766  19830.9  76.1836                   12.0079  -1.30976\n",
      "\n",
      "[3767 rows x 4 columns]\n"
     ]
    }
   ],
   "source": [
    "print(preds)"
   ]
  },
  {
   "cell_type": "code",
   "execution_count": 245,
   "metadata": {},
   "outputs": [],
   "source": [
    "xtr2.index=xtr2.Time\n",
    "xtr2=xtr2.drop([\"Time\"],axis=1)"
   ]
  },
  {
   "cell_type": "code",
   "execution_count": 246,
   "metadata": {},
   "outputs": [
    {
     "name": "stdout",
     "output_type": "stream",
     "text": [
      "                         BHP.kPag   BHT.degC  CO2 Injection Rate (kg/s)  \\\n",
      "Time                                                                      \n",
      "2017-09-05 01:00:00  19512.001953  99.459999                   0.000000   \n",
      "2017-09-05 01:00:00  20690.994141  95.949036                   0.000000   \n",
      "2017-09-05 01:00:00      0.000000   0.000000                   0.000000   \n",
      "2017-09-05 01:00:00  21483.884766  93.808453                   0.000000   \n",
      "2017-09-05 01:00:00  21457.382138  87.213637                   4.766009   \n",
      "...                           ...        ...                        ...   \n",
      "2018-04-14 10:00:00  22556.289244  84.695237                   9.621316   \n",
      "2018-04-14 10:00:00  22499.263807  84.607716                   9.909309   \n",
      "2018-04-14 10:00:00  22185.050451  82.527439                   9.988746   \n",
      "2018-04-14 10:00:00  22006.487811  83.537594                  10.372742   \n",
      "2018-04-14 10:00:00  22569.918650  84.687885                  10.382856   \n",
      "\n",
      "                     Magnitude  \n",
      "Time                            \n",
      "2017-09-05 01:00:00       -2.1  \n",
      "2017-09-05 01:00:00       -2.1  \n",
      "2017-09-05 01:00:00       -2.1  \n",
      "2017-09-05 01:00:00       -2.1  \n",
      "2017-09-05 01:00:00       -2.1  \n",
      "...                        ...  \n",
      "2018-04-14 10:00:00       -1.2  \n",
      "2018-04-14 10:00:00       -1.2  \n",
      "2018-04-14 10:00:00       -1.2  \n",
      "2018-04-14 10:00:00       -1.2  \n",
      "2018-04-14 10:00:00       -1.2  \n",
      "\n",
      "[3767 rows x 4 columns]\n"
     ]
    }
   ],
   "source": [
    "print(xtr2)"
   ]
  },
  {
   "cell_type": "code",
   "execution_count": 247,
   "metadata": {},
   "outputs": [
    {
     "data": {
      "text/plain": [
       "PeriodIndex(['2017-09', '2017-09', '2017-09', '2017-09', '2017-09', '2017-09',\n",
       "             '2017-09', '2017-09', '2017-09', '2017-09',\n",
       "             ...\n",
       "             '2018-04', '2018-04', '2018-04', '2018-04', '2018-04', '2018-04',\n",
       "             '2018-04', '2018-04', '2018-04', '2018-04'],\n",
       "            dtype='period[M]', name='Time', length=3767, freq='M')"
      ]
     },
     "execution_count": 247,
     "metadata": {},
     "output_type": "execute_result"
    }
   ],
   "source": [
    "xtr2.index = pd.DatetimeIndex(xtr2.index).to_period('M')\n",
    "xtr2.index"
   ]
  },
  {
   "cell_type": "code",
   "execution_count": 261,
   "metadata": {},
   "outputs": [],
   "source": [
    "dt=pd.read_excel(\"dataset.xlsx\")"
   ]
  },
  {
   "cell_type": "code",
   "execution_count": 262,
   "metadata": {},
   "outputs": [],
   "source": [
    "dt[\"Predicted\"]=round(dt[\"Predicted\"],1)"
   ]
  },
  {
   "cell_type": "code",
   "execution_count": 263,
   "metadata": {},
   "outputs": [
    {
     "name": "stdout",
     "output_type": "stream",
     "text": [
      "[ nan -0.8 -0.9 -1.  -1.1 -1.2 -1.3]\n"
     ]
    }
   ],
   "source": [
    "print(dt[\"Predicted\"].unique())\n"
   ]
  },
  {
   "cell_type": "code",
   "execution_count": 304,
   "metadata": {},
   "outputs": [
    {
     "name": "stdout",
     "output_type": "stream",
     "text": [
      "      Unnamed: 0                Time      BHP.kPag   BHT.degC  \\\n",
      "0              0 2017-09-05 01:00:00  19512.001953  99.459999   \n",
      "1              1 2017-09-05 01:00:00  20690.994141  95.949036   \n",
      "2              2 2017-09-05 01:00:00      0.000000   0.000000   \n",
      "3              3 2017-09-05 01:00:00  21483.884766  93.808453   \n",
      "4              4 2017-09-05 01:00:00  21457.382138  87.213637   \n",
      "...          ...                 ...           ...        ...   \n",
      "7528        7528 2018-07-14 01:00:00  22796.368666  83.504283   \n",
      "7529        7529 2018-07-14 01:00:00  22235.685945  80.771699   \n",
      "7530        7530 2018-07-14 01:00:00  22981.394900  84.203909   \n",
      "7531        7531 2018-07-14 01:00:00  22815.453036  84.044647   \n",
      "7532        7532 2018-07-14 01:00:00      0.000000   0.000000   \n",
      "\n",
      "      CO2 Injection Rate (kg/s)  Magnitude  Predicted  \n",
      "0                      0.000000       -2.1        NaN  \n",
      "1                      0.000000       -2.1        NaN  \n",
      "2                      0.000000       -2.1        NaN  \n",
      "3                      0.000000       -2.1        NaN  \n",
      "4                      4.766009       -2.1        NaN  \n",
      "...                         ...        ...        ...  \n",
      "7528                  15.324224       -0.9        NaN  \n",
      "7529                  15.326841       -0.9        NaN  \n",
      "7530                  15.331589       -0.9        NaN  \n",
      "7531                  15.337084       -0.9        NaN  \n",
      "7532                  15.834683       -0.9        NaN  \n",
      "\n",
      "[7533 rows x 7 columns]\n"
     ]
    }
   ],
   "source": [
    "dt=pd.read_excel(\"dt1.xlsx\")\n",
    "print(dt)"
   ]
  },
  {
   "cell_type": "code",
   "execution_count": 320,
   "metadata": {},
   "outputs": [
    {
     "data": {
      "image/png": "[encoded data removed]",
      "text/plain": [
       "<Figure size 432x288 with 1 Axes>"
      ]
     },
     "metadata": {
      "needs_background": "light"
     },
     "output_type": "display_data"
    }
   ],
   "source": [
    "import matplotlib.pyplot as plt\n",
    "import pandas as pd\n",
    "\n",
    "# gca stands for 'get current axis'\n",
    "ax = plt.gca()\n",
    "\n",
    "dm.plot(kind='line',x='Time',y='Magnitude',ax=ax,title=\"Actual vs Predicted seismic events\")\n",
    "dm.plot(kind='line',x='Time',y='Predicted', color='red', ax=ax)\n",
    "ax.legend([\"Actual\",\"Predicted\"])\n",
    "ax.set_xlabel(\"Date/Time\")\n",
    "ax.set_ylabel(\"Magnitude\")\n",
    "\n",
    "plt.show()"
   ]
  },
  {
   "cell_type": "code",
   "execution_count": 311,
   "metadata": {},
   "outputs": [],
   "source": [
    "#dm=dt[\"Time\"].loc['2018-03-01 00:00:00':'2018-04-22 00:00:00']\n",
    "dm=dt[(dt['Time'] > '2018-04-04 00:00:00') & (dt['Time'] <= '2018-04-19 04:00:00')]"
   ]
  },
  {
   "cell_type": "code",
   "execution_count": 288,
   "metadata": {},
   "outputs": [
    {
     "name": "stdout",
     "output_type": "stream",
     "text": [
      "                    Time      BHP.kPag   BHT.degC  CO2 Injection Rate (kg/s)  \\\n",
      "3357 2018-04-08 07:00:00  22594.145248  84.402981                  15.011872   \n",
      "3358 2018-04-08 07:00:00  22651.426325  84.438469                  15.152150   \n",
      "3359 2018-04-08 07:00:00  22359.636972  82.643844                  15.157976   \n",
      "3360 2018-04-08 07:00:00  22544.374191  82.988595                  15.448429   \n",
      "3361 2018-04-08 07:00:00  22671.420463  84.407492                  15.734100   \n",
      "...                  ...           ...        ...                        ...   \n",
      "3793 2018-04-14 22:00:00  22566.624733  84.983835                  10.606561   \n",
      "3794 2018-04-14 22:00:00  21965.881203  82.398746                  10.786184   \n",
      "3795 2018-04-14 22:00:00  22421.842460  83.674695                  11.073179   \n",
      "3796 2018-04-14 22:00:00  22684.118233  84.528652                  11.361265   \n",
      "3797 2018-04-14 22:00:00      0.000000   0.000000                  11.752159   \n",
      "\n",
      "      Magnitude  Predicted  dtime  \n",
      "3357       -1.6        NaN      0  \n",
      "3358       -1.6        NaN      0  \n",
      "3359       -1.6        NaN      0  \n",
      "3360       -1.6        NaN      0  \n",
      "3361       -1.6        NaN      0  \n",
      "...         ...        ...    ...  \n",
      "3793       -1.3        NaN      0  \n",
      "3794       -1.3        NaN      0  \n",
      "3795       -1.3        NaN      0  \n",
      "3796       -1.3        NaN      0  \n",
      "3797       -1.3        NaN      0  \n",
      "\n",
      "[441 rows x 7 columns]\n"
     ]
    }
   ],
   "source": [
    "print(dm)"
   ]
  },
  {
   "cell_type": "code",
   "execution_count": null,
   "metadata": {},
   "outputs": [],
   "source": []
  }
 ],
 "metadata": {
  "kernelspec": {
   "display_name": "Python 3",
   "language": "python",
   "name": "python3"
  },
  "language_info": {
   "codemirror_mode": {
    "name": "ipython",
    "version": 3
   },
   "file_extension": ".py",
   "mimetype": "text/x-python",
   "name": "python",
   "nbconvert_exporter": "python",
   "pygments_lexer": "ipython3",
   "version": "3.7.6"
  }
 },
 "nbformat": 4,
 "nbformat_minor": 4
}
